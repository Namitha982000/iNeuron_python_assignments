{
 "cells": [
  {
   "cell_type": "markdown",
   "id": "7d829e61-3da9-4882-883d-6bf156550d00",
   "metadata": {},
   "source": [
    "# 1. To what does a relative path refer?"
   ]
  },
  {
   "cell_type": "markdown",
   "id": "59792c89-5302-47f1-8799-73412b2efb59",
   "metadata": {},
   "source": [
    "Relative paths are relative to the current working directory. "
   ]
  },
  {
   "cell_type": "markdown",
   "id": "72bef98e-8de5-4c04-9623-1a22327c680a",
   "metadata": {},
   "source": [
    "# 2. What does an absolute path start with your operating system?"
   ]
  },
  {
   "cell_type": "markdown",
   "id": "c1a70f43-ee25-458e-a7c4-2854b38de55c",
   "metadata": {},
   "source": [
    "An absolute paths usually start with the root folder ( C:\\ , / etc)."
   ]
  },
  {
   "cell_type": "markdown",
   "id": "a277775b-7706-4bf3-8274-00b26d4fbc24",
   "metadata": {},
   "source": [
    "# 3. What do the functions os.getcwd() and os.chdir() do?"
   ]
  },
  {
   "cell_type": "markdown",
   "id": "aefbaf10-bc35-4ff7-938d-f0f9c2402ed7",
   "metadata": {},
   "source": [
    "* os.getcwd() -> returns the current working directory.\n",
    "\n",
    "* os.chdir() -> changes the current working directory."
   ]
  },
  {
   "cell_type": "markdown",
   "id": "bbd9c559-254b-4001-af10-36712807be42",
   "metadata": {},
   "source": [
    "# 4. What are the . and .. folders?"
   ]
  },
  {
   "cell_type": "markdown",
   "id": "1c9324d6-7456-4692-a1ff-fdb353aecdac",
   "metadata": {},
   "source": [
    "`.` -> current folder.\n",
    "\n",
    "`..` -> parent folder."
   ]
  },
  {
   "cell_type": "markdown",
   "id": "e3409f9e-2cb5-4a2b-8dd8-fa3ae020bae3",
   "metadata": {},
   "source": [
    "# 5. In C:\\bacon\\eggs\\spam.txt, which part is the dir name, and which part is the base name?"
   ]
  },
  {
   "cell_type": "markdown",
   "id": "79263b73-34e0-47ed-9526-93f2c755e6f8",
   "metadata": {},
   "source": [
    "C:\\bacon\\eggs -> dir name\n",
    "\n",
    "spam.txt -> base name"
   ]
  },
  {
   "cell_type": "markdown",
   "id": "2fe09ce5-6e7d-45d8-8e75-2e4e1ec06ead",
   "metadata": {},
   "source": [
    "# 6. What are the three “mode” arguments that can be passed to the open() function?"
   ]
  },
  {
   "cell_type": "markdown",
   "id": "126f4705-ec7e-49bd-95d3-ddaf4dc811b8",
   "metadata": {},
   "source": [
    "+ **'r'** -> read mode\n",
    "\n",
    "+ **'w'** -> write mode\n",
    "\n",
    "+ **'a'** -> append mode"
   ]
  },
  {
   "cell_type": "markdown",
   "id": "a5ce4a71-c731-45f8-8c41-575819a7e659",
   "metadata": {},
   "source": [
    "# 7. What happens if an existing file is opened in write mode?"
   ]
  },
  {
   "cell_type": "markdown",
   "id": "ff8851c3-ac90-482c-9b98-cc4b4ce414df",
   "metadata": {},
   "source": [
    "If an existing file is opend in write mode, it is erased and can be overwritten."
   ]
  },
  {
   "cell_type": "markdown",
   "id": "3c95dc60-bc60-4514-904b-393218295a78",
   "metadata": {},
   "source": [
    "# 8. How do you tell the difference between read() and readlines()?"
   ]
  },
  {
   "cell_type": "markdown",
   "id": "42656d59-1f84-4bab-b13b-5163b929ec7e",
   "metadata": {},
   "source": [
    "* read() -> returns the file's entire contents as a single string value.\n",
    "\n",
    "* readlines() -> returns each individual string lines from file's content."
   ]
  },
  {
   "cell_type": "markdown",
   "id": "e4cafa8a-2da7-421a-ab9c-31e266a153e7",
   "metadata": {},
   "source": [
    "# 9. What data structure does a shelf value resemble?"
   ]
  },
  {
   "cell_type": "markdown",
   "id": "7cc1dc6d-48f7-4d83-880f-4a3072d67bb4",
   "metadata": {},
   "source": [
    "This is similar to dictionary value and has keys and values. It also has keys() and values() methods which performs similarly to the dictinary methods having same names."
   ]
  }
 ],
 "metadata": {
  "kernelspec": {
   "display_name": "Python 3 (ipykernel)",
   "language": "python",
   "name": "python3"
  },
  "language_info": {
   "codemirror_mode": {
    "name": "ipython",
    "version": 3
   },
   "file_extension": ".py",
   "mimetype": "text/x-python",
   "name": "python",
   "nbconvert_exporter": "python",
   "pygments_lexer": "ipython3",
   "version": "3.10.6"
  }
 },
 "nbformat": 4,
 "nbformat_minor": 5
}
