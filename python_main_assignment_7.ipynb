{
 "cells": [
  {
   "cell_type": "markdown",
   "id": "7bc3d55e-0ec2-4e7a-8b68-8d3f44c4ca58",
   "metadata": {},
   "source": [
    "# 1. What is the name of the feature responsible for generating Regex objects?"
   ]
  },
  {
   "cell_type": "markdown",
   "id": "33658c56-a65e-42ec-a03d-4ee05fe637ad",
   "metadata": {},
   "source": [
    "The Regex object is returned by re.compile()."
   ]
  },
  {
   "cell_type": "markdown",
   "id": "3703f9f5-d94d-4970-b1d5-f7d9667695d4",
   "metadata": {},
   "source": [
    "# 2. Why do raw strings often appear in Regex objects?"
   ]
  },
  {
   "cell_type": "markdown",
   "id": "d2c5d3df-ee4e-403b-801f-a02c04a4fd59",
   "metadata": {},
   "source": [
    "Raw strings are used inorder to avoid the blackslash to  escape."
   ]
  },
  {
   "cell_type": "markdown",
   "id": "86766d05-9228-40a9-a502-a515869de85d",
   "metadata": {},
   "source": [
    "# 3. What is the return value of the search() method?"
   ]
  },
  {
   "cell_type": "markdown",
   "id": "05bc16f4-de59-44cc-82a6-df68eea1981b",
   "metadata": {},
   "source": [
    "Match objects."
   ]
  },
  {
   "cell_type": "markdown",
   "id": "0ecb012d-4cfa-4476-8aa1-96d42dfe3a7b",
   "metadata": {},
   "source": [
    "# 4. From a Match item, how do you get the actual strings that match the pattern?"
   ]
  },
  {
   "cell_type": "markdown",
   "id": "1d12e642-7496-49e1-89af-c32151162138",
   "metadata": {},
   "source": [
    "By using group() method, the strings of the matched item can be returned. "
   ]
  },
  {
   "cell_type": "markdown",
   "id": "9f4d18bb-a3fc-4ca4-b2e9-7b538cf2c18d",
   "metadata": {},
   "source": [
    "# 5. In the regex which created from the r&#39;(\\d\\d\\d)-(\\d\\d\\d-\\d\\d\\d\\d)&#39;, what does group zero cover? Group 2? Group 1?"
   ]
  },
  {
   "cell_type": "markdown",
   "id": "c24e85d7-6204-403e-8268-0177475ba666",
   "metadata": {},
   "source": [
    "Group 0 is the whole match, group 1 is till first set of pareantheses ans group 2 covers the second set of parantheses"
   ]
  },
  {
   "cell_type": "markdown",
   "id": "dd7c0810-df5c-45bd-ad62-341bb53e68ce",
   "metadata": {},
   "source": [
    "# 6. In standard expression syntax, parentheses and intervals have distinct meanings. How can you tell a regex that you want it to fit real parentheses and periods?"
   ]
  },
  {
   "cell_type": "markdown",
   "id": "99a8ecf0-d75b-4d5d-a779-7cb64576cfc3",
   "metadata": {},
   "source": [
    "periods and parantheses can be escaped with `\\`, `\\(, and \\)`"
   ]
  },
  {
   "cell_type": "markdown",
   "id": "f6b1054a-02aa-4fe7-95f2-33b68dc10cc4",
   "metadata": {},
   "source": [
    "# 7. The findall() method returns a string list or a list of string tuples. What causes it to return one of the two options?"
   ]
  },
  {
   "cell_type": "markdown",
   "id": "30afbcc5-be21-46ba-89e7-73ce5f9231fe",
   "metadata": {},
   "source": [
    "If the regex has no groups then a list of strings is returned. Whereas, If the regex has groups then a list of string tuples is returned."
   ]
  },
  {
   "cell_type": "markdown",
   "id": "18c459f1-921d-406c-8f70-974d277b8b5d",
   "metadata": {},
   "source": [
    "# 8. In standard expressions, what does the | character mean?"
   ]
  },
  {
   "cell_type": "markdown",
   "id": "46aade5e-f5e6-4ff4-bdcb-47372a8a458e",
   "metadata": {},
   "source": [
    "The | character refers \" either , or \" between two groups."
   ]
  },
  {
   "cell_type": "markdown",
   "id": "75fabf08-847f-4173-8a8f-8f33cabae239",
   "metadata": {},
   "source": [
    "# 9. In regular expressions, what does the  character stand for?"
   ]
  },
  {
   "cell_type": "markdown",
   "id": "87d24c88-5953-4a8c-bde6-237a198de2b9",
   "metadata": {},
   "source": [
    "--"
   ]
  },
  {
   "cell_type": "markdown",
   "id": "0248f727-aa23-42ee-b452-af4bc614147d",
   "metadata": {},
   "source": [
    "# 10.In regular expressions, what is the difference between the + and * characters?"
   ]
  },
  {
   "cell_type": "markdown",
   "id": "6717e03b-0515-40a6-8593-bf7d56cd2d9e",
   "metadata": {},
   "source": [
    "The + matches one or more. The  * matches zero or more."
   ]
  },
  {
   "cell_type": "markdown",
   "id": "36ac72ea-7bae-4bdc-8394-e443ce94d11f",
   "metadata": {},
   "source": [
    "# 11. What is the difference between {4} and {4,5} in regular expression?|"
   ]
  },
  {
   "cell_type": "markdown",
   "id": "3d337512-0757-4811-b82c-5c95880b3e3f",
   "metadata": {},
   "source": [
    "The {4} matches exactly three preceding group instances. Whereas, the {4,5} matches between four and five instances."
   ]
  },
  {
   "cell_type": "markdown",
   "id": "dfb68c40-871b-44d7-8ed4-059c81729dcb",
   "metadata": {},
   "source": [
    "# 12. What do you mean by the \\d, \\w, and \\s shorthand character classes signify in regular expressions?"
   ]
  },
  {
   "cell_type": "markdown",
   "id": "ff37f07e-496d-441f-b3e6-1aabdb73956b",
   "metadata": {},
   "source": [
    " \\d = single digit, \\w = word and \\s = space character."
   ]
  },
  {
   "cell_type": "markdown",
   "id": "5272cc1c-fb74-4121-8bc6-f32ab7c2dd5c",
   "metadata": {},
   "source": [
    "# 13. What do means by \\D, \\W, and \\S shorthand character classes signify in regular expressions?"
   ]
  },
  {
   "cell_type": "markdown",
   "id": "01dff9da-a1a8-4f8b-a5c8-a61570415a56",
   "metadata": {},
   "source": [
    "\\D = Single character that is not a digit, \\W = word and \\S space character."
   ]
  },
  {
   "cell_type": "markdown",
   "id": "576aae71-13bc-4a6d-bb3a-39295199ff79",
   "metadata": {},
   "source": [
    "# 14. What is the difference between .`*` and .`*`?"
   ]
  },
  {
   "cell_type": "markdown",
   "id": "dceb031f-8041-42b1-b194-3d2486349990",
   "metadata": {},
   "source": [
    ".`*` = performs greedy match.\n",
    "\n",
    ".`*`? = performs non greedy match."
   ]
  },
  {
   "cell_type": "markdown",
   "id": "ecb66bad-409f-4108-a84b-82b7f964d5e1",
   "metadata": {},
   "source": [
    "# 15. What is the syntax for matching both numbers and lowercase letters with a character class?"
   ]
  },
  {
   "cell_type": "markdown",
   "id": "25cbdb67-3cef-4fc5-8f1f-e6ccc6a78bb1",
   "metadata": {},
   "source": [
    "Either [0-9 a - z] or [a - z 0 -9]"
   ]
  },
  {
   "cell_type": "markdown",
   "id": "3ad51206-73b3-4266-9965-992c02b23c79",
   "metadata": {},
   "source": [
    "# 16. What is the procedure for making a normal expression in regax case insensitive?"
   ]
  },
  {
   "cell_type": "markdown",
   "id": "d1f1d7bf-95fc-4f16-b3c7-d0cbe9ac2fab",
   "metadata": {},
   "source": [
    "This can be achieved by passing re.I or re.IGNORECASE as second argument to re.compile()."
   ]
  },
  {
   "cell_type": "markdown",
   "id": "8cb37cf3-3ebe-4fb3-b296-4644974ecec6",
   "metadata": {},
   "source": [
    "# 17. What does the . character normally match? What does it match if re.DOTALL is passed as 2nd argument in re.compile()?"
   ]
  },
  {
   "cell_type": "markdown",
   "id": "ac60f508-5cac-417a-a816-c4aeac5794b0",
   "metadata": {},
   "source": [
    "The .character usually matches any character except the newline charater. Inorder to match newline character with dot, re.DOTALL should be passed as the second argument to re.compile()."
   ]
  },
  {
   "cell_type": "markdown",
   "id": "c5d6da6e-95fa-4cc4-9caf-93b0b4553207",
   "metadata": {},
   "source": [
    "# 18. If numReg = re.compile(r&#39;\\d+&#39;), what will numRegex.sub(&#39;X&#39;, &#39;11 drummers, 10 pipers, five rings, 4 hen&#39;) return?"
   ]
  },
  {
   "cell_type": "markdown",
   "id": "c0564ccb-84eb-41d7-9d13-3664cac3cf60",
   "metadata": {},
   "source": [
    "' X drummers, X pipers , five rings, X hens'"
   ]
  },
  {
   "cell_type": "markdown",
   "id": "525ce227-266b-41fc-8532-8b67210e7333",
   "metadata": {},
   "source": [
    "# 19. What does passing re.VERBOSE as the 2nd argument to re.compile() allow to do?"
   ]
  },
  {
   "cell_type": "markdown",
   "id": "49a560c0-f6d8-4cf4-bc19-b42cbdbc395f",
   "metadata": {},
   "source": [
    "The re.VERBOSE permits to add whitespace and comments to the string passed to re.compile()."
   ]
  },
  {
   "cell_type": "markdown",
   "id": "20159708-d02d-44cf-8c36-d7e011642b64",
   "metadata": {},
   "source": [
    "# 20. How would you write a regex that match a number with comma for every three digits? It must match the given following:\n",
    "\n",
    "### &#39;42&#39;\n",
    "\n",
    "### &#39;1,234&#39;\n",
    "\n",
    "### &#39;6,368,745&#39;\n",
    "\n",
    "# but not the following:\n",
    "### &#39;12,34,567&#39; (which has only two digits between the commas)\n",
    "\n",
    "### &#39;1234&#39; (which lacks commas)"
   ]
  },
  {
   "cell_type": "markdown",
   "id": "4a28206c-5174-4b83-a046-dc27de99e34e",
   "metadata": {},
   "source": [
    "e.compile(r'^\\d{1,3}(,{3})*$') will create this regex, but other regex strings can produce a similar regualr expression."
   ]
  },
  {
   "cell_type": "markdown",
   "id": "8185e20d-a594-442f-ad6f-2db5426fa945",
   "metadata": {},
   "source": [
    "# 21. How would you write a regex that matches the full name of someone whose last name is Watanabe? You can assume that the first name that comes before it will always be one word that begins with a capital letter. The regex must match the following: \n",
    "\n",
    "### &#39;Haruto Watanabe&#39;\n",
    "\n",
    "### &#39;Alice Watanabe&#39;\n",
    "\n",
    "### &#39;RoboCop Watanabe&#39;\n",
    "\n",
    "# but not the following:\n",
    "\n",
    "### &#39;haruto Watanabe&#39; (where the first name is not capitalized)\n",
    "\n",
    "### &#39;Mr. Watanabe&#39; (where the preceding word has a nonletter character)\n",
    "\n",
    "### &#39;Watanabe&#39; (which has no first name)\n",
    "\n",
    "### &#39;Haruto watanabe&#39; (where Watanabe is not capitalized)"
   ]
  },
  {
   "cell_type": "markdown",
   "id": "306f7939-34e0-4d55-9bad-3a2e657b78a2",
   "metadata": {},
   "source": [
    "re.compile(r'[A-Z][a-z]*\\sWatanabe')"
   ]
  },
  {
   "cell_type": "markdown",
   "id": "444b4c5a-6a6f-45bd-8200-36d6106b0840",
   "metadata": {},
   "source": [
    "# 22. How would you write a regex that matches a sentence where the first word is either Alice, Bob, or Carol; the second word is either eats, pets, or throws; the third word is apples, cats, or baseballs; and the sentence ends with a period? This regex should be case-insensitive. It must match the following:\n",
    "\n",
    "### &#39;Alice eats apples.&#39;\n",
    "\n",
    "### &#39;Bob pets cats.&#39;\n",
    "\n",
    "### &#39;Carol throws baseballs.&#39;\n",
    "\n",
    "### &#39;Alice throws Apples.&#39;\n",
    "\n",
    "### &#39;BOB EATS CATS.&#39;\n",
    "\n",
    "# but not the following:\n",
    "\n",
    "### &#39;RoboCop eats apples.&#39;\n",
    "\n",
    "### &#39;ALICE THROWS FOOTBALLS.&#39;\n",
    "\n",
    "### &#39;Carol eats 7 cats.&#39;"
   ]
  },
  {
   "cell_type": "markdown",
   "id": "69fe9c40-dde8-4115-b92e-dc5dcc855c93",
   "metadata": {},
   "source": [
    "re.compile(r'(Alice | Bob | Carol)\\s(eats | pets | throws)\\s(apples | cats | baseballs)\\.',re.IGNORECASE)."
   ]
  }
 ],
 "metadata": {
  "kernelspec": {
   "display_name": "Python 3 (ipykernel)",
   "language": "python",
   "name": "python3"
  },
  "language_info": {
   "codemirror_mode": {
    "name": "ipython",
    "version": 3
   },
   "file_extension": ".py",
   "mimetype": "text/x-python",
   "name": "python",
   "nbconvert_exporter": "python",
   "pygments_lexer": "ipython3",
   "version": "3.10.6"
  }
 },
 "nbformat": 4,
 "nbformat_minor": 5
}
