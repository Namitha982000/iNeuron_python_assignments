{
 "cells": [
  {
   "cell_type": "markdown",
   "id": "797dabb1-7038-431d-ba6d-41c474a30a0c",
   "metadata": {},
   "source": [
    "# 1. Write a Python program to print &quot;Hello Python&quot;?"
   ]
  },
  {
   "cell_type": "code",
   "execution_count": 1,
   "id": "9744741f-a35c-4c21-82b2-0ff7745449e5",
   "metadata": {},
   "outputs": [
    {
     "name": "stdout",
     "output_type": "stream",
     "text": [
      "Hello Python\n"
     ]
    }
   ],
   "source": [
    "print(\"Hello Python\")"
   ]
  },
  {
   "cell_type": "markdown",
   "id": "11c51da6-3bd4-4797-8b3d-8e74098c86ab",
   "metadata": {},
   "source": [
    "# 2. Write a Python program to do arithmetical operations addition and division.?"
   ]
  },
  {
   "cell_type": "code",
   "execution_count": 3,
   "id": "1d1b51a5-5d64-4ec5-930a-f6f467ba8a45",
   "metadata": {},
   "outputs": [
    {
     "name": "stdout",
     "output_type": "stream",
     "text": [
      "9\n",
      "2.0\n"
     ]
    }
   ],
   "source": [
    "a = 6\n",
    "b = 3\n",
    "\n",
    "add = a + b\n",
    "print(add)\n",
    "\n",
    "div = a / b\n",
    "print(div)"
   ]
  },
  {
   "cell_type": "markdown",
   "id": "2016edf8-ba23-42d3-bffe-042d7acb747c",
   "metadata": {},
   "source": [
    "# 3. Write a Python program to find the area of a triangle?"
   ]
  },
  {
   "cell_type": "code",
   "execution_count": 4,
   "id": "9fe511cc-18f3-4731-a25b-30451ab245db",
   "metadata": {},
   "outputs": [
    {
     "name": "stdout",
     "output_type": "stream",
     "text": [
      "12.5\n"
     ]
    }
   ],
   "source": [
    "base = 5\n",
    "height = 5\n",
    "\n",
    "area_triangle = 0.5 * base * height\n",
    "\n",
    "print(area_triangle)"
   ]
  },
  {
   "cell_type": "markdown",
   "id": "047a84e5-7999-48f8-8dca-522fdf1932ad",
   "metadata": {},
   "source": [
    "# 4. Write a Python program to swap two variables?"
   ]
  },
  {
   "cell_type": "code",
   "execution_count": 9,
   "id": "bb92b04b-0e45-4a87-ab3f-415aec71eefc",
   "metadata": {},
   "outputs": [
    {
     "name": "stdout",
     "output_type": "stream",
     "text": [
      "a =  6\n",
      "b =  5\n"
     ]
    }
   ],
   "source": [
    "a = 5 \n",
    "b = 6\n",
    "\n",
    "temp = a\n",
    "a = b\n",
    "b = temp\n",
    "\n",
    "print(\"a = \",a)\n",
    "print(\"b = \",b)\n"
   ]
  },
  {
   "cell_type": "markdown",
   "id": "19e619c1-c274-482e-a030-2829eede955a",
   "metadata": {},
   "source": [
    "# 5. Write a Python program to generate a random number?"
   ]
  },
  {
   "cell_type": "code",
   "execution_count": 13,
   "id": "09c0eaac-6dc1-4ab8-920b-83e994ecd4c2",
   "metadata": {},
   "outputs": [
    {
     "name": "stdout",
     "output_type": "stream",
     "text": [
      "random numbers are: \n",
      "[92, 58, 14, 42, 50, 49, 87, 78, 47, 35, 66, 51, 57, 54, 6]\n"
     ]
    }
   ],
   "source": [
    "import random\n",
    "\n",
    "random_list = []\n",
    "\n",
    "for i in range(15):\n",
    "    \n",
    "    r = random.randint(1,100)\n",
    "    \n",
    "    if r not in random_list:\n",
    "        random_list.append(r)\n",
    "        \n",
    "print(\"random numbers are: \")\n",
    "print(random_list)"
   ]
  }
 ],
 "metadata": {
  "kernelspec": {
   "display_name": "Python 3 (ipykernel)",
   "language": "python",
   "name": "python3"
  },
  "language_info": {
   "codemirror_mode": {
    "name": "ipython",
    "version": 3
   },
   "file_extension": ".py",
   "mimetype": "text/x-python",
   "name": "python",
   "nbconvert_exporter": "python",
   "pygments_lexer": "ipython3",
   "version": "3.10.6"
  }
 },
 "nbformat": 4,
 "nbformat_minor": 5
}
