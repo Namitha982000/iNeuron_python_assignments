{
 "cells": [
  {
   "cell_type": "markdown",
   "id": "3d2449b8-70ee-4086-997d-0a94af4d6f7f",
   "metadata": {},
   "source": [
    "# 1. In what modes should the PdfFileReader() and PdfFileWriter() File objects will be opened?"
   ]
  },
  {
   "cell_type": "markdown",
   "id": "4c12cac1-1eef-4524-bf9a-2f2d09395293",
   "metadata": {},
   "source": [
    "PdfFileReader() and PdfFileWriter() will be opened in binary mode. \n",
    "\n",
    "* For pdfFileReader() -> readbinary(rb) \n",
    "\n",
    "* For PdfFileWriter() -> writebinary (wb)."
   ]
  },
  {
   "cell_type": "markdown",
   "id": "d1d12b1a-9d11-499c-aa4a-6d84b2c4e9d8",
   "metadata": {},
   "source": [
    "# 2. From a PdfFileReader object, how do you get a Page object for page 5?"
   ]
  },
  {
   "cell_type": "markdown",
   "id": "af16ab2c-da0f-4412-8361-badb58b8bc18",
   "metadata": {},
   "source": [
    "getPage(4) is called inorder to get a page 5."
   ]
  },
  {
   "cell_type": "markdown",
   "id": "f93d901e-4caa-4be7-aad0-53bb126ce1be",
   "metadata": {},
   "source": [
    "# 3. What PdfFileReader variable stores the number of pages in the PDF document?"
   ]
  },
  {
   "cell_type": "markdown",
   "id": "c4e3e316-f8dd-433e-a672-d861b65223f2",
   "metadata": {},
   "source": [
    "Using pdfReader.numPages"
   ]
  },
  {
   "cell_type": "markdown",
   "id": "dcf27a46-e9b1-46b2-ba5f-3e5953e8561a",
   "metadata": {},
   "source": [
    "# 4. If a PdfFileReader object’s PDF is encrypted with the password swordfish, what must you do before you can obtain Page objects from it?"
   ]
  },
  {
   "cell_type": "markdown",
   "id": "37ad050f-012d-4074-b390-6210765091b5",
   "metadata": {},
   "source": [
    "First the pdf has to be decrypted by calling .decrypt('swordfish') then we can obtain the page object."
   ]
  },
  {
   "cell_type": "markdown",
   "id": "95c0780c-adf3-447c-9076-f1331d747466",
   "metadata": {},
   "source": [
    "# 5. What methods do you use to rotate a page?"
   ]
  },
  {
   "cell_type": "markdown",
   "id": "931869fe-d4a9-4f29-998d-ea0fbade78af",
   "metadata": {},
   "source": [
    "pageObj.rotateClockwise , GetRotation(), SetRotation()."
   ]
  },
  {
   "cell_type": "markdown",
   "id": "18bb8c64-9f17-4cd9-a2e1-6c48c235054b",
   "metadata": {},
   "source": [
    "# 6. What is the difference between a Run object and a Paragraph object?"
   ]
  },
  {
   "cell_type": "markdown",
   "id": "b53c53f6-eaa1-454e-8042-cbab5d7dac16",
   "metadata": {},
   "source": [
    "* Run Objects : They are the group of characters of same style within a paragraph.\n",
    "\n",
    "* Paragraph Objects : A document contains more number of paragraphs. A paragraph starts on a new line and contains multiple runs. The document object contains a list of paragraphs in the document."
   ]
  },
  {
   "cell_type": "markdown",
   "id": "59faafee-332c-4f54-956c-31f57620f690",
   "metadata": {},
   "source": [
    "# 7. How do you obtain a list of Paragraph objects for a Document object that’s stored in a variable named doc?"
   ]
  },
  {
   "cell_type": "markdown",
   "id": "f64e6421-7fee-4a16-8696-237b29777e48",
   "metadata": {},
   "source": [
    "Using doc.paragraphs"
   ]
  },
  {
   "cell_type": "code",
   "execution_count": null,
   "id": "19f7611d-b547-4fc8-933c-dee03de0ea6c",
   "metadata": {},
   "outputs": [],
   "source": [
    "import docx\n",
    "\n",
    "doc = docx.Document('hello.docx')\n",
    "doc.paragraphs"
   ]
  },
  {
   "cell_type": "markdown",
   "id": "9f514412-576e-495a-868f-7ae8823daa2e",
   "metadata": {},
   "source": [
    "# 8. What type of object has bold, underline, italic, strike, and outline variables?"
   ]
  },
  {
   "cell_type": "markdown",
   "id": "e296028a-c60f-4c94-8c81-f69d98118eb7",
   "metadata": {},
   "source": [
    "Run object has bold, underline, italic, strike and outline variables."
   ]
  },
  {
   "cell_type": "markdown",
   "id": "ece1ad54-0ce6-4c30-b121-ebbd8d0886f5",
   "metadata": {},
   "source": [
    "# 9. What is the difference between False, True, and None for the bold variable?"
   ]
  },
  {
   "cell_type": "markdown",
   "id": "94d22577-37d9-46a6-bfbd-0e1bc7cc6a49",
   "metadata": {},
   "source": [
    "* -> True = The attribute is always enabled .\n",
    "\n",
    "  -> True object always makes the run objects bolded.\n",
    "\n",
    "\n",
    "* -> False = The attribute is always disabled.\n",
    "\n",
    "  -> False objects always makes the run objects not bolded.\n",
    "  \n",
    "  \n",
    "* -> None = Defaultly set to whatever the run style is set.\n",
    "\n",
    "  -> None always makes the run object to just use the style's bold setting."
   ]
  },
  {
   "cell_type": "markdown",
   "id": "721ada11-7235-4207-a8f3-0a957215351a",
   "metadata": {},
   "source": [
    "# 10. How do you create a Document object for a new Word document?"
   ]
  },
  {
   "cell_type": "markdown",
   "id": "cdf676d7-4446-4f9a-8f39-4f34117de622",
   "metadata": {},
   "source": [
    "docx.Document() must be called to create a document object for a new word document."
   ]
  },
  {
   "cell_type": "markdown",
   "id": "fc135c3d-ee7a-4eae-8c75-fbfdc9a66f20",
   "metadata": {},
   "source": [
    "# 11. How do you add a paragraph with the text &#39;Hello, there!&#39; to a Document object stored in a variable named doc?"
   ]
  },
  {
   "cell_type": "code",
   "execution_count": 2,
   "id": "fbaaeefa-b674-43f3-b4b6-941ff61f0c38",
   "metadata": {},
   "outputs": [
    {
     "name": "stdout",
     "output_type": "stream",
     "text": [
      "Collecting python-docx\n",
      "  Downloading python-docx-0.8.11.tar.gz (5.6 MB)\n",
      "\u001b[2K     \u001b[90m━━━━━━━━━━━━━━━━━━━━━━━━━━━━━━━━━━━━━━━━\u001b[0m \u001b[32m5.6/5.6 MB\u001b[0m \u001b[31m39.0 MB/s\u001b[0m eta \u001b[36m0:00:00\u001b[0m00:01\u001b[0m00:01\u001b[0m\n",
      "\u001b[?25h  Preparing metadata (setup.py) ... \u001b[?25ldone\n",
      "\u001b[?25hCollecting lxml>=2.3.2\n",
      "  Downloading lxml-4.9.2-cp310-cp310-manylinux_2_17_x86_64.manylinux2014_x86_64.manylinux_2_24_x86_64.whl (7.1 MB)\n",
      "\u001b[2K     \u001b[90m━━━━━━━━━━━━━━━━━━━━━━━━━━━━━━━━━━━━━━━━\u001b[0m \u001b[32m7.1/7.1 MB\u001b[0m \u001b[31m45.3 MB/s\u001b[0m eta \u001b[36m0:00:00\u001b[0m00:01\u001b[0m00:01\u001b[0m\n",
      "\u001b[?25hBuilding wheels for collected packages: python-docx\n",
      "  Building wheel for python-docx (setup.py) ... \u001b[?25ldone\n",
      "\u001b[?25h  Created wheel for python-docx: filename=python_docx-0.8.11-py3-none-any.whl size=184489 sha256=a53803bedc3b5783f51a802c8f7210c1957637f79a66beba6ecf5aaebaa1c52f\n",
      "  Stored in directory: /home/jovyan/.cache/pip/wheels/65/e1/9b/0c38fe6cfe02a9fe31cb6b4efd90985f17354d7f77872f2def\n",
      "Successfully built python-docx\n",
      "Installing collected packages: lxml, python-docx\n",
      "Successfully installed lxml-4.9.2 python-docx-0.8.11\n",
      "Note: you may need to restart the kernel to use updated packages.\n"
     ]
    }
   ],
   "source": [
    "pip install python-docx"
   ]
  },
  {
   "cell_type": "code",
   "execution_count": 3,
   "id": "6d952ab4-cf22-4ab5-8c56-1fad1c14fbc8",
   "metadata": {},
   "outputs": [],
   "source": [
    "import docx\n",
    "doc = docx.Document()\n",
    "\n",
    "doc.add_paragraph('Hello, there!')\n",
    "doc.save('hellothere.docx')"
   ]
  },
  {
   "cell_type": "markdown",
   "id": "52e8ec83-87f7-4478-843a-f6178f380ab3",
   "metadata": {},
   "source": [
    "# 12. What integers represent the levels of headings available in Word documents?"
   ]
  },
  {
   "cell_type": "markdown",
   "id": "959990eb-8604-469d-b725-fc692f034413",
   "metadata": {},
   "source": [
    "Integers from 0 - 4.\n",
    "\n",
    "* 0 -> makes the heading the Title style.\n",
    "\n",
    "* 1 -> main heading.\n",
    "\n",
    "* 4 -> lowest sub heading."
   ]
  }
 ],
 "metadata": {
  "kernelspec": {
   "display_name": "Python 3 (ipykernel)",
   "language": "python",
   "name": "python3"
  },
  "language_info": {
   "codemirror_mode": {
    "name": "ipython",
    "version": 3
   },
   "file_extension": ".py",
   "mimetype": "text/x-python",
   "name": "python",
   "nbconvert_exporter": "python",
   "pygments_lexer": "ipython3",
   "version": "3.10.6"
  }
 },
 "nbformat": 4,
 "nbformat_minor": 5
}
