{
 "cells": [
  {
   "cell_type": "markdown",
   "id": "d0afd04c-e559-4038-9bd4-cef5f6e616c2",
   "metadata": {},
   "source": [
    "# Programming Assignment 19"
   ]
  },
  {
   "cell_type": "markdown",
   "id": "225c8ff5-449b-4fd9-bdfa-656c424fe0aa",
   "metadata": {},
   "source": [
    "#### Question1\n",
    "#### Create a function that takes a string and returns a string in which each character is repeated once.\n",
    "\n",
    "Examples\n",
    "\n",
    "double_char(\"String\") ➞ \"SSttrriinngg\"\n",
    "\n",
    "double_char(\"Hello World!\") ➞ \"HHeelllloo  WWoorrlldd!!\"\n",
    "\n",
    "double_char(\"1234!_ \") ➞ \"11223344!!__  \""
   ]
  },
  {
   "cell_type": "code",
   "execution_count": 1,
   "id": "16471937-fc36-40d4-970e-5a55d5695226",
   "metadata": {},
   "outputs": [],
   "source": [
    "def double_char(txt):\n",
    "    result = \"\"\n",
    "    for char in txt:\n",
    "        result += char * 2\n",
    "    return result\n"
   ]
  },
  {
   "cell_type": "code",
   "execution_count": 2,
   "id": "abecc8b6-06d0-44c7-afd3-29bbb03f803f",
   "metadata": {},
   "outputs": [
    {
     "data": {
      "text/plain": [
       "'SSttrriinngg'"
      ]
     },
     "execution_count": 2,
     "metadata": {},
     "output_type": "execute_result"
    }
   ],
   "source": [
    "double_char(\"String\") "
   ]
  },
  {
   "cell_type": "code",
   "execution_count": 3,
   "id": "e8f5ba38-5e7f-40e7-9788-ff42dc2ca9c7",
   "metadata": {},
   "outputs": [
    {
     "data": {
      "text/plain": [
       "'HHeelllloo  WWoorrlldd!!'"
      ]
     },
     "execution_count": 3,
     "metadata": {},
     "output_type": "execute_result"
    }
   ],
   "source": [
    "double_char(\"Hello World!\")"
   ]
  },
  {
   "cell_type": "code",
   "execution_count": 4,
   "id": "7cd5ce6e-2f66-4ba4-b8e9-48210195da2d",
   "metadata": {},
   "outputs": [
    {
     "data": {
      "text/plain": [
       "'11223344!!__  '"
      ]
     },
     "execution_count": 4,
     "metadata": {},
     "output_type": "execute_result"
    }
   ],
   "source": [
    "double_char(\"1234!_ \")"
   ]
  },
  {
   "cell_type": "markdown",
   "id": "5cc327e6-c844-4b30-ac70-d13facf23e3f",
   "metadata": {},
   "source": [
    "#### Question2\n",
    "#### Create a function that reverses a boolean value and returns the string \"boolean expected\" if another variable type is given.\n",
    "\n",
    "Examples\n",
    "\n",
    "reverse(True) ➞ False\n",
    "\n",
    "reverse(False) ➞ True\n",
    "\n",
    "reverse(0) ➞ \"boolean expected\"\n",
    "\n",
    "reverse(None) ➞ \"boolean expected\""
   ]
  },
  {
   "cell_type": "code",
   "execution_count": 5,
   "id": "7cea0930-3603-45e8-adc2-9175dfdd3478",
   "metadata": {},
   "outputs": [],
   "source": [
    "def reverse(bool_val):\n",
    "    if isinstance(bool_val, bool):\n",
    "        return not bool_val\n",
    "    else:\n",
    "        return \"boolean expected\"\n"
   ]
  },
  {
   "cell_type": "code",
   "execution_count": 6,
   "id": "a1f2801c-2fe3-42f3-8ec8-0d01f598f159",
   "metadata": {},
   "outputs": [
    {
     "data": {
      "text/plain": [
       "False"
      ]
     },
     "execution_count": 6,
     "metadata": {},
     "output_type": "execute_result"
    }
   ],
   "source": [
    "reverse(True)"
   ]
  },
  {
   "cell_type": "code",
   "execution_count": 7,
   "id": "f83d4df3-1c33-415b-9eab-016fb904a23b",
   "metadata": {},
   "outputs": [
    {
     "data": {
      "text/plain": [
       "True"
      ]
     },
     "execution_count": 7,
     "metadata": {},
     "output_type": "execute_result"
    }
   ],
   "source": [
    "reverse(False)"
   ]
  },
  {
   "cell_type": "code",
   "execution_count": 8,
   "id": "0f60a436-f573-4916-949e-0d00d2a53743",
   "metadata": {},
   "outputs": [
    {
     "data": {
      "text/plain": [
       "'boolean expected'"
      ]
     },
     "execution_count": 8,
     "metadata": {},
     "output_type": "execute_result"
    }
   ],
   "source": [
    "reverse(0) "
   ]
  },
  {
   "cell_type": "code",
   "execution_count": 9,
   "id": "8e99e7a4-35bc-46cb-ab11-f0929f45888b",
   "metadata": {},
   "outputs": [
    {
     "data": {
      "text/plain": [
       "'boolean expected'"
      ]
     },
     "execution_count": 9,
     "metadata": {},
     "output_type": "execute_result"
    }
   ],
   "source": [
    "reverse(None) "
   ]
  },
  {
   "cell_type": "markdown",
   "id": "8e391e19-07f1-4432-85ff-3a937d74c488",
   "metadata": {},
   "source": [
    "#### Question3\n",
    "\n",
    "#### Create a function that returns the thickness (in meters) of a piece of paper after folding it n number of times. The paper starts off with a thickness of 0.5mm.\n",
    "\n",
    "Examples\n",
    "\n",
    "num_layers(1) ➞ \"0.001m\"\n",
    "\n",
    "Paper folded once is 1mm (equal to 0.001m)\n",
    "\n",
    "num_layers(4) ➞ \"0.008m\"\n",
    "\n",
    "Paper folded 4 times is 8mm (equal to 0.008m)\n",
    "\n",
    "num_layers(21) ➞ \"1048.576m\"\n",
    "\n",
    "Paper folded 21 times is 1048576mm (equal to 1048.576m)\n"
   ]
  },
  {
   "cell_type": "code",
   "execution_count": 10,
   "id": "c38dc68d-1823-4b60-b7ec-02f169d42427",
   "metadata": {},
   "outputs": [],
   "source": [
    "def num_layers(n):\n",
    "    thickness = 0.5 # thickness in mm\n",
    "    for i in range(n):\n",
    "        thickness *= 2 # multiply thickness by 2 for each fold\n",
    "    thickness_m = thickness / 1000 # convert to meters\n",
    "    return \"{:.3f}m\".format(thickness_m) # format the result to 3 decimal places\n"
   ]
  },
  {
   "cell_type": "code",
   "execution_count": 11,
   "id": "8428edba-2204-47c6-b284-118fc11a8d07",
   "metadata": {},
   "outputs": [
    {
     "data": {
      "text/plain": [
       "'0.001m'"
      ]
     },
     "execution_count": 11,
     "metadata": {},
     "output_type": "execute_result"
    }
   ],
   "source": [
    "num_layers(1)"
   ]
  },
  {
   "cell_type": "code",
   "execution_count": 12,
   "id": "3e275c61-4451-47fa-b61c-8dc8d8c807e9",
   "metadata": {},
   "outputs": [
    {
     "data": {
      "text/plain": [
       "'0.008m'"
      ]
     },
     "execution_count": 12,
     "metadata": {},
     "output_type": "execute_result"
    }
   ],
   "source": [
    "num_layers(4)"
   ]
  },
  {
   "cell_type": "code",
   "execution_count": 13,
   "id": "7c9103f9-a83c-4626-a57b-b04ea3493996",
   "metadata": {},
   "outputs": [
    {
     "data": {
      "text/plain": [
       "'1048.576m'"
      ]
     },
     "execution_count": 13,
     "metadata": {},
     "output_type": "execute_result"
    }
   ],
   "source": [
    "num_layers(21) "
   ]
  },
  {
   "cell_type": "markdown",
   "id": "f56b2091-cd82-4c8b-bffe-692bbf6b6ea8",
   "metadata": {},
   "source": [
    "#### Question4\n",
    "#### Create a function that takes a single string as argument and returns an ordered list containing the indices of all capital letters in the string.\n",
    "\n",
    "Examples\n",
    "\n",
    "index_of_caps(\"eDaBiT\") ➞ [1, 3, 5]\n",
    "\n",
    "index_of_caps(\"eQuINoX\") ➞ [1, 3, 4, 6]\n",
    "\n",
    "index_of_caps(\"determine\") ➞ []\n",
    "\n",
    "index_of_caps(\"STRIKE\") ➞ [0, 1, 2, 3, 4, 5]\n",
    "\n",
    "index_of_caps(\"sUn\") ➞ [1]"
   ]
  },
  {
   "cell_type": "code",
   "execution_count": 14,
   "id": "5c07470f-817e-49bb-8082-eee7aec96d63",
   "metadata": {},
   "outputs": [],
   "source": [
    "def index_of_caps(word):\n",
    "    caps_indices = []\n",
    "    for i in range(len(word)):\n",
    "        if word[i].isupper():\n",
    "            caps_indices.append(i)\n",
    "    return caps_indices\n"
   ]
  },
  {
   "cell_type": "code",
   "execution_count": 15,
   "id": "7df85d31-bcbf-485c-8254-002c1cf52618",
   "metadata": {},
   "outputs": [
    {
     "data": {
      "text/plain": [
       "[1, 3, 5]"
      ]
     },
     "execution_count": 15,
     "metadata": {},
     "output_type": "execute_result"
    }
   ],
   "source": [
    "index_of_caps(\"eDaBiT\")"
   ]
  },
  {
   "cell_type": "code",
   "execution_count": 16,
   "id": "61e844ed-2fe1-45da-a9a9-edb4bae9b576",
   "metadata": {},
   "outputs": [
    {
     "data": {
      "text/plain": [
       "[1, 3, 4, 6]"
      ]
     },
     "execution_count": 16,
     "metadata": {},
     "output_type": "execute_result"
    }
   ],
   "source": [
    "index_of_caps(\"eQuINoX\")"
   ]
  },
  {
   "cell_type": "code",
   "execution_count": 17,
   "id": "3c948eaa-29e3-4c0e-bae7-69f7f741077f",
   "metadata": {},
   "outputs": [
    {
     "data": {
      "text/plain": [
       "[]"
      ]
     },
     "execution_count": 17,
     "metadata": {},
     "output_type": "execute_result"
    }
   ],
   "source": [
    "index_of_caps(\"determine\")"
   ]
  },
  {
   "cell_type": "code",
   "execution_count": 18,
   "id": "30d78869-d6bf-4ba1-a80c-ffdfba475933",
   "metadata": {},
   "outputs": [
    {
     "data": {
      "text/plain": [
       "[0, 1, 2, 3, 4, 5]"
      ]
     },
     "execution_count": 18,
     "metadata": {},
     "output_type": "execute_result"
    }
   ],
   "source": [
    "index_of_caps(\"STRIKE\")"
   ]
  },
  {
   "cell_type": "code",
   "execution_count": 19,
   "id": "cbd58ab8-5e5f-4b81-b441-c0e8bdbb0992",
   "metadata": {},
   "outputs": [
    {
     "data": {
      "text/plain": [
       "[1]"
      ]
     },
     "execution_count": 19,
     "metadata": {},
     "output_type": "execute_result"
    }
   ],
   "source": [
    "index_of_caps(\"sUn\")"
   ]
  },
  {
   "cell_type": "markdown",
   "id": "2e0901bf-4c01-424b-b6b8-a2e68ce5e140",
   "metadata": {},
   "source": [
    "#### Question5\n",
    "#### Using list comprehensions, create a function that finds all even numbers from 1 to the given number.\n",
    "\n",
    "Examples\n",
    "\n",
    "find_even_nums(8) ➞ [2, 4, 6, 8]\n",
    "\n",
    "find_even_nums(4) ➞ [2, 4]\n",
    "\n",
    "find_even_nums(2) ➞ [2]\n"
   ]
  },
  {
   "cell_type": "code",
   "execution_count": 20,
   "id": "27293320-bcba-4e4e-83b4-e0274fdbe131",
   "metadata": {},
   "outputs": [],
   "source": [
    "def find_even_nums(num):\n",
    "    return [i for i in range(1, num+1) if i % 2 == 0]\n"
   ]
  },
  {
   "cell_type": "code",
   "execution_count": 21,
   "id": "dba5783d-a62a-4cf2-b856-4a7952327ad1",
   "metadata": {},
   "outputs": [
    {
     "data": {
      "text/plain": [
       "[2, 4, 6, 8]"
      ]
     },
     "execution_count": 21,
     "metadata": {},
     "output_type": "execute_result"
    }
   ],
   "source": [
    "find_even_nums(8) "
   ]
  },
  {
   "cell_type": "code",
   "execution_count": 22,
   "id": "f82cb4a9-0d0f-48fe-ab13-cde0801f30da",
   "metadata": {},
   "outputs": [
    {
     "data": {
      "text/plain": [
       "[2, 4]"
      ]
     },
     "execution_count": 22,
     "metadata": {},
     "output_type": "execute_result"
    }
   ],
   "source": [
    "find_even_nums(4) "
   ]
  },
  {
   "cell_type": "code",
   "execution_count": 23,
   "id": "9064bc56-c58b-4e96-87b7-cb73fc03db76",
   "metadata": {},
   "outputs": [
    {
     "data": {
      "text/plain": [
       "[2]"
      ]
     },
     "execution_count": 23,
     "metadata": {},
     "output_type": "execute_result"
    }
   ],
   "source": [
    "find_even_nums(2)"
   ]
  },
  {
   "cell_type": "code",
   "execution_count": null,
   "id": "e659dd0b-7127-4944-bee1-325b2d5c24fc",
   "metadata": {},
   "outputs": [],
   "source": []
  }
 ],
 "metadata": {
  "kernelspec": {
   "display_name": "Python 3 (ipykernel)",
   "language": "python",
   "name": "python3"
  },
  "language_info": {
   "codemirror_mode": {
    "name": "ipython",
    "version": 3
   },
   "file_extension": ".py",
   "mimetype": "text/x-python",
   "name": "python",
   "nbconvert_exporter": "python",
   "pygments_lexer": "ipython3",
   "version": "3.10.6"
  }
 },
 "nbformat": 4,
 "nbformat_minor": 5
}
