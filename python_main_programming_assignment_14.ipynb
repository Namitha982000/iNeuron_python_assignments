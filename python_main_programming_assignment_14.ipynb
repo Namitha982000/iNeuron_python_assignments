{
 "cells": [
  {
   "cell_type": "markdown",
   "id": "a7ad3a9a-2a86-4dff-8576-d79a1aa052a8",
   "metadata": {},
   "source": [
    "# Programming Assignment 14"
   ]
  },
  {
   "cell_type": "markdown",
   "id": "d5d3999f-f76a-41cf-a9f4-d7ee0c7552d9",
   "metadata": {},
   "source": [
    "#### Question 1:\n",
    "\n",
    "#### Define a class with a generator which can iterate the numbers, which are divisible by 7, between a given range 0 and n."
   ]
  },
  {
   "cell_type": "code",
   "execution_count": 2,
   "id": "dedb256a-61e6-4492-b506-fc8a74e6cc40",
   "metadata": {},
   "outputs": [
    {
     "name": "stdout",
     "output_type": "stream",
     "text": [
      "0\n",
      "7\n",
      "14\n",
      "21\n",
      "28\n",
      "35\n",
      "42\n",
      "49\n"
     ]
    }
   ],
   "source": [
    "class DivisibleBySeven:\n",
    "    def __init__(self, n):\n",
    "        self.n = n\n",
    "    \n",
    "    def generate_divisible_by_seven(self):\n",
    "        for num in range(self.n + 1):\n",
    "            if num % 7 == 0:\n",
    "                yield num\n",
    "\n",
    "# Create an instance of the class\n",
    "range_limit = 50\n",
    "divisible_by_seven = DivisibleBySeven(range_limit)\n",
    "\n",
    "# Use the generator to iterate over the numbers divisible by 7\n",
    "for num in divisible_by_seven.generate_divisible_by_seven():\n",
    "    print(num)\n"
   ]
  },
  {
   "cell_type": "markdown",
   "id": "59ebee18-4771-4a43-b008-a6c27bcf91a6",
   "metadata": {},
   "source": [
    "#### Question 2:\n",
    "#### Write a program to compute the frequency of the words from the input. The output should output after sorting the key alphanumerically. \n",
    "\n",
    "Suppose the following input is supplied to the program:\n",
    "\n",
    "New to Python or choosing between Python 2 and Python 3? Read Python 2 or Python 3.\n",
    "\n",
    "Then, the output should be:\n",
    "\n",
    "2:2\n",
    "\n",
    "3.:1\n",
    "\n",
    "3?:1\n",
    "\n",
    "New:1\n",
    "Python:5\n",
    "Read:1\n",
    "and:1\n",
    "between:1\n",
    "choosing:1\n",
    "or:2\n",
    "to:1\n"
   ]
  },
  {
   "cell_type": "code",
   "execution_count": 3,
   "id": "b8c30d0b-8533-43e8-a0af-aa9479aed692",
   "metadata": {},
   "outputs": [
    {
     "name": "stdin",
     "output_type": "stream",
     "text": [
      "Enter the text:  Python programming\n"
     ]
    },
    {
     "name": "stdout",
     "output_type": "stream",
     "text": [
      "Python:1\n",
      "programming:1\n"
     ]
    }
   ],
   "source": [
    "text = input(\"Enter the text: \")\n",
    "words = text.split()\n",
    "\n",
    "freq = {}\n",
    "\n",
    "for word in words:\n",
    "    if word in freq:\n",
    "        freq[word] += 1\n",
    "    else:\n",
    "        freq[word] = 1\n",
    "\n",
    "sorted_words = sorted(freq.keys())\n",
    "\n",
    "for word in sorted_words:\n",
    "    print(f\"{word}:{freq[word]}\")\n"
   ]
  },
  {
   "cell_type": "markdown",
   "id": "4c2ab231-94f5-49c4-814b-b7cf8b1ff622",
   "metadata": {},
   "source": [
    "#### Question 3:\n",
    "\n",
    "#### Define a class Person and its two child classes: Male and Female. All classes have a method \"getGender\" which can print \"Male\" for Male class and \"Female\" for Female class."
   ]
  },
  {
   "cell_type": "code",
   "execution_count": 5,
   "id": "0befd338-f031-4f39-9a04-e9c0593b16de",
   "metadata": {},
   "outputs": [
    {
     "name": "stdout",
     "output_type": "stream",
     "text": [
      "Male\n",
      "Female\n"
     ]
    }
   ],
   "source": [
    "class Person:\n",
    "    def getGender(self):\n",
    "        print(\"Unknown\")\n",
    "\n",
    "class Male(Person):\n",
    "    def getGender(self):\n",
    "        print(\"Male\")\n",
    "\n",
    "class Female(Person):\n",
    "    def getGender(self):\n",
    "        print(\"Female\")\n",
    "\n",
    "# Create instances of the child classes\n",
    "person1 = Male()\n",
    "person2 = Female()\n",
    "\n",
    "# Call the getGender method on the instances\n",
    "person1.getGender()\n",
    "person2.getGender()  \n"
   ]
  },
  {
   "cell_type": "markdown",
   "id": "4fe80435-f799-49ec-b6ba-099cfd5bfc27",
   "metadata": {},
   "source": [
    "#### Question 4:\n",
    "#### Please write a program to generate all sentences where subject is in [\"I\", \"You\"] and verb is in [\"Play\", \"Love\"] and the object is in [\"Hockey\",\"Football\"].\n"
   ]
  },
  {
   "cell_type": "code",
   "execution_count": 6,
   "id": "d6ba7df0-cc99-44fe-9c65-bf0169a16120",
   "metadata": {},
   "outputs": [
    {
     "name": "stdout",
     "output_type": "stream",
     "text": [
      "I Play Hockey.\n",
      "I Play Football.\n",
      "I Love Hockey.\n",
      "I Love Football.\n",
      "You Play Hockey.\n",
      "You Play Football.\n",
      "You Love Hockey.\n",
      "You Love Football.\n"
     ]
    }
   ],
   "source": [
    "subjects = [\"I\", \"You\"]\n",
    "verbs = [\"Play\", \"Love\"]\n",
    "objects = [\"Hockey\", \"Football\"]\n",
    "\n",
    "for subject in subjects:\n",
    "    for verb in verbs:\n",
    "        for object in objects:\n",
    "            print(f\"{subject} {verb} {object}.\")\n"
   ]
  },
  {
   "cell_type": "markdown",
   "id": "81cc6006-07db-48d6-ac80-9cfa34500d0b",
   "metadata": {},
   "source": [
    "#### Question 5:\n",
    "#### Please write a program to compress and decompress the string \"hello world!hello world!hello world!hello world!\"."
   ]
  },
  {
   "cell_type": "code",
   "execution_count": 7,
   "id": "12c85cda-1249-4489-bdc6-b1a8feeb4347",
   "metadata": {},
   "outputs": [
    {
     "name": "stdout",
     "output_type": "stream",
     "text": [
      "Original string: hello world!hello world!hello world!hello world!\n",
      "Compressed string: b'x\\x9c\\xcbH\\xcd\\xc9\\xc9W(\\xcf/\\xcaIQ\\xcc \\x82\\r\\x00\\xbd[\\x11\\xf5'\n",
      "Decompressed string: hello world!hello world!hello world!hello world!\n"
     ]
    }
   ],
   "source": [
    "import zlib\n",
    "\n",
    "# Compress the string\n",
    "original_str = \"hello world!hello world!hello world!hello world!\"\n",
    "compressed_str = zlib.compress(original_str.encode('utf-8'))\n",
    "\n",
    "# Decompress the string\n",
    "decompressed_str = zlib.decompress(compressed_str).decode('utf-8')\n",
    "\n",
    "# Print the results\n",
    "print(f\"Original string: {original_str}\")\n",
    "print(f\"Compressed string: {compressed_str}\")\n",
    "print(f\"Decompressed string: {decompressed_str}\")\n"
   ]
  },
  {
   "cell_type": "markdown",
   "id": "8ede2510-1a58-4678-bf40-fdf16effe15f",
   "metadata": {},
   "source": [
    "#### Question 6:\n",
    "#### Please write a binary search function which searches an item in a sorted list. The function should return the index of element to be searched in the list.\n"
   ]
  },
  {
   "cell_type": "code",
   "execution_count": 9,
   "id": "6276d0fa-f237-45c5-9b87-1b2ae2634a56",
   "metadata": {},
   "outputs": [],
   "source": [
    "def binary_search(arr, target):\n",
    "    low = 0\n",
    "    high = len(arr) - 1\n",
    "\n",
    "    while low <= high:\n",
    "        mid = (low + high) // 2\n",
    "        if arr[mid] == target:\n",
    "            return mid\n",
    "        elif arr[mid] < target:\n",
    "            low = mid + 1\n",
    "        else:\n",
    "            high = mid - 1\n",
    "\n",
    "    # If the target is not found, return -1\n",
    "    return -1\n"
   ]
  },
  {
   "cell_type": "code",
   "execution_count": 10,
   "id": "0f750ca2-e8b4-40d9-9cd9-1ed20c1cfa74",
   "metadata": {},
   "outputs": [
    {
     "name": "stdout",
     "output_type": "stream",
     "text": [
      "Element found at index: 4\n"
     ]
    }
   ],
   "source": [
    "my_list = [2, 4, 6, 8, 10, 12, 14, 16]\n",
    "target_element = 10\n",
    "\n",
    "result = binary_search(my_list, target_element)\n",
    "if result != -1:\n",
    "    print(\"Element found at index:\", result)\n",
    "else:\n",
    "    print(\"Element not found in the list.\")\n"
   ]
  },
  {
   "cell_type": "code",
   "execution_count": null,
   "id": "94f5823e-5764-43ec-aff7-826d8c4f04b8",
   "metadata": {},
   "outputs": [],
   "source": []
  }
 ],
 "metadata": {
  "kernelspec": {
   "display_name": "Python 3 (ipykernel)",
   "language": "python",
   "name": "python3"
  },
  "language_info": {
   "codemirror_mode": {
    "name": "ipython",
    "version": 3
   },
   "file_extension": ".py",
   "mimetype": "text/x-python",
   "name": "python",
   "nbconvert_exporter": "python",
   "pygments_lexer": "ipython3",
   "version": "3.10.6"
  }
 },
 "nbformat": 4,
 "nbformat_minor": 5
}
