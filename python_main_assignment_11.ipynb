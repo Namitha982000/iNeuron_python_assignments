{
 "cells": [
  {
   "cell_type": "markdown",
   "id": "21f6c905-15ca-48da-be92-2d8ef9c03044",
   "metadata": {},
   "source": [
    "# 1. Create an assert statement that throws an AssertionError if the variable spam is a negative integer."
   ]
  },
  {
   "cell_type": "code",
   "execution_count": 2,
   "id": "77fb4f8d-88cd-4f2b-ac33-04752a70c075",
   "metadata": {},
   "outputs": [
    {
     "ename": "AssertionError",
     "evalue": "The spam variable is negative integer",
     "output_type": "error",
     "traceback": [
      "\u001b[0;31m---------------------------------------------------------------------------\u001b[0m",
      "\u001b[0;31mAssertionError\u001b[0m                            Traceback (most recent call last)",
      "Cell \u001b[0;32mIn [2], line 3\u001b[0m\n\u001b[1;32m      1\u001b[0m spam \u001b[38;5;241m=\u001b[39m \u001b[38;5;241m-\u001b[39m\u001b[38;5;241m5\u001b[39m\n\u001b[0;32m----> 3\u001b[0m \u001b[38;5;28;01massert\u001b[39;00m spam \u001b[38;5;241m>\u001b[39m \u001b[38;5;241m0\u001b[39m, \u001b[38;5;124m'\u001b[39m\u001b[38;5;124mThe spam variable is negative integer\u001b[39m\u001b[38;5;124m'\u001b[39m\n",
      "\u001b[0;31mAssertionError\u001b[0m: The spam variable is negative integer"
     ]
    }
   ],
   "source": [
    "spam = -5\n",
    "\n",
    "assert spam > 0, 'The spam variable is negative integer' "
   ]
  },
  {
   "cell_type": "markdown",
   "id": "c34c11a2-f83e-4772-9a3d-2a26c3e25d04",
   "metadata": {},
   "source": [
    "# 2. Write an assert statement that triggers an AssertionError if the variables eggs and bacon contain strings that are the same as each other, even if their cases are different (that is, &#39;hello&#39; and &#39;hello&#39; are considered the same, and &#39;goodbye&#39; and &#39;GOODbye&#39; are also considered the same)."
   ]
  },
  {
   "cell_type": "code",
   "execution_count": 7,
   "id": "e8d22c78-b3e5-4dd8-9b7f-23612960ca80",
   "metadata": {},
   "outputs": [
    {
     "ename": "AssertionError",
     "evalue": "The eggs and bacon variables are the same!",
     "output_type": "error",
     "traceback": [
      "\u001b[0;31m---------------------------------------------------------------------------\u001b[0m",
      "\u001b[0;31mAssertionError\u001b[0m                            Traceback (most recent call last)",
      "Cell \u001b[0;32mIn [7], line 4\u001b[0m\n\u001b[1;32m      1\u001b[0m eggs \u001b[38;5;241m=\u001b[39m \u001b[38;5;124m'\u001b[39m\u001b[38;5;124miNeuron\u001b[39m\u001b[38;5;124m'\u001b[39m\n\u001b[1;32m      2\u001b[0m bacon \u001b[38;5;241m=\u001b[39m \u001b[38;5;124m'\u001b[39m\u001b[38;5;124mINEURON\u001b[39m\u001b[38;5;124m'\u001b[39m\n\u001b[0;32m----> 4\u001b[0m \u001b[38;5;28;01massert\u001b[39;00m eggs\u001b[38;5;241m.\u001b[39mlower() \u001b[38;5;241m!=\u001b[39m bacon\u001b[38;5;241m.\u001b[39mlower(), \u001b[38;5;124m'\u001b[39m\u001b[38;5;124mThe eggs and bacon variables are the same!\u001b[39m\u001b[38;5;124m'\u001b[39m\n",
      "\u001b[0;31mAssertionError\u001b[0m: The eggs and bacon variables are the same!"
     ]
    }
   ],
   "source": [
    "eggs = 'iNeuron'\n",
    "bacon = 'INEURON'\n",
    "\n",
    "assert eggs.lower() != bacon.lower(), 'The eggs and bacon variables are the same!' \n",
    "# assert eggs.upper() != bacon.upper(), 'The eggs and bacon variables are the same!' "
   ]
  },
  {
   "cell_type": "markdown",
   "id": "2e140209-5814-4ad8-93f0-7e8e8af1c33e",
   "metadata": {},
   "source": [
    "# 3. Create an assert statement that throws an AssertionError every time."
   ]
  },
  {
   "cell_type": "code",
   "execution_count": 8,
   "id": "b945ae8c-de5c-4cdd-9d41-6be481250522",
   "metadata": {},
   "outputs": [
    {
     "ename": "AssertionError",
     "evalue": "Always error.",
     "output_type": "error",
     "traceback": [
      "\u001b[0;31m---------------------------------------------------------------------------\u001b[0m",
      "\u001b[0;31mAssertionError\u001b[0m                            Traceback (most recent call last)",
      "Cell \u001b[0;32mIn [8], line 1\u001b[0m\n\u001b[0;32m----> 1\u001b[0m \u001b[38;5;28;01massert\u001b[39;00m \u001b[38;5;28;01mFalse\u001b[39;00m,\u001b[38;5;124m'\u001b[39m\u001b[38;5;124mAlways error.\u001b[39m\u001b[38;5;124m'\u001b[39m\n",
      "\u001b[0;31mAssertionError\u001b[0m: Always error."
     ]
    }
   ],
   "source": [
    "assert False,'Always error.'"
   ]
  },
  {
   "cell_type": "markdown",
   "id": "9d60e11e-daf8-4df6-9050-ee740e77bd9e",
   "metadata": {},
   "source": [
    "# 4. What are the two lines that must be present in your software in order to call logging.debug()?"
   ]
  },
  {
   "cell_type": "code",
   "execution_count": null,
   "id": "a5f6fe8b-4bf7-4252-ae88-947381b39b09",
   "metadata": {},
   "outputs": [],
   "source": [
    "import logging\n",
    "logging.basicConfig(filename = 'try.txt', level = logging.DEBUG , format = '%(asctime)s - %(levelname)s - %(message)s')"
   ]
  },
  {
   "cell_type": "markdown",
   "id": "2bfca103-fa2d-468e-9604-7946317b2837",
   "metadata": {},
   "source": [
    "# 5. What are the two lines that your program must have in order to have logging.debug() send a logging message to a file named programLog.txt?"
   ]
  },
  {
   "cell_type": "code",
   "execution_count": null,
   "id": "868750eb-afa6-4ddb-a663-add895c539bd",
   "metadata": {},
   "outputs": [],
   "source": [
    "import logging\n",
    "logging.basicConfig(filename = 'programLog.txt', level = logging.DEBUG , format = '%(asctime)s - %(levelname)s - %(message)s')"
   ]
  },
  {
   "cell_type": "markdown",
   "id": "59f9ee03-6568-470a-a304-ff4c4b709c6c",
   "metadata": {},
   "source": [
    "# 6. What are the five levels of logging?"
   ]
  },
  {
   "cell_type": "markdown",
   "id": "9cad929a-ae37-4ecb-9ef2-ffc927843ee0",
   "metadata": {},
   "source": [
    "The 5 different levels in logging:\n",
    "\n",
    "\n",
    "**1)** `Debug` : Gives detail inforamation\n",
    "\n",
    "**2)** `Info` : Gives the inforamtion of particularly required file.\n",
    "\n",
    "**3)** `Warning` : Warns whether there could be some problem in future\n",
    "\n",
    "**4)** `Error` :  Indicates the error.\n",
    "\n",
    "**5)** `Critical` : Indicates the serious error."
   ]
  },
  {
   "cell_type": "markdown",
   "id": "65d4c415-7c3c-4174-b66e-fef07088e141",
   "metadata": {},
   "source": [
    "# 7. What line of code would you add to your software to disable all logging messages?"
   ]
  },
  {
   "cell_type": "markdown",
   "id": "69ac3a59-8f1d-4dec-9d83-5ad6ae5d50aa",
   "metadata": {},
   "source": [
    "logging.disable(logging.CRITICAL)"
   ]
  },
  {
   "cell_type": "markdown",
   "id": "77ab95f5-2d03-4b81-a627-9ff5080df5e5",
   "metadata": {},
   "source": [
    "# 8.Why is using logging messages better than using print() to display the same message?"
   ]
  },
  {
   "cell_type": "markdown",
   "id": "4821a182-6c97-4a0f-852c-1749c5bfba5e",
   "metadata": {},
   "source": [
    "* logging messages can be disable without removing the logging function calls.\n",
    "\n",
    "* Lower level logging messages can be selectively disable.\n",
    "\n",
    "* Logging messages can be created.\n",
    "\n",
    "* Logging messages provides timestamp."
   ]
  },
  {
   "cell_type": "markdown",
   "id": "457f6335-e644-4c4d-8bb3-604c4a170f80",
   "metadata": {},
   "source": [
    "# 9. What are the differences between the Step Over, Step In, and Step Out buttons in the debugger?"
   ]
  },
  {
   "cell_type": "markdown",
   "id": "a09d4570-dd5c-48f7-a965-0c21f67626db",
   "metadata": {},
   "source": [
    "* Step Over -> this button will quickly execute the function call without stepping into it.\n",
    "\n",
    "* Step In -> this button will move the bebugger into a function call.\n",
    "\n",
    "* Step Out -> this buttom will quickly execute the rest of the code until it steps out the function it currently presents in."
   ]
  },
  {
   "cell_type": "markdown",
   "id": "b096164b-830d-4405-8a96-afd7bee2c642",
   "metadata": {},
   "source": [
    "# 10.After you click Continue, when will the debugger stop ?"
   ]
  },
  {
   "cell_type": "markdown",
   "id": "e6f6a863-f824-4cd4-a01c-181b3dc2ea93",
   "metadata": {},
   "source": [
    "The debugger will stop when it has reached the end of the program or line with a breakpoint."
   ]
  },
  {
   "cell_type": "markdown",
   "id": "0caf3b9e-4011-4563-b9b1-17ebf030623c",
   "metadata": {},
   "source": [
    "# 11. What is the concept of a breakpoint?"
   ]
  },
  {
   "cell_type": "markdown",
   "id": "ecc080e3-bf52-40f4-a545-2843dea5fb2f",
   "metadata": {},
   "source": [
    "Breakpoint is an intentional stopping or pausing place in program, it is applid in place for debugging purposes."
   ]
  }
 ],
 "metadata": {
  "kernelspec": {
   "display_name": "Python 3 (ipykernel)",
   "language": "python",
   "name": "python3"
  },
  "language_info": {
   "codemirror_mode": {
    "name": "ipython",
    "version": 3
   },
   "file_extension": ".py",
   "mimetype": "text/x-python",
   "name": "python",
   "nbconvert_exporter": "python",
   "pygments_lexer": "ipython3",
   "version": "3.10.6"
  }
 },
 "nbformat": 4,
 "nbformat_minor": 5
}
