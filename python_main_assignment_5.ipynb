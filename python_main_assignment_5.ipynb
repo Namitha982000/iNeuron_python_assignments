{
 "cells": [
  {
   "cell_type": "markdown",
   "id": "e7b01d24-741d-44b5-af20-badf2e49e9ad",
   "metadata": {},
   "source": [
    "# 1. What does an empty dictionary&#39;s code look like?"
   ]
  },
  {
   "cell_type": "code",
   "execution_count": 2,
   "id": "0febfacb-ffe3-4ec1-aa2c-124e13c7f8b9",
   "metadata": {},
   "outputs": [
    {
     "name": "stdout",
     "output_type": "stream",
     "text": [
      "Empty dictionary :  {}\n",
      "<class 'dict'>\n"
     ]
    }
   ],
   "source": [
    "dictionary = {}\n",
    "\n",
    "print(\"Empty dictionary : \",dictionary)\n",
    "\n",
    "print(type(dictionary))"
   ]
  },
  {
   "cell_type": "markdown",
   "id": "43838b05-09fa-4947-bac2-edb607b9ab48",
   "metadata": {},
   "source": [
    "# 2. What is the value of a dictionary value with the key &#39;foo&#39; and the value 42?"
   ]
  },
  {
   "cell_type": "code",
   "execution_count": 10,
   "id": "dc9be6ab-84d4-4eab-aa26-68b8411620bb",
   "metadata": {},
   "outputs": [
    {
     "data": {
      "text/plain": [
       "42"
      ]
     },
     "execution_count": 10,
     "metadata": {},
     "output_type": "execute_result"
    }
   ],
   "source": [
    "a = {'foo':42}\n",
    "\n",
    "a['foo']"
   ]
  },
  {
   "cell_type": "markdown",
   "id": "52cb44e6-d54a-4948-8603-582f7fce44d1",
   "metadata": {},
   "source": [
    "# 3. What is the most significant distinction between a dictionary and a list?"
   ]
  },
  {
   "cell_type": "markdown",
   "id": "4f3c1d53-1899-416f-951d-286ec9601dce",
   "metadata": {},
   "source": [
    "### Dictionary:\n",
    "\n",
    "* key - value pairs have defined ordered and cannot be changed.\n",
    "\n",
    "* Dictionaries are mutable but keys are immutable.\n",
    "\n",
    "* Do not allow duplicates items with same keys.\n",
    "\n",
    "### List :\n",
    "\n",
    "* Items have defined order which cannot be changed.\n",
    "\n",
    "* Items an be modified anytime.\n",
    "\n",
    "* Items with same value is allowed."
   ]
  },
  {
   "cell_type": "markdown",
   "id": "139da7ef-c1cd-4e52-8ac5-64a2b71920a5",
   "metadata": {},
   "source": [
    "# 4. What happens if you try to access spam[&#39;foo&#39;] if spam is {&#39;bar&#39;: 100}?"
   ]
  },
  {
   "cell_type": "markdown",
   "id": "99d50dc5-6e94-4de6-a840-a0e33c41693b",
   "metadata": {},
   "source": [
    "keyerror occurs."
   ]
  },
  {
   "cell_type": "code",
   "execution_count": 12,
   "id": "f6e4bd53-e2b6-483b-a1b5-79fa2436a991",
   "metadata": {},
   "outputs": [
    {
     "ename": "KeyError",
     "evalue": "'foo'",
     "output_type": "error",
     "traceback": [
      "\u001b[0;31m---------------------------------------------------------------------------\u001b[0m",
      "\u001b[0;31mKeyError\u001b[0m                                  Traceback (most recent call last)",
      "Cell \u001b[0;32mIn [12], line 3\u001b[0m\n\u001b[1;32m      1\u001b[0m spam \u001b[38;5;241m=\u001b[39m {\u001b[38;5;124m'\u001b[39m\u001b[38;5;124mbar\u001b[39m\u001b[38;5;124m'\u001b[39m : \u001b[38;5;241m100\u001b[39m}\n\u001b[0;32m----> 3\u001b[0m \u001b[43mspam\u001b[49m\u001b[43m[\u001b[49m\u001b[38;5;124;43m'\u001b[39;49m\u001b[38;5;124;43mfoo\u001b[39;49m\u001b[38;5;124;43m'\u001b[39;49m\u001b[43m]\u001b[49m\n",
      "\u001b[0;31mKeyError\u001b[0m: 'foo'"
     ]
    }
   ],
   "source": [
    "spam = {'bar' : 100}\n",
    "\n",
    "spam['foo']"
   ]
  },
  {
   "cell_type": "markdown",
   "id": "e84b78c5-1ca8-4b43-bff8-05c5ce8ea0d9",
   "metadata": {},
   "source": [
    "# 5. If a dictionary is stored in spam, what is the difference between the expressions in 'spam' and in spam.keys()?"
   ]
  },
  {
   "cell_type": "code",
   "execution_count": 15,
   "id": "500abb3d-a3e9-4e93-83e2-dee07541c395",
   "metadata": {},
   "outputs": [
    {
     "data": {
      "text/plain": [
       "{1: 'a', 2: 'b', 3: 'c', 4: 'd'}"
      ]
     },
     "execution_count": 15,
     "metadata": {},
     "output_type": "execute_result"
    }
   ],
   "source": [
    "spam = {1:'a', 2:'b', 3:'c', 4:'d'}\n",
    "\n",
    "spam"
   ]
  },
  {
   "cell_type": "code",
   "execution_count": 16,
   "id": "6930eed5-0615-4ff8-bea1-24311ad26c83",
   "metadata": {},
   "outputs": [
    {
     "data": {
      "text/plain": [
       "dict_keys([1, 2, 3, 4])"
      ]
     },
     "execution_count": 16,
     "metadata": {},
     "output_type": "execute_result"
    }
   ],
   "source": [
    "spam.keys()"
   ]
  },
  {
   "cell_type": "markdown",
   "id": "933cfe76-7b49-42ee-a6e8-7b070dabb4d8",
   "metadata": {},
   "source": [
    "If expression 'spam' is called whole dictionary that icludes both keys and values are executed and if spam.keys() is callled only the keys in the dictionary are executed."
   ]
  },
  {
   "cell_type": "markdown",
   "id": "1af576f1-114d-404c-b1ff-ad0c9da3c42c",
   "metadata": {},
   "source": [
    "# 6. If a dictionary is stored in spam, what is the difference between the expressions in 'spam' and in spam.keys()?"
   ]
  },
  {
   "cell_type": "markdown",
   "id": "d79a3997-5c6f-4ba5-8dcd-254e7373d356",
   "metadata": {},
   "source": [
    "If expression 'spam' is called whole dictionary that icludes both keys and values are executed and if spam.keys() is callled only the keys in the dictionary are executed."
   ]
  },
  {
   "cell_type": "code",
   "execution_count": 3,
   "id": "d7e9a54b-1aa1-45f9-9462-c0bba0cbe84e",
   "metadata": {},
   "outputs": [
    {
     "data": {
      "text/plain": [
       "{1: 'a', 2: 'b', 3: 'c', 4: 'd'}"
      ]
     },
     "execution_count": 3,
     "metadata": {},
     "output_type": "execute_result"
    }
   ],
   "source": [
    "spam = {1:'a', 2:'b', 3:'c', 4:'d'}\n",
    "\n",
    "spam"
   ]
  },
  {
   "cell_type": "code",
   "execution_count": 4,
   "id": "5933c8f5-d5b1-4a22-8c6a-69e7e4c80f5b",
   "metadata": {},
   "outputs": [
    {
     "data": {
      "text/plain": [
       "dict_keys([1, 2, 3, 4])"
      ]
     },
     "execution_count": 4,
     "metadata": {},
     "output_type": "execute_result"
    }
   ],
   "source": [
    "spam.keys()"
   ]
  },
  {
   "cell_type": "markdown",
   "id": "2dd6ec5e-abd2-4dc9-baca-0b8f93b6e736",
   "metadata": {},
   "source": [
    "# 7. What is a shortcut for the following code?\n",
    "\n",
    "### if 'color' not in spam:\n",
    "\n",
    "### spam['color'] = 'black'"
   ]
  },
  {
   "cell_type": "code",
   "execution_count": 6,
   "id": "c21d9d43-8ca2-4bf4-bfea-9c8fe935ab06",
   "metadata": {},
   "outputs": [
    {
     "name": "stdout",
     "output_type": "stream",
     "text": [
      "{'color': 'black'}\n"
     ]
    }
   ],
   "source": [
    "spam = dict()\n",
    "if 'color' not in spam:\n",
    "    spam['color'] = 'black'\n",
    "print(spam)"
   ]
  },
  {
   "cell_type": "markdown",
   "id": "1dd0e07f-2b30-413e-8d8f-dcd110e9a0bf",
   "metadata": {},
   "source": [
    "# 8. How do you &quot;pretty print&quot; dictionary values using which module and function?"
   ]
  },
  {
   "cell_type": "markdown",
   "id": "ba000b9e-2954-4996-927a-00fea45bde29",
   "metadata": {},
   "source": [
    "module = pprint\n",
    "\n",
    "function = PrettyPrinter"
   ]
  },
  {
   "cell_type": "code",
   "execution_count": 13,
   "id": "5795fbec-9ae9-4ad5-8db9-6dcba551dc53",
   "metadata": {},
   "outputs": [
    {
     "name": "stdout",
     "output_type": "stream",
     "text": [
      "{'Address': {'Block': 'B',\n",
      "             'City': 'Chennai',\n",
      "             'Flat': 2304,\n",
      "             'Lane': 4},\n",
      " 'Class': 'X',\n",
      " 'Name': 'Ashu'}\n"
     ]
    }
   ],
   "source": [
    "import pprint\n",
    "\n",
    "class_dict = { 'Name' : 'Ashu' , 'Class' : 'X' , 'Address' : {'Flat' : 2304, 'Block' : 'B' , 'Lane' : 4, 'City' : 'Chennai'}}\n",
    "\n",
    "pprint.pprint(class_dict,width=-1)"
   ]
  }
 ],
 "metadata": {
  "kernelspec": {
   "display_name": "Python 3 (ipykernel)",
   "language": "python",
   "name": "python3"
  },
  "language_info": {
   "codemirror_mode": {
    "name": "ipython",
    "version": 3
   },
   "file_extension": ".py",
   "mimetype": "text/x-python",
   "name": "python",
   "nbconvert_exporter": "python",
   "pygments_lexer": "ipython3",
   "version": "3.10.6"
  }
 },
 "nbformat": 4,
 "nbformat_minor": 5
}
