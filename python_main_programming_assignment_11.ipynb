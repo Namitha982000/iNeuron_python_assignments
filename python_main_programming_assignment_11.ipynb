{
 "cells": [
  {
   "cell_type": "markdown",
   "id": "f49077f3-edb4-4c5f-ac6a-84452a736047",
   "metadata": {},
   "source": [
    "# Programming Assignment 11"
   ]
  },
  {
   "cell_type": "markdown",
   "id": "8c94aede-ffb4-412b-90d2-2c5279157639",
   "metadata": {},
   "source": [
    "**1. Write a Python program to find words which are greater than given length k?**"
   ]
  },
  {
   "cell_type": "code",
   "execution_count": 1,
   "id": "92fe30c1-d6f8-4988-99ef-0b2876e76ad7",
   "metadata": {},
   "outputs": [],
   "source": [
    "def find_words(sentence, k):\n",
    "    words = sentence.split()\n",
    "    long_words = []\n",
    "    for word in words:\n",
    "        if len(word) > k:\n",
    "            long_words.append(word)\n",
    "    return long_words\n"
   ]
  },
  {
   "cell_type": "code",
   "execution_count": 2,
   "id": "408de47a-db37-414f-b361-8eaa2d89e505",
   "metadata": {},
   "outputs": [
    {
     "name": "stdout",
     "output_type": "stream",
     "text": [
      "Words greater than length 4 in the sentence: The quick brown fox jumped over the lazy dog\n",
      "['quick', 'brown', 'jumped']\n"
     ]
    }
   ],
   "source": [
    "sentence = \"The quick brown fox jumped over the lazy dog\"\n",
    "k = 4\n",
    "long_words = find_words(sentence, k)\n",
    "print(\"Words greater than length\", k, \"in the sentence:\", sentence)\n",
    "print(long_words)\n"
   ]
  },
  {
   "cell_type": "markdown",
   "id": "cc5665b9-69ad-4c3b-8113-da322a01bd80",
   "metadata": {},
   "source": [
    "**2. Write a Python program for removing i-th character from a string?**"
   ]
  },
  {
   "cell_type": "code",
   "execution_count": 4,
   "id": "704e7b1b-ede5-4d5f-a083-b1414042265f",
   "metadata": {},
   "outputs": [
    {
     "name": "stdout",
     "output_type": "stream",
     "text": [
      "Hello, orld!\n"
     ]
    }
   ],
   "source": [
    "def remove_char(text, i):\n",
    "    # Check if the index is valid\n",
    "    if i < 0 or i >= len(text):\n",
    "        return text\n",
    "\n",
    "    # Remove the i-th character using string slicing\n",
    "    text_without_character = text[:i] + text[i+1:]\n",
    "    return text_without_character\n",
    "\n",
    "# Test the function\n",
    "text = \"Hello, world!\"\n",
    "index_to_remove = 7\n",
    "text_without_character = remove_char(text, index_to_remove)\n",
    "print(text_without_character)\n"
   ]
  },
  {
   "cell_type": "markdown",
   "id": "ca52416e-e60b-4116-838f-c0d1d88d7ccc",
   "metadata": {},
   "source": [
    "**3. Write a Python program to split and join a string?**"
   ]
  },
  {
   "cell_type": "code",
   "execution_count": 5,
   "id": "852410c1-4fd0-40a7-941a-3b775c554a1c",
   "metadata": {},
   "outputs": [
    {
     "name": "stdout",
     "output_type": "stream",
     "text": [
      "Python-Programming-language\n"
     ]
    }
   ],
   "source": [
    "def split_and_join(text):\n",
    "    # Split the string into a list of words\n",
    "    words = text.split()\n",
    "\n",
    "    # Join the words using a specific separator\n",
    "    joined_text = '-'.join(words)\n",
    "\n",
    "    return joined_text\n",
    "\n",
    "# Test the function\n",
    "text = \"Python Programming language\"\n",
    "joined_text = split_and_join(text)\n",
    "print(joined_text)\n"
   ]
  },
  {
   "cell_type": "markdown",
   "id": "33fb9e10-8e1b-4a3d-8abd-52d4318686f4",
   "metadata": {},
   "source": [
    "**4. Write a Python to check if a given string is binary string or not?**"
   ]
  },
  {
   "cell_type": "code",
   "execution_count": 6,
   "id": "bc014af0-5f2c-43ca-a5b0-8e328d58400c",
   "metadata": {},
   "outputs": [
    {
     "name": "stdout",
     "output_type": "stream",
     "text": [
      "101010 is a binary string\n",
      "10102 is not a binary string\n"
     ]
    }
   ],
   "source": [
    "def is_bin_string(string):\n",
    "    for char in string:\n",
    "        if char != '0' and char != '1':\n",
    "            return False\n",
    "    return True\n",
    "\n",
    "# Test the function\n",
    "string1 = \"101010\"\n",
    "string2 = \"10102\"\n",
    "\n",
    "if is_bin_string(string1):\n",
    "    print(f\"{string1} is a binary string\")\n",
    "else:\n",
    "    print(f\"{string1} is not a binary string\")\n",
    "\n",
    "if is_bin_string(string2):\n",
    "    print(f\"{string2} is a binary string\")\n",
    "else:\n",
    "    print(f\"{string2} is not a binary string\")\n"
   ]
  },
  {
   "cell_type": "markdown",
   "id": "f3c5c11b-cfdc-4cd8-93af-cd087475726c",
   "metadata": {},
   "source": [
    "**5. Write a Python program to find uncommon words from two Strings?**"
   ]
  },
  {
   "cell_type": "code",
   "execution_count": 7,
   "id": "ef088ed1-e0bc-425f-8932-9d9c4bb96de2",
   "metadata": {},
   "outputs": [
    {
     "name": "stdout",
     "output_type": "stream",
     "text": [
      "Uncommon words: {'Python', 'Learning', 'language', 'programming', 'Machine'}\n"
     ]
    }
   ],
   "source": [
    "def find_uncommon_words(str1, str2):\n",
    "    # Convert the strings to sets of words\n",
    "    words1 = set(str1.split())\n",
    "    words2 = set(str2.split())\n",
    "\n",
    "    # Find the uncommon words using set operations\n",
    "    uncommon_words = words1.symmetric_difference(words2)\n",
    "\n",
    "    return uncommon_words\n",
    "\n",
    "# Test the function\n",
    "string1 = \"Python programming language\"\n",
    "string2 = \"Machine Learning\"\n",
    "\n",
    "uncommon_words = find_uncommon_words(string1, string2)\n",
    "print(\"Uncommon words:\", uncommon_words)\n"
   ]
  },
  {
   "cell_type": "markdown",
   "id": "62acd9bb-16db-493f-8eee-7ae905fd7158",
   "metadata": {},
   "source": [
    "**6. Write a Python to find all duplicate characters in string?**"
   ]
  },
  {
   "cell_type": "code",
   "execution_count": 8,
   "id": "aea3fe7b-0241-41ae-9c6f-07508453699d",
   "metadata": {},
   "outputs": [
    {
     "name": "stdout",
     "output_type": "stream",
     "text": [
      "Duplicate characters: ['l', 'o']\n"
     ]
    }
   ],
   "source": [
    "def find_duplicate_char(string):\n",
    "    # Create an empty dictionary to store the character count\n",
    "    char_count = {}\n",
    "\n",
    "    # Iterate over each character in the string\n",
    "    for char in string:\n",
    "        # Increment the count of the character in the dictionary\n",
    "        char_count[char] = char_count.get(char, 0) + 1\n",
    "\n",
    "    # Find the characters with count greater than 1\n",
    "    duplicate_characters = [char for char, count in char_count.items() if count > 1]\n",
    "\n",
    "    return duplicate_characters\n",
    "\n",
    "# Test the function\n",
    "input_string = \"Hello World\"\n",
    "\n",
    "duplicates = find_duplicate_char(input_string)\n",
    "print(\"Duplicate characters:\", duplicates)\n"
   ]
  },
  {
   "cell_type": "markdown",
   "id": "90064e5a-558d-4930-9b4f-f3ac91bf666b",
   "metadata": {},
   "source": [
    "**7. Write a Python Program to check if a string contains any special character?**"
   ]
  },
  {
   "cell_type": "code",
   "execution_count": 9,
   "id": "bb7eadcd-1fa1-4adc-b634-9ebc9831afc8",
   "metadata": {},
   "outputs": [
    {
     "name": "stdout",
     "output_type": "stream",
     "text": [
      "Contains special character: True\n"
     ]
    }
   ],
   "source": [
    "import re\n",
    "\n",
    "def contains_special_character(string):\n",
    "    # Regular expression pattern to match special characters\n",
    "    pattern = r'[!@#$%^&*(),.?\":{}|<>]'\n",
    "\n",
    "    # Use regex search to find a match in the string\n",
    "    match = re.search(pattern, string)\n",
    "\n",
    "    # If a match is found, string contains special characters\n",
    "    if match:\n",
    "        return True\n",
    "    else:\n",
    "        return False\n",
    "\n",
    "# Test the function\n",
    "input_string = \"Hello World!\"\n",
    "contains_special = contains_special_character(input_string)\n",
    "print(\"Contains special character:\", contains_special)\n"
   ]
  },
  {
   "cell_type": "code",
   "execution_count": null,
   "id": "cbff7706-f1eb-4e34-a530-1727760a5d40",
   "metadata": {},
   "outputs": [],
   "source": []
  }
 ],
 "metadata": {
  "kernelspec": {
   "display_name": "Python 3 (ipykernel)",
   "language": "python",
   "name": "python3"
  },
  "language_info": {
   "codemirror_mode": {
    "name": "ipython",
    "version": 3
   },
   "file_extension": ".py",
   "mimetype": "text/x-python",
   "name": "python",
   "nbconvert_exporter": "python",
   "pygments_lexer": "ipython3",
   "version": "3.10.6"
  }
 },
 "nbformat": 4,
 "nbformat_minor": 5
}
