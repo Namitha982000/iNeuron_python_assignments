{
 "cells": [
  {
   "cell_type": "markdown",
   "id": "69300a7c-bdb5-424d-ac95-d2019df0e908",
   "metadata": {},
   "source": [
    "# Programming Assignment 6"
   ]
  },
  {
   "cell_type": "markdown",
   "id": "c704ecdd-0133-40c0-9aa6-1464e32cc6da",
   "metadata": {},
   "source": [
    "**1. Write a Python Program to Display Fibonacci Sequence Using Recursion?**"
   ]
  },
  {
   "cell_type": "code",
   "execution_count": 1,
   "id": "f8ac0238-dee6-46a6-81d6-57a1df51fb61",
   "metadata": {},
   "outputs": [
    {
     "name": "stdin",
     "output_type": "stream",
     "text": [
      "Enter the number of terms you want in the Fibonacci sequence:  6\n"
     ]
    },
    {
     "name": "stdout",
     "output_type": "stream",
     "text": [
      "The Fibonacci sequence is:\n",
      "0\n",
      "1\n",
      "1\n",
      "2\n",
      "3\n",
      "5\n"
     ]
    }
   ],
   "source": [
    "def fibonacci(n):\n",
    "    if n <= 1:\n",
    "        return n\n",
    "    else:\n",
    "        return (fibonacci(n-1) + fibonacci(n-2))\n",
    "\n",
    "# take user input for the number of terms\n",
    "num_terms = int(input(\"Enter the number of terms you want in the Fibonacci sequence: \"))\n",
    "\n",
    "# check if the input is valid\n",
    "if num_terms <= 0:\n",
    "    print(\"Please enter a positive integer.\")\n",
    "else:\n",
    "    print(\"The Fibonacci sequence is:\")\n",
    "    for i in range(num_terms):\n",
    "        print(fibonacci(i))\n"
   ]
  },
  {
   "cell_type": "markdown",
   "id": "cb8d7614-d579-4e0f-bbad-303ea3a93e85",
   "metadata": {},
   "source": [
    "**2. Write a Python Program to Find Factorial of Number Using Recursion?**"
   ]
  },
  {
   "cell_type": "code",
   "execution_count": 2,
   "id": "ac282c67-a974-4369-9107-6f71d0664fe0",
   "metadata": {},
   "outputs": [
    {
     "name": "stdout",
     "output_type": "stream",
     "text": [
      "Factorial of 5 is 120\n"
     ]
    }
   ],
   "source": [
    "def factorial(n):\n",
    "    if n == 0:\n",
    "        return 1\n",
    "    else:\n",
    "        return n * factorial(n-1)\n",
    "\n",
    "# Test the function\n",
    "num = 5\n",
    "print(\"Factorial of\", num, \"is\", factorial(num))\n"
   ]
  },
  {
   "cell_type": "markdown",
   "id": "acee852e-f31b-4352-b8ce-dd57522e2539",
   "metadata": {},
   "source": [
    "**3. Write a Python Program to calculate your Body Mass Index?**"
   ]
  },
  {
   "cell_type": "code",
   "execution_count": 4,
   "id": "9a80a8a2-a4fb-48af-adc6-cead59b6a5aa",
   "metadata": {},
   "outputs": [
    {
     "name": "stdin",
     "output_type": "stream",
     "text": [
      "Enter your weight in kg:  55\n",
      "Enter your height in meters:  1.3\n"
     ]
    },
    {
     "name": "stdout",
     "output_type": "stream",
     "text": [
      "Your BMI is: 32.54\n",
      "You are obese.\n"
     ]
    }
   ],
   "source": [
    "# function to calculate BMI\n",
    "def calculate_bmi(weight, height):\n",
    "    bmi = weight / (height ** 2)\n",
    "    return bmi\n",
    "\n",
    "# taking user input\n",
    "weight = float(input(\"Enter your weight in kg: \"))\n",
    "height = float(input(\"Enter your height in meters: \"))\n",
    "\n",
    "# calculating BMI and displaying the result\n",
    "bmi = calculate_bmi(weight, height)\n",
    "print(\"Your BMI is: {:.2f}\".format(bmi))\n",
    "\n",
    "# checking the BMI category\n",
    "if bmi < 18.5:\n",
    "    print(\"You are underweight.\")\n",
    "elif bmi >= 18.5 and bmi <= 24.9:\n",
    "    print(\"Your weight is normal.\")\n",
    "elif bmi >= 25 and bmi <= 29.9:\n",
    "    print(\"You are overweight.\")\n",
    "else:\n",
    "    print(\"You are obese.\")\n"
   ]
  },
  {
   "cell_type": "markdown",
   "id": "e0853cf7-996b-4d3d-9d66-e508cbfb77d6",
   "metadata": {},
   "source": [
    "**4. Write a Python Program to calculate the natural logarithm of any number?**"
   ]
  },
  {
   "cell_type": "code",
   "execution_count": 5,
   "id": "c5032cf4-9969-419a-a982-7c8fb537eb6d",
   "metadata": {},
   "outputs": [
    {
     "name": "stdin",
     "output_type": "stream",
     "text": [
      "Enter a number:  69\n"
     ]
    },
    {
     "name": "stdout",
     "output_type": "stream",
     "text": [
      "The natural logarithm of 69.0 is 4.23410650459726\n"
     ]
    }
   ],
   "source": [
    "import math\n",
    "\n",
    "# taking user input\n",
    "num = float(input(\"Enter a number: \"))\n",
    "\n",
    "# calculating natural logarithm and displaying the result\n",
    "ln = math.log(num)\n",
    "print(\"The natural logarithm of\", num, \"is\", ln)\n"
   ]
  },
  {
   "cell_type": "markdown",
   "id": "bd3d6e07-4d29-449a-8ece-ae1142e38059",
   "metadata": {},
   "source": [
    "**5. Write a Python Program for cube sum of first n natural numbers?**"
   ]
  },
  {
   "cell_type": "code",
   "execution_count": 6,
   "id": "27be2aeb-f4d6-4ddc-9bc2-d7c62a00396e",
   "metadata": {},
   "outputs": [
    {
     "name": "stdin",
     "output_type": "stream",
     "text": [
      "Enter a positive integer:  94\n"
     ]
    },
    {
     "name": "stdout",
     "output_type": "stream",
     "text": [
      "The cube sum of the first 94 natural numbers is 19936225\n"
     ]
    }
   ],
   "source": [
    "# taking user input\n",
    "n = int(input(\"Enter a positive integer: \"))\n",
    "\n",
    "# calculating cube sum and displaying the result\n",
    "cube_sum = (n * (n + 1) // 2) ** 2\n",
    "print(\"The cube sum of the first\", n, \"natural numbers is\", cube_sum)\n"
   ]
  },
  {
   "cell_type": "code",
   "execution_count": null,
   "id": "c214319c-4565-480b-b0af-2b3a0c869bda",
   "metadata": {},
   "outputs": [],
   "source": []
  }
 ],
 "metadata": {
  "kernelspec": {
   "display_name": "Python 3 (ipykernel)",
   "language": "python",
   "name": "python3"
  },
  "language_info": {
   "codemirror_mode": {
    "name": "ipython",
    "version": 3
   },
   "file_extension": ".py",
   "mimetype": "text/x-python",
   "name": "python",
   "nbconvert_exporter": "python",
   "pygments_lexer": "ipython3",
   "version": "3.10.6"
  }
 },
 "nbformat": 4,
 "nbformat_minor": 5
}
