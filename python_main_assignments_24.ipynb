{
 "cells": [
  {
   "cell_type": "markdown",
   "id": "ebfd5471-e52a-4daf-aec0-575d9205d343",
   "metadata": {},
   "source": [
    "# 1. What is the relationship between def statements and lambda expressions ?"
   ]
  },
  {
   "cell_type": "markdown",
   "id": "37140548-b9c3-47ae-b22e-ea3011a981ea",
   "metadata": {},
   "source": [
    "**def** is a keyword in python used for defining the normal function.\n",
    "\n",
    "**lambda** is a keyword that defines the anonymous function."
   ]
  },
  {
   "cell_type": "markdown",
   "id": "58d3a1d8-9f59-4d57-8a89-bd7021b55a15",
   "metadata": {},
   "source": [
    "# 2. What is the benefit of lambda?"
   ]
  },
  {
   "cell_type": "markdown",
   "id": "89ca5158-1cae-4955-be80-8afa9b37537b",
   "metadata": {},
   "source": [
    "* It avoids cluttering up the code with function definitions as the lambda helps us to use the function only once.\n",
    "\n",
    "* The function can be used immediately.\n",
    "\n",
    "* The function is defined in a single line."
   ]
  },
  {
   "cell_type": "markdown",
   "id": "278e9d29-17b5-4f00-89cb-2ea49e8d2c0b",
   "metadata": {},
   "source": [
    "# 3. Compare and contrast map, filter, and reduce."
   ]
  },
  {
   "cell_type": "markdown",
   "id": "034519b6-e2ed-4845-983e-633c3421fd70",
   "metadata": {},
   "source": [
    "**map()** : The map() takes another function and iterables as paramters. Basiclly, the map() works as an iterator that returns the result after the application of function to each and every item of an iterable.\n",
    "\n",
    "**filter()** : The filter() allows us to process an iterable and  the items that statisfies a given condition are extracted.\n",
    "\n",
    "**reduce()** : The reduce() function when applied to the iterables , it returns a single value."
   ]
  },
  {
   "cell_type": "markdown",
   "id": "736d7f6a-bab3-4735-aeb0-6e8ad1b0e487",
   "metadata": {},
   "source": [
    "# 4. What are function annotations, and how are they used?"
   ]
  },
  {
   "cell_type": "markdown",
   "id": "9ec37b93-c792-4210-88ca-e675b6539c2d",
   "metadata": {},
   "source": [
    "Function annotations are the random expressions which are written with the functions and at the time of compilation they are evaluated."
   ]
  },
  {
   "cell_type": "markdown",
   "id": "083b5d47-2f91-445f-b1f7-94ddc9462fa9",
   "metadata": {},
   "source": [
    "# 5. What are recursive functions, and how are they used?"
   ]
  },
  {
   "cell_type": "markdown",
   "id": "e1cf00d8-e2fa-4d11-8d84-f9b95e2998f8",
   "metadata": {},
   "source": [
    "The function that calls itself during the execution are called recursive function. This process can be repeated as many number of times and outputs the result at the end of each iteration."
   ]
  },
  {
   "cell_type": "markdown",
   "id": "54402085-dae0-4f20-81ab-8b0b1ede3916",
   "metadata": {},
   "source": [
    "# 6. What are some general design guidelines for coding functions?"
   ]
  },
  {
   "cell_type": "markdown",
   "id": "74da144c-9767-4a97-aa04-4b6ea7927bab",
   "metadata": {},
   "source": [
    "The guidelines for coding functions are:\n",
    "\n",
    "\n",
    "* Follow proper indentation inorder to increase the code readability. \n",
    "\n",
    "* Explain the functionality of the function by using `docstring`.\n",
    "\n",
    "* Global variables usage must be avoided as much as possible.\n",
    "\n",
    "* Avoid the digits while writing the variable name.\n",
    "\n",
    "* The naming convention of local variables should be done uing camelCase format and for the global variables it should be done using PascalCase format."
   ]
  },
  {
   "cell_type": "markdown",
   "id": "54fc72c3-4d69-487d-a0c0-c29a89a5c76c",
   "metadata": {},
   "source": [
    "# 7. Name three or more ways that functions can communicate results to a caller."
   ]
  },
  {
   "cell_type": "markdown",
   "id": "b75ead6f-aa96-41cd-bc27-c8888ac882c0",
   "metadata": {},
   "source": [
    "1. print\n",
    "\n",
    "2. yield\n",
    "\n",
    "3. return"
   ]
  }
 ],
 "metadata": {
  "kernelspec": {
   "display_name": "Python 3 (ipykernel)",
   "language": "python",
   "name": "python3"
  },
  "language_info": {
   "codemirror_mode": {
    "name": "ipython",
    "version": 3
   },
   "file_extension": ".py",
   "mimetype": "text/x-python",
   "name": "python",
   "nbconvert_exporter": "python",
   "pygments_lexer": "ipython3",
   "version": "3.10.6"
  }
 },
 "nbformat": 4,
 "nbformat_minor": 5
}
