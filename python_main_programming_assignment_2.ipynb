{
 "cells": [
  {
   "cell_type": "markdown",
   "id": "5dd142c7-2aad-457d-91e8-92f3f19a9ad8",
   "metadata": {},
   "source": [
    "# 1. Write a Python program to convert kilometers to miles?"
   ]
  },
  {
   "cell_type": "code",
   "execution_count": 2,
   "id": "cdf10760-5c94-4ace-92b3-74cf1ac4a2a6",
   "metadata": {},
   "outputs": [
    {
     "name": "stdin",
     "output_type": "stream",
     "text": [
      "Enter the kilometer value 55.5\n"
     ]
    },
    {
     "name": "stdout",
     "output_type": "stream",
     "text": [
      "55.5 km = 34.4860905 miles\n"
     ]
    }
   ],
   "source": [
    "kilometer = float(input(\"Enter the kilometer value\"))\n",
    "\n",
    "conversion_factor = 0.621371   # 1Km = 0.621.371 miles\n",
    "\n",
    "miles = kilometer * conversion_factor\n",
    "\n",
    "print(f\"{kilometer} km = {miles} miles\")"
   ]
  },
  {
   "cell_type": "markdown",
   "id": "8bffcb89-eba4-448b-a5d2-03254f15b9ff",
   "metadata": {},
   "source": [
    "# 2. Write a Python program to convert Celsius to Fahrenheit?"
   ]
  },
  {
   "cell_type": "code",
   "execution_count": 4,
   "id": "41a8b2ac-be05-457a-a25f-e1b4b815a87d",
   "metadata": {},
   "outputs": [
    {
     "name": "stdin",
     "output_type": "stream",
     "text": [
      "please enter the temperature in Celsius:  45\n"
     ]
    },
    {
     "name": "stdout",
     "output_type": "stream",
     "text": [
      "45.0 Celsius temperature = 113.0 Fahrenite\n"
     ]
    }
   ],
   "source": [
    "celsius = float(input(\"please enter the temperature in Celsius: \"))\n",
    "\n",
    "fahrenite = (celsius * 1.8) + 32\n",
    "\n",
    "print(f\"{celsius} Celsius temperature = {fahrenite} Fahrenite\")"
   ]
  },
  {
   "cell_type": "markdown",
   "id": "beb3b62c-a1e4-4617-80eb-d8524d3326b5",
   "metadata": {},
   "source": [
    "# 3. Write a Python program to display calendar?"
   ]
  },
  {
   "cell_type": "code",
   "execution_count": 7,
   "id": "14b8fbfa-27df-4ecf-83c8-c212857b5870",
   "metadata": {},
   "outputs": [
    {
     "name": "stdin",
     "output_type": "stream",
     "text": [
      "Enter the year:  2023\n",
      "Enter the month:  2\n"
     ]
    },
    {
     "name": "stdout",
     "output_type": "stream",
     "text": [
      "\n",
      "   February 2023\n",
      "Mo Tu We Th Fr Sa Su\n",
      "       1  2  3  4  5\n",
      " 6  7  8  9 10 11 12\n",
      "13 14 15 16 17 18 19\n",
      "20 21 22 23 24 25 26\n",
      "27 28\n",
      "\n"
     ]
    }
   ],
   "source": [
    "import calendar\n",
    "\n",
    "yy = int(input(\"Enter the year: \"))\n",
    "mm = int(input(\"Enter the month: \"))\n",
    "\n",
    "print()\n",
    "print(calendar.month(yy,mm))"
   ]
  },
  {
   "cell_type": "markdown",
   "id": "82a257d6-bd7c-4158-bc5b-8c94c9a53f99",
   "metadata": {},
   "source": [
    "# 4. Write a Python program to solve quadratic equation?"
   ]
  },
  {
   "cell_type": "code",
   "execution_count": 12,
   "id": "0fde234f-d026-4da3-80a2-e87c0cb46b7e",
   "metadata": {},
   "outputs": [
    {
     "name": "stdin",
     "output_type": "stream",
     "text": [
      "enter the a value:  1\n",
      "enter the b value:  4\n",
      "enter the c value:  2\n"
     ]
    },
    {
     "name": "stdout",
     "output_type": "stream",
     "text": [
      "The solutions are (-3.414213562373095+0j) and (-0.5857864376269049+0j)\n"
     ]
    }
   ],
   "source": [
    "import cmath\n",
    "\n",
    "a = int(input(\"enter the a value: \"))\n",
    "b = int(input(\"enter the b value: \"))\n",
    "c = int(input(\"enter the c value: \"))\n",
    "\n",
    "d = (b**2) - (4*a*c)\n",
    "\n",
    "n_ans = (-b-cmath.sqrt(d))/(2*a)\n",
    "p_ans = (-b+cmath.sqrt(d))/(2*a)\n",
    "\n",
    "print(f\"The solutions are {n_ans} and {p_ans}\")"
   ]
  },
  {
   "cell_type": "markdown",
   "id": "86c174b5-5972-4c34-8b71-78437c3f4b78",
   "metadata": {},
   "source": [
    "# 5. Write a Python program to swap two variables without temp variable?"
   ]
  },
  {
   "cell_type": "code",
   "execution_count": 19,
   "id": "0fc47e59-4690-4de2-81f3-9ef582a8c528",
   "metadata": {},
   "outputs": [
    {
     "name": "stdin",
     "output_type": "stream",
     "text": [
      "Enter the a value:  4\n",
      "Enter the b value:  5\n"
     ]
    },
    {
     "name": "stdout",
     "output_type": "stream",
     "text": [
      "\n",
      "Before swaping, a = 4 and b = 5\n",
      "after swaping, a = 5 and b = 4\n"
     ]
    }
   ],
   "source": [
    "a = int(input(\"Enter the a value: \"))\n",
    "b = int(input(\"Enter the b value: \"))\n",
    "\n",
    "print()\n",
    "print(f\"Before swaping, a = {a} and b = {b}\")\n",
    "a , b = b , a\n",
    "\n",
    "print(f\"after swaping, a = {a} and b = {b}\")"
   ]
  }
 ],
 "metadata": {
  "kernelspec": {
   "display_name": "Python 3 (ipykernel)",
   "language": "python",
   "name": "python3"
  },
  "language_info": {
   "codemirror_mode": {
    "name": "ipython",
    "version": 3
   },
   "file_extension": ".py",
   "mimetype": "text/x-python",
   "name": "python",
   "nbconvert_exporter": "python",
   "pygments_lexer": "ipython3",
   "version": "3.10.6"
  }
 },
 "nbformat": 4,
 "nbformat_minor": 5
}
