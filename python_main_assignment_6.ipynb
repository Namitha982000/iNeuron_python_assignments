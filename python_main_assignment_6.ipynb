{
 "cells": [
  {
   "cell_type": "markdown",
   "id": "5e9eb95b-461a-4425-b875-ea590fb1a5ff",
   "metadata": {},
   "source": [
    "# 1. What are escape characters, and how do you use them?"
   ]
  },
  {
   "cell_type": "markdown",
   "id": "0f491125-cfcc-4bd8-95ea-8437f91a4bba",
   "metadata": {},
   "source": [
    "In order to insert the characters that are not acceptable in a string, escape character is used. An escape character is a backslash (\\) follwed by the character required to insert. "
   ]
  },
  {
   "cell_type": "code",
   "execution_count": 7,
   "id": "ed60c154-4a7d-4978-b629-50c47889fbf1",
   "metadata": {},
   "outputs": [
    {
     "ename": "SyntaxError",
     "evalue": "invalid syntax (4177999449.py, line 3)",
     "output_type": "error",
     "traceback": [
      "\u001b[0;36m  Cell \u001b[0;32mIn [7], line 3\u001b[0;36m\u001b[0m\n\u001b[0;31m    message = \" hello world !.....My name is \"rama\", I am from Darwad. \"\u001b[0m\n\u001b[0m                                              ^\u001b[0m\n\u001b[0;31mSyntaxError\u001b[0m\u001b[0;31m:\u001b[0m invalid syntax\n"
     ]
    }
   ],
   "source": [
    "# example : If we use double quotes inside a string that is enclosed within double quotes, we get error when it is executed.\n",
    "\n",
    "message = \" hello world !.....My name is \"rama\", I am from Darwad. \" \n",
    "\n",
    "print(message)"
   ]
  },
  {
   "cell_type": "code",
   "execution_count": 8,
   "id": "e29f5b69-4cbe-41c8-855a-0c776f06f48e",
   "metadata": {},
   "outputs": [
    {
     "name": "stdout",
     "output_type": "stream",
     "text": [
      " hello world !.....My name is \"rama\", I am from Darwad. \n"
     ]
    }
   ],
   "source": [
    "# In order to overcome that error we insert the backslash as shown below.\n",
    "\n",
    "message = \" hello world !.....My name is \\\"rama\\\", I am from Darwad. \" \n",
    "\n",
    "print(message)"
   ]
  },
  {
   "cell_type": "markdown",
   "id": "77ec338c-1967-4633-856a-93f58532471b",
   "metadata": {},
   "source": [
    "# 2. What do the escape characters n and t stand for?"
   ]
  },
  {
   "cell_type": "markdown",
   "id": "23489885-7ed6-40a4-92ed-91f0f1e4ee03",
   "metadata": {},
   "source": [
    "\\n stands for new line.\n",
    "\n",
    "\\t stands for one tab space.\n"
   ]
  },
  {
   "cell_type": "markdown",
   "id": "e8158872-84da-48aa-a733-92ab4cd66bcf",
   "metadata": {},
   "source": [
    "# 3. What is the way to include backslash characters in a string?"
   ]
  },
  {
   "cell_type": "markdown",
   "id": "0a740330-f7ef-4abe-b74f-e7b2aa36f219",
   "metadata": {},
   "source": [
    "By inserting two backslashes or by using @ verbatim string, the backslash charaters can be included in a string.\n",
    "\n",
    "Example :\n",
    "\n",
    "string = \"\\\\ Hello World!\"\n",
    "\n",
    "string = @\"\\Hello World!\""
   ]
  },
  {
   "cell_type": "markdown",
   "id": "2d9901cf-a89f-4564-b129-588d825acf4d",
   "metadata": {},
   "source": [
    "# 4. The string \"Howl's Moving Castle\" is a correct value. Why isn&#39;t the single quote character in the word Howl's not escaped a problem?"
   ]
  },
  {
   "cell_type": "markdown",
   "id": "4a3acc77-7c39-4d1d-af9e-19fb057bd334",
   "metadata": {},
   "source": [
    "The single quote in Howl's is fine because we have used double quotes to mark the beginning and the end of the string."
   ]
  },
  {
   "cell_type": "markdown",
   "id": "65a30822-9da6-45d9-8805-3c66de8cff96",
   "metadata": {},
   "source": [
    "# 5. How do you write a string of newlines if you don't want to use the n character?"
   ]
  },
  {
   "cell_type": "code",
   "execution_count": 42,
   "id": "ba1a3333-2dd8-4130-b4fa-e485cf9e90cf",
   "metadata": {},
   "outputs": [
    {
     "name": "stdout",
     "output_type": "stream",
     "text": [
      "Hello world!  \n",
      "How are you?\n"
     ]
    }
   ],
   "source": [
    "a = \"\"\"Hello world!  \n",
    "How are you?\"\"\"\n",
    "\n",
    "print(a)"
   ]
  },
  {
   "cell_type": "markdown",
   "id": "4d78baa6-7fd3-43b4-a6e4-7d7057e3780c",
   "metadata": {},
   "source": [
    "# 6. What are the values of the given expressions?\n",
    "\n",
    "'Hello, world!'[1]\n",
    "\n",
    "'Hello, world!'[0:5]\n",
    "\n",
    "'Hello, world!'[:5]\n",
    "\n",
    "'Hello, world!'[3:]"
   ]
  },
  {
   "cell_type": "code",
   "execution_count": 9,
   "id": "591f63a8-552a-4418-909f-74876ac0ddd9",
   "metadata": {},
   "outputs": [],
   "source": [
    " a = 'Hello, world!'"
   ]
  },
  {
   "cell_type": "code",
   "execution_count": 10,
   "id": "bf4ab526-6734-424f-90bd-40e0fa7c3b30",
   "metadata": {},
   "outputs": [
    {
     "data": {
      "text/plain": [
       "'e'"
      ]
     },
     "execution_count": 10,
     "metadata": {},
     "output_type": "execute_result"
    }
   ],
   "source": [
    "a[1]"
   ]
  },
  {
   "cell_type": "code",
   "execution_count": 11,
   "id": "ac69642f-aa1a-4b84-a4b4-fd4ef5321db5",
   "metadata": {},
   "outputs": [
    {
     "data": {
      "text/plain": [
       "'Hello'"
      ]
     },
     "execution_count": 11,
     "metadata": {},
     "output_type": "execute_result"
    }
   ],
   "source": [
    "a[0:5]"
   ]
  },
  {
   "cell_type": "code",
   "execution_count": 12,
   "id": "8d8dd012-1f7d-4343-b4b8-7b8ea6ccb12d",
   "metadata": {},
   "outputs": [
    {
     "data": {
      "text/plain": [
       "'Hello'"
      ]
     },
     "execution_count": 12,
     "metadata": {},
     "output_type": "execute_result"
    }
   ],
   "source": [
    "a[:5]"
   ]
  },
  {
   "cell_type": "code",
   "execution_count": 13,
   "id": "e55b0ef7-dafe-458a-a2f6-e77d02f34e9c",
   "metadata": {},
   "outputs": [
    {
     "data": {
      "text/plain": [
       "'lo, world!'"
      ]
     },
     "execution_count": 13,
     "metadata": {},
     "output_type": "execute_result"
    }
   ],
   "source": [
    "a[3:]"
   ]
  },
  {
   "cell_type": "markdown",
   "id": "a46a86b9-7853-4cd7-9508-9a99055701c2",
   "metadata": {},
   "source": [
    "# 7. What are the values of the following expressions?\n",
    "\n",
    "'Hello'.upper()\n",
    "\n",
    "'Hello'.upper().isupper()\n",
    "\n",
    "'Hello'.upper().lower()"
   ]
  },
  {
   "cell_type": "code",
   "execution_count": 14,
   "id": "0147e44e-8232-4808-96d5-66b290072c8f",
   "metadata": {},
   "outputs": [
    {
     "data": {
      "text/plain": [
       "'HELLO'"
      ]
     },
     "execution_count": 14,
     "metadata": {},
     "output_type": "execute_result"
    }
   ],
   "source": [
    "'Hello'.upper()"
   ]
  },
  {
   "cell_type": "code",
   "execution_count": 15,
   "id": "80ee1de3-3415-42bd-9773-e95e52cf87a2",
   "metadata": {},
   "outputs": [
    {
     "data": {
      "text/plain": [
       "True"
      ]
     },
     "execution_count": 15,
     "metadata": {},
     "output_type": "execute_result"
    }
   ],
   "source": [
    "'Hello'.upper().isupper()"
   ]
  },
  {
   "cell_type": "code",
   "execution_count": 16,
   "id": "9cb4412e-5334-4d15-97c0-6b9068c5e60b",
   "metadata": {},
   "outputs": [
    {
     "data": {
      "text/plain": [
       "'hello'"
      ]
     },
     "execution_count": 16,
     "metadata": {},
     "output_type": "execute_result"
    }
   ],
   "source": [
    "'Hello'.upper().lower()"
   ]
  },
  {
   "cell_type": "markdown",
   "id": "390d1061-8276-4cdf-b943-75dc83fe713c",
   "metadata": {},
   "source": [
    "# 8. What are the values of the following expressions?\n",
    "\n",
    "'Remember, remember, the fifth of July.'.split()\n",
    "\n",
    "'-'.join('There can only one.'.split())"
   ]
  },
  {
   "cell_type": "code",
   "execution_count": 17,
   "id": "3f83b776-00c5-4d03-9bbb-8e55605a2a75",
   "metadata": {},
   "outputs": [
    {
     "data": {
      "text/plain": [
       "['Remember,', 'remember,', 'the', 'fifth', 'of', 'July.']"
      ]
     },
     "execution_count": 17,
     "metadata": {},
     "output_type": "execute_result"
    }
   ],
   "source": [
    "'Remember, remember, the fifth of July.'.split()\n"
   ]
  },
  {
   "cell_type": "code",
   "execution_count": 18,
   "id": "ad9360bc-ccea-4a44-a265-155147c35c27",
   "metadata": {},
   "outputs": [
    {
     "data": {
      "text/plain": [
       "'There-can-only-one.'"
      ]
     },
     "execution_count": 18,
     "metadata": {},
     "output_type": "execute_result"
    }
   ],
   "source": [
    "'-'.join('There can only one.'.split())"
   ]
  },
  {
   "cell_type": "markdown",
   "id": "258651fe-6490-4e90-afad-d7dfe57feb57",
   "metadata": {},
   "source": [
    "# 9. What are the methods for right-justifying, left-justifying, and centering a string?"
   ]
  },
  {
   "cell_type": "markdown",
   "id": "ebe5fcd0-ff48-4cc4-9b53-25b9a1618573",
   "metadata": {},
   "source": [
    "rjust() = right-justifying method.\n",
    "\n",
    "ljust() = left-justifying method.\n",
    "\n",
    "center() = centering method,"
   ]
  },
  {
   "cell_type": "code",
   "execution_count": 29,
   "id": "7cf8031e-2b0f-478e-a028-efe068ac60c0",
   "metadata": {},
   "outputs": [
    {
     "name": "stdout",
     "output_type": "stream",
     "text": [
      "**python**\n"
     ]
    }
   ],
   "source": [
    "a = \"python\"\n",
    "\n",
    "print(a.center(10,'*'))"
   ]
  },
  {
   "cell_type": "code",
   "execution_count": 30,
   "id": "a6b04d31-12e2-4183-babd-794e87a062b3",
   "metadata": {},
   "outputs": [
    {
     "name": "stdout",
     "output_type": "stream",
     "text": [
      "python****\n"
     ]
    }
   ],
   "source": [
    "a = \"python\"\n",
    "\n",
    "print(a.ljust(10,'*'))"
   ]
  },
  {
   "cell_type": "code",
   "execution_count": 31,
   "id": "3acfb57e-1bdc-4ba4-9287-dc3341d10931",
   "metadata": {},
   "outputs": [
    {
     "name": "stdout",
     "output_type": "stream",
     "text": [
      "****python\n"
     ]
    }
   ],
   "source": [
    "a = \"python\"\n",
    "\n",
    "print(a.rjust(10,'*'))"
   ]
  },
  {
   "cell_type": "markdown",
   "id": "70feaba4-d2c8-41c1-8537-86b351a4d09f",
   "metadata": {},
   "source": [
    "# 10. What is the best way to remove whitespace characters from the start or end?"
   ]
  },
  {
   "cell_type": "markdown",
   "id": "0b0374a7-5af7-4130-afd0-58ea9039d484",
   "metadata": {},
   "source": [
    "By using strip() we can remove whitespace characters: "
   ]
  },
  {
   "cell_type": "code",
   "execution_count": 20,
   "id": "769da516-59e4-4d1d-8782-5c1d76287a15",
   "metadata": {},
   "outputs": [
    {
     "data": {
      "text/plain": [
       "'hi world'"
      ]
     },
     "execution_count": 20,
     "metadata": {},
     "output_type": "execute_result"
    }
   ],
   "source": [
    "\"     hi world     \".strip()"
   ]
  },
  {
   "cell_type": "code",
   "execution_count": 21,
   "id": "907b6692-dd63-4d03-a5d7-eaf6a24adc8b",
   "metadata": {},
   "outputs": [
    {
     "data": {
      "text/plain": [
       "'   hi world'"
      ]
     },
     "execution_count": 21,
     "metadata": {},
     "output_type": "execute_result"
    }
   ],
   "source": [
    "\"   hi world   \".rstrip()"
   ]
  },
  {
   "cell_type": "code",
   "execution_count": 22,
   "id": "6e13da2f-30e0-45ea-837d-2897823459b8",
   "metadata": {},
   "outputs": [
    {
     "data": {
      "text/plain": [
       "'hi world  '"
      ]
     },
     "execution_count": 22,
     "metadata": {},
     "output_type": "execute_result"
    }
   ],
   "source": [
    "\"  hi world  \".lstrip()"
   ]
  }
 ],
 "metadata": {
  "kernelspec": {
   "display_name": "Python 3 (ipykernel)",
   "language": "python",
   "name": "python3"
  },
  "language_info": {
   "codemirror_mode": {
    "name": "ipython",
    "version": 3
   },
   "file_extension": ".py",
   "mimetype": "text/x-python",
   "name": "python",
   "nbconvert_exporter": "python",
   "pygments_lexer": "ipython3",
   "version": "3.10.6"
  }
 },
 "nbformat": 4,
 "nbformat_minor": 5
}
