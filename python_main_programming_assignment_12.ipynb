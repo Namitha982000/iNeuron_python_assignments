{
 "cells": [
  {
   "cell_type": "markdown",
   "id": "0ca38872-76a7-41b7-a385-0a351f006911",
   "metadata": {},
   "source": [
    "# Programming Assignment 12"
   ]
  },
  {
   "cell_type": "markdown",
   "id": "30079c4d-1c63-45e1-95be-a467a6fb88b4",
   "metadata": {},
   "source": [
    "#### 1. Write a Python program to Extract Unique values dictionary values?"
   ]
  },
  {
   "cell_type": "code",
   "execution_count": 1,
   "id": "e1fbf154-de4d-4f91-8173-f62f26ea3422",
   "metadata": {},
   "outputs": [
    {
     "name": "stdout",
     "output_type": "stream",
     "text": [
      "[1, 2, 3]\n"
     ]
    }
   ],
   "source": [
    "# Sample dictionary\n",
    "my_dict = {'a': 1, 'b': 2, 'c': 3, 'd': 2}\n",
    "\n",
    "# Get the unique values from the dictionary\n",
    "unique_values = list(set(my_dict.values()))\n",
    "\n",
    "# Print the unique values\n",
    "print(unique_values)\n"
   ]
  },
  {
   "cell_type": "markdown",
   "id": "96e9540b-688f-4ae9-859c-7b7ce70f4085",
   "metadata": {},
   "source": [
    "#### 2. Write a Python program to find the sum of all items in a dictionary?\n"
   ]
  },
  {
   "cell_type": "code",
   "execution_count": 2,
   "id": "92aab71a-f500-4995-8dc9-8db85778a45f",
   "metadata": {},
   "outputs": [
    {
     "name": "stdout",
     "output_type": "stream",
     "text": [
      "8\n"
     ]
    }
   ],
   "source": [
    "# Sample dictionary\n",
    "my_dict = {'a': 1, 'b': 2, 'c': 3, 'd': 2}\n",
    "\n",
    "# Calculate the sum of all items in the dictionary\n",
    "sum_of_values = sum(my_dict.values())\n",
    "\n",
    "# Print the sum\n",
    "print(sum_of_values)\n"
   ]
  },
  {
   "cell_type": "markdown",
   "id": "992fa663-b294-4cd0-a459-a91e07be4d33",
   "metadata": {},
   "source": [
    "#### 3. Write a Python program to Merging two Dictionaries?"
   ]
  },
  {
   "cell_type": "code",
   "execution_count": 3,
   "id": "2a2b1dc5-9d1d-421a-ba70-ffd4f6b73552",
   "metadata": {},
   "outputs": [
    {
     "name": "stdout",
     "output_type": "stream",
     "text": [
      "{'a': 1, 'b': 2, 'c': 3, 'd': 4}\n"
     ]
    }
   ],
   "source": [
    "# Sample dictionaries\n",
    "dict1 = {'a': 1, 'b': 2}\n",
    "dict2 = {'c': 3, 'd': 4}\n",
    "\n",
    "# Merge the two dictionaries\n",
    "merged_dict = {**dict1, **dict2}\n",
    "\n",
    "# Print the merged dictionary\n",
    "print(merged_dict)\n"
   ]
  },
  {
   "cell_type": "markdown",
   "id": "4e174651-9c15-4147-8457-669dc628d8c3",
   "metadata": {},
   "source": [
    "#### 4. Write a Python program to convert key-values list to flat dictionary?"
   ]
  },
  {
   "cell_type": "code",
   "execution_count": 4,
   "id": "44870989-281e-42f0-8361-de1f38458a8b",
   "metadata": {},
   "outputs": [
    {
     "name": "stdout",
     "output_type": "stream",
     "text": [
      "{'a': 1, 'b': 2, 'c': 3}\n"
     ]
    }
   ],
   "source": [
    "# Sample key-value list\n",
    "my_list = [('a', 1), ('b', 2), ('c', 3)]\n",
    "\n",
    "# Convert the key-value list to a dictionary\n",
    "flat_dict = dict(my_list)\n",
    "\n",
    "# Print the flat dictionary\n",
    "print(flat_dict)\n"
   ]
  },
  {
   "cell_type": "markdown",
   "id": "ab4ffd76-84c8-4600-a521-26e8e2288f80",
   "metadata": {},
   "source": [
    "#### 5. Write a Python program to insertion at the beginning in OrderedDict?"
   ]
  },
  {
   "cell_type": "code",
   "execution_count": 5,
   "id": "f26e4b88-0c84-4d2c-b0ec-b5772848189d",
   "metadata": {},
   "outputs": [
    {
     "name": "stdout",
     "output_type": "stream",
     "text": [
      "OrderedDict([('d', 4), ('a', 1), ('b', 2), ('c', 3)])\n"
     ]
    }
   ],
   "source": [
    "from collections import OrderedDict\n",
    "\n",
    "# Sample ordered dictionary\n",
    "my_ordered_dict = OrderedDict([('a', 1), ('b', 2), ('c', 3)])\n",
    "\n",
    "# Insert a new key-value pair at the beginning\n",
    "my_ordered_dict.update({'d': 4})\n",
    "\n",
    "# Move the new key-value pair to the beginning\n",
    "my_ordered_dict.move_to_end('d', last=False)\n",
    "\n",
    "# Print the updated ordered dictionary\n",
    "print(my_ordered_dict)\n"
   ]
  },
  {
   "cell_type": "markdown",
   "id": "f5221d0e-4ad2-43e1-b105-a99cfa4c77c3",
   "metadata": {},
   "source": [
    "#### 6. Write a Python program to check order of character in string using OrderedDict()?"
   ]
  },
  {
   "cell_type": "code",
   "execution_count": 6,
   "id": "11776f31-52f7-47fc-a07f-fa25a22ad854",
   "metadata": {},
   "outputs": [
    {
     "name": "stdout",
     "output_type": "stream",
     "text": [
      "True\n",
      "True\n"
     ]
    }
   ],
   "source": [
    "from collections import OrderedDict\n",
    "\n",
    "def check_order(string, pattern):\n",
    "    # Create an ordered dictionary to store the order of characters in the pattern\n",
    "    pattern_dict = OrderedDict.fromkeys(pattern)\n",
    "\n",
    "    # Initialize a variable to keep track of the current position in the pattern\n",
    "    current_pos = 0\n",
    "\n",
    "    # Iterate over each character in the string\n",
    "    for char in string:\n",
    "        # If the current character is in the pattern\n",
    "        if char in pattern_dict:\n",
    "            # If the current character matches the expected character in the pattern\n",
    "            if char == list(pattern_dict.keys())[current_pos]:\n",
    "                # Increment the current position in the pattern\n",
    "                current_pos += 1\n",
    "                # If the current position has reached the end of the pattern, return True\n",
    "                if current_pos == len(pattern_dict):\n",
    "                    return True\n",
    "    # If we reach the end of the string without finding the pattern, return False\n",
    "    return False\n",
    "\n",
    "# Test the function\n",
    "string = 'hello world'\n",
    "pattern = 'hlo'\n",
    "print(check_order(string, pattern))  # True\n",
    "\n",
    "pattern = 'hol'\n",
    "print(check_order(string, pattern))  # False\n"
   ]
  },
  {
   "cell_type": "markdown",
   "id": "8c8e4548-42a0-475c-a9e1-1c5744bce395",
   "metadata": {},
   "source": [
    "#### 7. Write a Python program to sort Python Dictionaries by Key or Value?"
   ]
  },
  {
   "cell_type": "code",
   "execution_count": 7,
   "id": "5b3da570-658d-4fbb-9c12-01739274d20b",
   "metadata": {},
   "outputs": [
    {
     "name": "stdout",
     "output_type": "stream",
     "text": [
      "{'a': 1, 'b': 2, 'c': 3}\n",
      "{'a': 1, 'b': 2, 'c': 3}\n"
     ]
    }
   ],
   "source": [
    "# Sample dictionary\n",
    "my_dict = {'b': 2, 'a': 1, 'c': 3}\n",
    "\n",
    "# Sort the dictionary by its keys and print it\n",
    "sorted_dict_by_keys = dict(sorted(my_dict.items()))\n",
    "print(sorted_dict_by_keys)\n",
    "\n",
    "# Sort the dictionary by its values and print it\n",
    "sorted_dict_by_values = dict(sorted(my_dict.items(), key=lambda x: x[1]))\n",
    "print(sorted_dict_by_values)\n"
   ]
  },
  {
   "cell_type": "code",
   "execution_count": null,
   "id": "082f0712-8686-4319-9689-1abdd35e2bae",
   "metadata": {},
   "outputs": [],
   "source": []
  }
 ],
 "metadata": {
  "kernelspec": {
   "display_name": "Python 3 (ipykernel)",
   "language": "python",
   "name": "python3"
  },
  "language_info": {
   "codemirror_mode": {
    "name": "ipython",
    "version": 3
   },
   "file_extension": ".py",
   "mimetype": "text/x-python",
   "name": "python",
   "nbconvert_exporter": "python",
   "pygments_lexer": "ipython3",
   "version": "3.10.6"
  }
 },
 "nbformat": 4,
 "nbformat_minor": 5
}
