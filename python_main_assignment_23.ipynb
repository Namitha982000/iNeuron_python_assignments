{
 "cells": [
  {
   "cell_type": "markdown",
   "id": "7296e505-cb76-4fd2-9aa1-e148e420d0fd",
   "metadata": {},
   "source": [
    "# 1. What is the result of the code, and why? \n",
    "# &gt;&gt;&gt; def func(a, b=6, c=8): \n",
    "# print(a, b, c)\n",
    "# &gt;&gt;&gt; func(1, 2)"
   ]
  },
  {
   "cell_type": "code",
   "execution_count": 1,
   "id": "8706141f-0c13-41db-a4f9-cf4057461808",
   "metadata": {},
   "outputs": [
    {
     "name": "stdout",
     "output_type": "stream",
     "text": [
      "1 2 8\n"
     ]
    }
   ],
   "source": [
    "def func(a, b=6, c=8):\n",
    "    print(a, b, c)\n",
    "    \n",
    "func(1,2)"
   ]
  },
  {
   "cell_type": "markdown",
   "id": "fef7e619-aa64-47d7-bdc2-0cd0f9c8e0d2",
   "metadata": {},
   "source": [
    "The result obtained for the above code is 1 2 8. The function uses the default value ie., c = 8 which is provided at the time of declaratiom, if the value is not given during the function call."
   ]
  },
  {
   "cell_type": "markdown",
   "id": "6486c3bd-38fa-4c0a-b67c-ddabdee47066",
   "metadata": {},
   "source": [
    "# 2. What is the result of this code, and why?\n",
    "# &gt;&gt;&gt; def func(a, b, c=5):\n",
    "# print(a, b, c)\n",
    "# &gt;&gt;&gt; func(1, c=3, b=2)"
   ]
  },
  {
   "cell_type": "code",
   "execution_count": 3,
   "id": "63a11342-5904-45a7-9075-731382de7009",
   "metadata": {},
   "outputs": [
    {
     "name": "stdout",
     "output_type": "stream",
     "text": [
      "1 2 3\n"
     ]
    }
   ],
   "source": [
    "def func(a, b, c=5):\n",
    "    print(a, b, c)\n",
    "    \n",
    "func(1, c=3, b=2)"
   ]
  },
  {
   "cell_type": "markdown",
   "id": "bcc7d13e-4dd1-473f-b4c7-046b7b399e1c",
   "metadata": {},
   "source": [
    "The result of this code obtained is 1 2 3. When the function is called,the value for arguments given are a = 1 , b = 2 and c = 3  and at the time of decalration the default value  provided for c is 5. But, the code outputs the result 1 2 3 because the values provided during the function call is given first priority and the values given at the time of declaration are ignored."
   ]
  },
  {
   "cell_type": "markdown",
   "id": "7a3389dc-1338-462c-977b-1d23ced30e61",
   "metadata": {},
   "source": [
    "# 3. How about this code: what is its result, and why?\n",
    "# &gt;&gt;&gt; def func(a, *pargs):\n",
    "# print(a, pargs)\n",
    "# &gt;&gt;&gt; func(1, 2, 3)"
   ]
  },
  {
   "cell_type": "code",
   "execution_count": 2,
   "id": "10fd1a80-7d2c-4de9-a86f-fd2433e74103",
   "metadata": {},
   "outputs": [
    {
     "name": "stdout",
     "output_type": "stream",
     "text": [
      "1 (2, 3)\n"
     ]
    }
   ],
   "source": [
    "def func(a, *pargs):\n",
    "    print(a, pargs)\n",
    "    \n",
    "func(1,2,3)"
   ]
  },
  {
   "cell_type": "markdown",
   "id": "70079b58-824b-4c03-93bb-dc10eae97176",
   "metadata": {},
   "source": [
    "The result of the above code is 1 (2,3). Here, `*pargs` is a variable length arguments. This takes any number of arguments and that will be stored in tuple. "
   ]
  },
  {
   "cell_type": "markdown",
   "id": "533b038b-3231-4cc7-9974-c49136770332",
   "metadata": {},
   "source": [
    "# 4. What does this code print, and why?\n",
    "# &gt;&gt;&gt; def func(a, **kargs):\n",
    "# print(a, kargs)\n",
    "# &gt;&gt;&gt; func(a=1, c=3, b=2)"
   ]
  },
  {
   "cell_type": "code",
   "execution_count": 4,
   "id": "85d36386-85aa-4bce-ad9e-793aa7d2f5d0",
   "metadata": {},
   "outputs": [
    {
     "name": "stdout",
     "output_type": "stream",
     "text": [
      "1 {'c': 3, 'b': 2}\n"
     ]
    }
   ],
   "source": [
    "def func(a, **kargs):\n",
    "    print(a, kargs)\n",
    "    \n",
    "func(a=1, c=3, b=2)"
   ]
  },
  {
   "cell_type": "markdown",
   "id": "b0c69848-eddb-40c9-bca6-b2dd11528a65",
   "metadata": {},
   "source": [
    "This code prints 1 {'c' : 3 , 'b' : 2}. Here, `**kargs` is a variable length keyword arguments. This takes any number of key-value pair i.e., in the dictionary format. "
   ]
  },
  {
   "cell_type": "markdown",
   "id": "e52142ad-b751-419c-8590-8dffe2260ba2",
   "metadata": {},
   "source": [
    "# 5. What gets printed by this, and explain?\n",
    "# &gt;&gt;&gt; def func(a, b, c=8, d=5): print(a, b, c, d)\n",
    "# &gt;&gt;&gt; func(1, *(5, 6))"
   ]
  },
  {
   "cell_type": "code",
   "execution_count": 5,
   "id": "8bf2d70b-4d6c-4216-8a91-c555544df7cc",
   "metadata": {},
   "outputs": [
    {
     "name": "stdout",
     "output_type": "stream",
     "text": [
      "1 5 6 5\n"
     ]
    }
   ],
   "source": [
    "def func(a, b, c=8, d=5):\n",
    "    print(a,b,c,d)\n",
    "    \n",
    "func(1, *(5,6))"
   ]
  },
  {
   "cell_type": "markdown",
   "id": "926e20c6-809d-47db-95b8-c7c607a1a82e",
   "metadata": {},
   "source": [
    "Here, the result printed is 1 5 6 5. Here, the functions takes 4 arguments. The value of a is given explicitly. The values for the arguments b and c i.e.,  provided during function call. The function will expand the `*(5,6)` and consider the value of b as 5 and value of c as 6. As the default value of d is provided in function declaration is 5. "
   ]
  },
  {
   "cell_type": "markdown",
   "id": "89581ed1-d883-4138-8bd6-4e015210da55",
   "metadata": {},
   "source": [
    "# 6. what is the result of this, and explain?\n",
    "# &gt;&gt;&gt; def func(a, b, c): a = 2; b[0] = &#39;x&#39;; c[&#39;a&#39;] = &#39;y&#39;\n",
    "# &gt;&gt;&gt; l=1; m=[1]; n={&#39;a&#39;:0}\n",
    "# &gt;&gt;&gt; func(l, m, n)"
   ]
  },
  {
   "cell_type": "code",
   "execution_count": 6,
   "id": "443b3b0a-16a4-49cc-9c47-83ab6ec84b29",
   "metadata": {},
   "outputs": [
    {
     "data": {
      "text/plain": [
       "(1, ['x'], {'a': 'y'})"
      ]
     },
     "execution_count": 6,
     "metadata": {},
     "output_type": "execute_result"
    }
   ],
   "source": [
    "def func(a, b, c): a = 2; b[0] = 'x'; c['a'] = 'y'\n",
    "l = 1; m=[1]; n={'a': 0}\n",
    "func(l, m, n)\n",
    "l,m,n"
   ]
  },
  {
   "cell_type": "markdown",
   "id": "a78e0494-6835-4c8b-b4d4-5ff592ca04f0",
   "metadata": {},
   "source": [
    "The result of the above code is 1, ['X'], {'a' : 'y'} . The l, m, n are provided as inputs to the function and the values of l, m, n are modified to l = 2, m =['x'] and n = {'a' : 'y'}"
   ]
  }
 ],
 "metadata": {
  "kernelspec": {
   "display_name": "Python 3 (ipykernel)",
   "language": "python",
   "name": "python3"
  },
  "language_info": {
   "codemirror_mode": {
    "name": "ipython",
    "version": 3
   },
   "file_extension": ".py",
   "mimetype": "text/x-python",
   "name": "python",
   "nbconvert_exporter": "python",
   "pygments_lexer": "ipython3",
   "version": "3.10.6"
  }
 },
 "nbformat": 4,
 "nbformat_minor": 5
}
