{
 "cells": [
  {
   "cell_type": "markdown",
   "id": "1803316e-5c77-4075-a4f8-750bc06477f9",
   "metadata": {},
   "source": [
    "# 1. How do you distinguish between shutil.copy() and shutil.copytree()?"
   ]
  },
  {
   "cell_type": "markdown",
   "id": "cdd845b4-4b18-41c3-8eb3-dcc6a2aa99a2",
   "metadata": {},
   "source": [
    "* shutil.copy() -> This will copy a single file.\n",
    "\n",
    "* shutil.copytree() -> This will copy the entire folder along with all its contents. "
   ]
  },
  {
   "cell_type": "markdown",
   "id": "90b678f5-e1b1-4bf0-a4bc-a7d7847371c2",
   "metadata": {},
   "source": [
    "# 2. What function is used to rename files??"
   ]
  },
  {
   "cell_type": "markdown",
   "id": "e9b32038-608e-4a20-914e-4f2f70f36734",
   "metadata": {},
   "source": [
    "shutil.move() is used to rename the file."
   ]
  },
  {
   "cell_type": "markdown",
   "id": "40a04a3c-1266-4c26-9057-2dbf1654c522",
   "metadata": {},
   "source": [
    "# 3. What is the difference between the delete functions in the send2trash and shutil modules?"
   ]
  },
  {
   "cell_type": "markdown",
   "id": "de2c2486-a369-4975-9b22-234bf9b91e33",
   "metadata": {},
   "source": [
    "* send2trash -> This function will send a file or folder to the recycle bin.\n",
    "\n",
    "* shutil modules -> This will permanently delete the files and folders."
   ]
  },
  {
   "cell_type": "markdown",
   "id": "d5bb3d75-45c2-4a2e-b23a-a2c0b72444a4",
   "metadata": {},
   "source": [
    "# 4. ZipFile objects have a close() method just like File objects’ close() method. What ZipFile method is equivalent to File objects’ open() method?"
   ]
  },
  {
   "cell_type": "markdown",
   "id": "3062320c-d65a-4ae9-8d50-8219e870de2b",
   "metadata": {},
   "source": [
    "zipfile.ZipFile() is equivalent to the open() function. Here, first argument is the file name and the second argument is the mode to open the zip file ('r', 'w', 'a')."
   ]
  },
  {
   "cell_type": "markdown",
   "id": "3fdb0dfa-6633-4353-96f4-d263cc7d325b",
   "metadata": {},
   "source": [
    "# 5. Create a programme that searches a folder tree for files with a certain file extension (such as .pdf or .jpg). Copy these files from whatever location they are in to a new folder."
   ]
  },
  {
   "cell_type": "code",
   "execution_count": null,
   "id": "4db43336-133b-44cb-b317-07c7ecbc4b58",
   "metadata": {},
   "outputs": [],
   "source": [
    "import os \n",
    "import shutil\n",
    "\n",
    "sp = input('Enter the absolute path of the source folder: ')\n",
    "\n",
    "fileExtType = input('Enter the type of file to copy (such as .pdf or .jpg):')\n",
    "\n",
    "fxt = fileExtType.lower()\n",
    "\n",
    "dp = input('Enter the absolute path of the destiantion folder: ')\n",
    "\n",
    "for foldername , subfolders, filenames in os.walk(sp):\n",
    "    \n",
    "    for filename in filenames:\n",
    "        \n",
    "        if filename.lower().endswith(fxt):\n",
    "            \n",
    "            print(foldername + '\\\\' + filename)\n",
    "            \n",
    "            copysp = os.path.join(foldername, filename)\n",
    "            \n",
    "            print(copysp)\n",
    "            \n",
    "            shutil.copy(copysp, dp)\n",
    "        \n",
    "        else:\n",
    "            continue"
   ]
  }
 ],
 "metadata": {
  "kernelspec": {
   "display_name": "Python 3 (ipykernel)",
   "language": "python",
   "name": "python3"
  },
  "language_info": {
   "codemirror_mode": {
    "name": "ipython",
    "version": 3
   },
   "file_extension": ".py",
   "mimetype": "text/x-python",
   "name": "python",
   "nbconvert_exporter": "python",
   "pygments_lexer": "ipython3",
   "version": "3.10.6"
  }
 },
 "nbformat": 4,
 "nbformat_minor": 5
}
