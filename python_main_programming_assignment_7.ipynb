{
 "cells": [
  {
   "cell_type": "markdown",
   "id": "042abc36-2ad5-4e59-b551-ca4de63f73b7",
   "metadata": {},
   "source": [
    "# Programming Assignment 7"
   ]
  },
  {
   "cell_type": "markdown",
   "id": "9669f68f-7f02-47be-bbbd-f879ff35de39",
   "metadata": {},
   "source": [
    "**1. Write a Python Program to find sum of array?**"
   ]
  },
  {
   "cell_type": "code",
   "execution_count": 2,
   "id": "9206182d-fe49-45c4-99f3-6e9d0ff1b77c",
   "metadata": {},
   "outputs": [
    {
     "name": "stdout",
     "output_type": "stream",
     "text": [
      "The sum of the array is: 30\n"
     ]
    }
   ],
   "source": [
    "# array of numbers\n",
    "numbers = [2, 4, 6, 8, 10]\n",
    "\n",
    "# initialize a variable to hold the sum\n",
    "sum = 0\n",
    "\n",
    "# loop through each number in the array and add it to the sum variable\n",
    "for number in numbers:\n",
    "    sum += number\n",
    "\n",
    "# print the sum\n",
    "print(\"The sum of the array is:\", sum)\n"
   ]
  },
  {
   "cell_type": "markdown",
   "id": "7743189d-cb7a-41c7-9a0e-9be1d9c625da",
   "metadata": {},
   "source": [
    "**2. Write a Python Program to find largest element in an array?**"
   ]
  },
  {
   "cell_type": "code",
   "execution_count": 3,
   "id": "70f85149-0f00-4bf5-9f8a-449f01581015",
   "metadata": {},
   "outputs": [
    {
     "name": "stdout",
     "output_type": "stream",
     "text": [
      "The largest number in the array is: 98\n"
     ]
    }
   ],
   "source": [
    "# array of numbers\n",
    "numbers = [45, 20, 73, 98, 35]\n",
    "\n",
    "# initialize a variable to hold the largest number\n",
    "largest_number = numbers[0]\n",
    "\n",
    "# loop through each number in the array and compare it with the current largest number\n",
    "for number in numbers:\n",
    "    if number > largest_number:\n",
    "        largest_number = number\n",
    "\n",
    "# print the largest number\n",
    "print(\"The largest number in the array is:\", largest_number)\n"
   ]
  },
  {
   "cell_type": "markdown",
   "id": "4270b43f-bc12-4748-b4bf-962ea5518e46",
   "metadata": {},
   "source": [
    "**3. Write a Python Program for array rotation?**"
   ]
  },
  {
   "cell_type": "code",
   "execution_count": 4,
   "id": "7969c039-587e-47c4-a560-62448dfc5edc",
   "metadata": {},
   "outputs": [
    {
     "name": "stdout",
     "output_type": "stream",
     "text": [
      "The rotated array is: [3, 4, 5, 1, 2]\n"
     ]
    }
   ],
   "source": [
    "# array of numbers\n",
    "numbers = [1, 2, 3, 4, 5]\n",
    "\n",
    "# number of times to rotate the array\n",
    "rotate_by = 2\n",
    "\n",
    "# rotate the array\n",
    "for i in range(rotate_by):\n",
    "    # remove the first element of the array and append it to the end\n",
    "    first_number = numbers.pop(0)\n",
    "    numbers.append(first_number)\n",
    "\n",
    "# print the rotated array\n",
    "print(\"The rotated array is:\", numbers)\n"
   ]
  },
  {
   "cell_type": "markdown",
   "id": "f9838c08-7f47-464c-a051-09fa8b661932",
   "metadata": {},
   "source": [
    "**4. Write a Python Program to Split the array and add the first part to the end?**"
   ]
  },
  {
   "cell_type": "code",
   "execution_count": 5,
   "id": "57a53efb-3592-49fe-a45b-e44b1396f09e",
   "metadata": {},
   "outputs": [
    {
     "name": "stdout",
     "output_type": "stream",
     "text": [
      "The new array is: [3, 4, 5, 1, 2]\n"
     ]
    }
   ],
   "source": [
    "# array of numbers\n",
    "numbers = [1, 2, 3, 4, 5]\n",
    "\n",
    "# index at which to split the array\n",
    "split_index = 2\n",
    "\n",
    "# split the array into two parts\n",
    "first_part = numbers[:split_index]\n",
    "second_part = numbers[split_index:]\n",
    "\n",
    "# add the first part to the end of the second part\n",
    "new_numbers = second_part + first_part\n",
    "\n",
    "# print the new array\n",
    "print(\"The new array is:\", new_numbers)\n"
   ]
  },
  {
   "cell_type": "markdown",
   "id": "b4753bb1-743d-4bd9-92a3-14c7d4f7d2d8",
   "metadata": {},
   "source": [
    "**5. Write a Python Program to check if given array is Monotonic?**"
   ]
  },
  {
   "cell_type": "code",
   "execution_count": 6,
   "id": "d5e0c12a-01dc-4cb8-8ead-e0d958dc08d5",
   "metadata": {},
   "outputs": [
    {
     "name": "stdout",
     "output_type": "stream",
     "text": [
      "The array is monotonic.\n"
     ]
    }
   ],
   "source": [
    "# array of numbers\n",
    "numbers = [1, 2, 3, 4, 5]\n",
    "\n",
    "# initialize variables to hold whether the array is increasing and decreasing\n",
    "is_increasing = True\n",
    "is_decreasing = True\n",
    "\n",
    "# loop through each number in the array and compare it with the previous number\n",
    "for i in range(1, len(numbers)):\n",
    "    if numbers[i] < numbers[i - 1]:\n",
    "        is_increasing = False\n",
    "    elif numbers[i] > numbers[i - 1]:\n",
    "        is_decreasing = False\n",
    "\n",
    "# print whether the array is monotonic or not\n",
    "if is_increasing or is_decreasing:\n",
    "    print(\"The array is monotonic.\")\n",
    "else:\n",
    "    print(\"The array is not monotonic.\")\n"
   ]
  },
  {
   "cell_type": "code",
   "execution_count": null,
   "id": "17d95fc7-8be7-4055-9fa3-f665ded5e238",
   "metadata": {},
   "outputs": [],
   "source": []
  }
 ],
 "metadata": {
  "kernelspec": {
   "display_name": "Python 3 (ipykernel)",
   "language": "python",
   "name": "python3"
  },
  "language_info": {
   "codemirror_mode": {
    "name": "ipython",
    "version": 3
   },
   "file_extension": ".py",
   "mimetype": "text/x-python",
   "name": "python",
   "nbconvert_exporter": "python",
   "pygments_lexer": "ipython3",
   "version": "3.10.6"
  }
 },
 "nbformat": 4,
 "nbformat_minor": 5
}
