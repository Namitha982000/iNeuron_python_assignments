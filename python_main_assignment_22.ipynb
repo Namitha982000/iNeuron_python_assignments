{
 "cells": [
  {
   "cell_type": "markdown",
   "id": "c67b2504-889a-4748-a1df-567e482fa985",
   "metadata": {},
   "source": [
    "# 1. What is the result of the code, and explain?\n",
    "\n",
    "# &gt;&gt;&gt; X = &#39;iNeuron&#39;\n",
    "# &gt;&gt;&gt; def func():\n",
    "# print(X)\n",
    "\n",
    "# &gt;&gt;&gt; func()"
   ]
  },
  {
   "cell_type": "code",
   "execution_count": 1,
   "id": "577208d4-0bc5-4fa2-aae4-62eedd6a8b3b",
   "metadata": {},
   "outputs": [
    {
     "name": "stdout",
     "output_type": "stream",
     "text": [
      "iNeuron\n"
     ]
    }
   ],
   "source": [
    "X = 'iNeuron'\n",
    "\n",
    "def func():\n",
    "    print(X)\n",
    "    \n",
    "func()"
   ]
  },
  {
   "cell_type": "markdown",
   "id": "46bd720b-ecef-4c97-83c9-3d3814d59d23",
   "metadata": {},
   "source": [
    "The result obtained for this code is 'iNeuron'. Here, The function firsts checks for the variable X in its local scope, as the variable X is a global variable and is not a local variable, The function returns the global variable X which is assigned by the string value 'iNeuron'."
   ]
  },
  {
   "cell_type": "markdown",
   "id": "29c1f9e7-5675-498a-9fa6-f0f671791c47",
   "metadata": {},
   "source": [
    "# 2. What is the result of the code, and explain?\n",
    "\n",
    "# &gt;&gt;&gt; X = &#39;iNeuron&#39;\n",
    "# &gt;&gt;&gt; def func():\n",
    "# X = &#39;NI!&#39;\n",
    "\n",
    "# &gt;&gt;&gt; func()\n",
    "# &gt;&gt;&gt; print(X)"
   ]
  },
  {
   "cell_type": "code",
   "execution_count": 2,
   "id": "bb8a687e-a85c-4012-8df0-dfd2a8a289d5",
   "metadata": {},
   "outputs": [
    {
     "name": "stdout",
     "output_type": "stream",
     "text": [
      "iNeuron\n"
     ]
    }
   ],
   "source": [
    "X = 'iNeuron'\n",
    "\n",
    "def func():\n",
    "    \n",
    "    X = 'Ni!'\n",
    "    \n",
    "func()\n",
    "print(X)"
   ]
  },
  {
   "cell_type": "code",
   "execution_count": 3,
   "id": "dcd35662-ca6c-4a19-b4e1-13d2d0d5d68c",
   "metadata": {},
   "outputs": [
    {
     "name": "stdout",
     "output_type": "stream",
     "text": [
      "Ni!\n"
     ]
    }
   ],
   "source": [
    "X = 'iNeuron'\n",
    "\n",
    "def func():\n",
    "    \n",
    "    X = 'Ni!'\n",
    "    print(X)\n",
    "    \n",
    "func()"
   ]
  },
  {
   "cell_type": "markdown",
   "id": "f407add5-93e9-4197-9913-3ff62de51b8c",
   "metadata": {},
   "source": [
    "The result obtained from this code is Ni! as the function first checks for the local variable, and if local variable is not available then only it checks for global variable X. But, here the local variable is available. Hence, when the function is called, it prints 'NI!'."
   ]
  },
  {
   "cell_type": "markdown",
   "id": "0445a070-4053-414e-9ee6-8b513a560fae",
   "metadata": {},
   "source": [
    "# 3. What does this code print, and why?\n",
    "\n",
    "# &gt;&gt;&gt; X = &#39;iNeuron&#39;\n",
    "# &gt;&gt;&gt; def func():\n",
    "# X = &#39;NI&#39;\n",
    "# print(X)\n",
    "\n",
    "# &gt;&gt;&gt; func()\n",
    "# &gt;&gt;&gt; print(X)"
   ]
  },
  {
   "cell_type": "code",
   "execution_count": 4,
   "id": "63200261-c85b-4e58-8bb5-b162219d4d88",
   "metadata": {},
   "outputs": [],
   "source": [
    "X = 'iNeuron'\n",
    "\n",
    "def func():\n",
    "    X = 'NI'\n",
    "    print(X)"
   ]
  },
  {
   "cell_type": "code",
   "execution_count": 6,
   "id": "9c6aa11a-950a-4f6a-929b-92b232436e4f",
   "metadata": {},
   "outputs": [
    {
     "name": "stdout",
     "output_type": "stream",
     "text": [
      "NI\n"
     ]
    }
   ],
   "source": [
    "func()"
   ]
  },
  {
   "cell_type": "code",
   "execution_count": 9,
   "id": "92afeaa5-9b11-48a4-9123-1c1815905512",
   "metadata": {},
   "outputs": [
    {
     "name": "stdout",
     "output_type": "stream",
     "text": [
      "iNeuron\n"
     ]
    }
   ],
   "source": [
    "print(X)"
   ]
  },
  {
   "cell_type": "markdown",
   "id": "32b6006e-e1a0-4a70-a132-99be06f5c53a",
   "metadata": {},
   "source": [
    "After the code is executed, when the function func() is called, The function first checks for local variable if local variable is not available then only the function checks for global variable. In this case, The local variable is available. Hence, when the function func() is called, it prints the local variable X = 'NI' as the print() function is present. The print function which is present after the function func() is terminated will return the global variable X = 'iNeuron' since it is present after the function is terminated and function is called. "
   ]
  },
  {
   "cell_type": "markdown",
   "id": "423cafcd-2c2a-4605-a26a-f924fbeb7919",
   "metadata": {},
   "source": [
    "# 4. What output does this code produce? Why?\n",
    "\n",
    "# &gt;&gt;&gt; X = &#39;iNeuron&#39;\n",
    "# &gt;&gt;&gt; def func():\n",
    "# global X\n",
    "# X = &#39;NI&#39;\n",
    "\n",
    "# &gt;&gt;&gt; func()\n",
    "# &gt;&gt;&gt; print(X)"
   ]
  },
  {
   "cell_type": "code",
   "execution_count": 1,
   "id": "c1ff1a0e-ec4f-4ab9-9e35-b7b755981089",
   "metadata": {},
   "outputs": [],
   "source": [
    "X = 'iNeuron'\n",
    "\n",
    "def func():\n",
    "    \n",
    "    global X\n",
    "    \n",
    "    X = 'NI'"
   ]
  },
  {
   "cell_type": "code",
   "execution_count": 2,
   "id": "1b94bbdf-ea07-46a0-9cc2-e6d8a021cdcd",
   "metadata": {},
   "outputs": [],
   "source": [
    "func()"
   ]
  },
  {
   "cell_type": "code",
   "execution_count": 3,
   "id": "e1f56fb0-a53c-47ed-a68d-b46001cf2373",
   "metadata": {},
   "outputs": [
    {
     "name": "stdout",
     "output_type": "stream",
     "text": [
      "NI\n"
     ]
    }
   ],
   "source": [
    "print(X)"
   ]
  },
  {
   "cell_type": "markdown",
   "id": "676dbbf1-1672-461b-9586-cb26e8a0dc58",
   "metadata": {},
   "source": [
    "Here, the output obtained is 'NI' as the global keyword permits the variable that can be accessed in the current scope. Hence, the function func() directly accessed the varible X in global scope and it replaced X = 'iNeuron' by X = 'NI'. Therefore, the output obtained is 'NI'"
   ]
  },
  {
   "cell_type": "markdown",
   "id": "8609aca7-4cae-47fc-8db1-7a8ec5386bf4",
   "metadata": {},
   "source": [
    "# 5. What about this code—what’s the output, and why?\n",
    "\n",
    "# &gt;&gt;&gt; X = &#39;iNeuron&#39;\n",
    "# &gt;&gt;&gt; def func():\n",
    "# X = &#39;NI&#39;\n",
    "# def nested():\n",
    "# print(X)\n",
    "# nested()\n",
    "\n",
    "# &gt;&gt;&gt; func()\n",
    "# &gt;&gt;&gt; X"
   ]
  },
  {
   "cell_type": "code",
   "execution_count": 14,
   "id": "45dea647-e42b-40b7-ad3d-7602ee31f515",
   "metadata": {},
   "outputs": [],
   "source": [
    "X = 'iNeuron'\n",
    "\n",
    "def func():\n",
    "    X = 'NI'\n",
    "    def nested():\n",
    "        print(X)\n",
    "    nested()"
   ]
  },
  {
   "cell_type": "code",
   "execution_count": 15,
   "id": "87671cd5-f3c7-493d-9c24-4f7f0333f3e7",
   "metadata": {},
   "outputs": [
    {
     "name": "stdout",
     "output_type": "stream",
     "text": [
      "NI\n"
     ]
    }
   ],
   "source": [
    "func()"
   ]
  },
  {
   "cell_type": "code",
   "execution_count": 8,
   "id": "8c7ad2d5-b1c6-4b45-945a-7ec3f5ab34fb",
   "metadata": {},
   "outputs": [
    {
     "data": {
      "text/plain": [
       "'iNeuron'"
      ]
     },
     "execution_count": 8,
     "metadata": {},
     "output_type": "execute_result"
    }
   ],
   "source": [
    "X"
   ]
  },
  {
   "cell_type": "markdown",
   "id": "82c96b92-de21-4941-b6ae-a61ecf21afd3",
   "metadata": {},
   "source": [
    "Here, the output obtained is NI. Here, the function nested checks for variable X in its global scope. as the global variable for variable X in function nested() is NI."
   ]
  },
  {
   "cell_type": "markdown",
   "id": "d815cade-c954-47a7-a3c0-e2547f11595b",
   "metadata": {},
   "source": [
    "# 6. How about this code: what is its output in Python 3, and explain?\n",
    "\n",
    "# &gt;&gt;&gt; def func():\n",
    "# X = &#39;NI&#39;\n",
    "# def nested():\n",
    "# nonlocal X\n",
    "# X = &#39;Spam&#39;\n",
    "# nested()\n",
    "# print(X)\n",
    "\n",
    "# &gt;&gt;&gt; func()"
   ]
  },
  {
   "cell_type": "code",
   "execution_count": 1,
   "id": "3b2f73af-5bd0-4f83-8ce3-5a628afc6695",
   "metadata": {},
   "outputs": [],
   "source": [
    "def func():\n",
    "    X ='NI'\n",
    "    def nested():\n",
    "        nonlocal X\n",
    "        X = 'Spam'\n",
    "    nested()\n",
    "    print(X)"
   ]
  },
  {
   "cell_type": "code",
   "execution_count": 2,
   "id": "0a2cf581-05ae-4add-8086-6b80aed4d06c",
   "metadata": {},
   "outputs": [
    {
     "name": "stdout",
     "output_type": "stream",
     "text": [
      "Spam\n"
     ]
    }
   ],
   "source": [
    "func()"
   ]
  },
  {
   "cell_type": "markdown",
   "id": "1b0befed-a70b-41b9-ac4e-5c2f5ae6f55a",
   "metadata": {},
   "source": [
    "Here, the output obtained is Spam. The keyword nonlocal in python declares a variable as not local. Therefore, the statement X = \"Spam\" is altered in the globalscope. Therefore, the output of print(X) statement is Spam."
   ]
  }
 ],
 "metadata": {
  "kernelspec": {
   "display_name": "Python 3 (ipykernel)",
   "language": "python",
   "name": "python3"
  },
  "language_info": {
   "codemirror_mode": {
    "name": "ipython",
    "version": 3
   },
   "file_extension": ".py",
   "mimetype": "text/x-python",
   "name": "python",
   "nbconvert_exporter": "python",
   "pygments_lexer": "ipython3",
   "version": "3.10.6"
  }
 },
 "nbformat": 4,
 "nbformat_minor": 5
}
