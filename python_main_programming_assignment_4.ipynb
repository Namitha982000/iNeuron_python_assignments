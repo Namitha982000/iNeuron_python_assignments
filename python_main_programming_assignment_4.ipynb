{
 "cells": [
  {
   "cell_type": "markdown",
   "id": "572754ba-f601-41d7-b9c1-2a1bb237aebb",
   "metadata": {},
   "source": [
    "# 1. Write a Python Program to Find the Factorial of a Number?"
   ]
  },
  {
   "cell_type": "code",
   "execution_count": 7,
   "id": "e7d45a74-9473-424f-b80e-70ce4b56d5db",
   "metadata": {},
   "outputs": [
    {
     "name": "stdin",
     "output_type": "stream",
     "text": [
      "Enter a number to find a factorial:  5\n"
     ]
    },
    {
     "name": "stdout",
     "output_type": "stream",
     "text": [
      "120\n"
     ]
    }
   ],
   "source": [
    "n = int(input(\"Enter a number to find a factorial: \"))\n",
    "ans = 1\n",
    "for i in range(1, n+1):\n",
    "    ans = ans * i\n",
    "print(ans)"
   ]
  },
  {
   "cell_type": "markdown",
   "id": "034f0418-ffb2-46a9-8546-efefed6cc1ab",
   "metadata": {},
   "source": [
    "# 2. Write a Python Program to Display the multiplication Table?"
   ]
  },
  {
   "cell_type": "code",
   "execution_count": 29,
   "id": "a60b8066-6062-4ed3-9e05-6fbdd0e3d8f2",
   "metadata": {},
   "outputs": [
    {
     "name": "stdin",
     "output_type": "stream",
     "text": [
      "Enter the number:  6\n"
     ]
    },
    {
     "name": "stdout",
     "output_type": "stream",
     "text": [
      "6 * 1 = 6\n",
      "6 * 2 = 12\n",
      "6 * 3 = 18\n",
      "6 * 4 = 24\n",
      "6 * 5 = 30\n",
      "6 * 6 = 36\n",
      "6 * 7 = 42\n",
      "6 * 8 = 48\n",
      "6 * 9 = 54\n",
      "6 * 10 = 60\n"
     ]
    }
   ],
   "source": [
    "n = int(input(\"Enter the number: \"))\n",
    "prod = 1\n",
    "for i in range(1,11):\n",
    "    prod = n * i\n",
    "    print(f\"{n} * {i} = {prod}\")"
   ]
  },
  {
   "cell_type": "markdown",
   "id": "44a2ebfd-12e7-45a5-9cbd-69a205e7c6c6",
   "metadata": {},
   "source": [
    "# 3. Write a Python Program to Print the Fibonacci sequence?"
   ]
  },
  {
   "cell_type": "code",
   "execution_count": 6,
   "id": "4ab06e81-ff1d-4ae5-95ad-126c708140b4",
   "metadata": {},
   "outputs": [
    {
     "name": "stdin",
     "output_type": "stream",
     "text": [
      "How many numbers to be printed?  5\n"
     ]
    },
    {
     "name": "stdout",
     "output_type": "stream",
     "text": [
      "The fibonacci sequence :\n",
      "0\n",
      "1\n",
      "1\n",
      "2\n",
      "3\n"
     ]
    }
   ],
   "source": [
    "n = int(input(\"How many numbers to be printed? \"))\n",
    "\n",
    "n1 = 0\n",
    "n2 = 1\n",
    "count = 0\n",
    "\n",
    "if n <= 0:\n",
    "    print(\"The given number is invalid, please enter the positive integer\")\n",
    "elif n == 1:\n",
    "    print(f\"The Fibonacci sequence of the numbers up to {n} :\")\n",
    "    print(n1)\n",
    "else:\n",
    "    print(\"The fibonacci sequence :\")\n",
    "    while count < n:\n",
    "        print(n1)\n",
    "        temp = n1 + n2\n",
    "        n1 = n2 \n",
    "        n2 = temp\n",
    "        count += 1"
   ]
  },
  {
   "cell_type": "markdown",
   "id": "9a2edc8f-158b-43b2-ba13-49e96a521f75",
   "metadata": {},
   "source": [
    "# 4. Write a Python Program to Check Armstrong Number?"
   ]
  },
  {
   "cell_type": "code",
   "execution_count": 4,
   "id": "844a41a4-20c1-4276-9cee-3f817a06cd61",
   "metadata": {},
   "outputs": [
    {
     "name": "stdin",
     "output_type": "stream",
     "text": [
      "Enter a number:  407\n"
     ]
    },
    {
     "name": "stdout",
     "output_type": "stream",
     "text": [
      "407 is an amstrong number\n"
     ]
    }
   ],
   "source": [
    "n = int(input(\"Enter a number: \"))\n",
    "\n",
    "s = 0\n",
    "\n",
    "temp = n\n",
    "while temp > 0:\n",
    "    a = temp % 10\n",
    "    s += a ** 3\n",
    "    temp //= 10\n",
    "    \n",
    "if n == s:\n",
    "    print(f\"{n} is an amstrong number\")\n",
    "else:\n",
    "    print(f\"{n} is not an amstrong number\")"
   ]
  },
  {
   "cell_type": "markdown",
   "id": "4c5743ba-340b-45b1-ad8d-c2fd2bbd2634",
   "metadata": {},
   "source": [
    "# 5. Write a Python Program to Find Armstrong Number in an Interval?"
   ]
  },
  {
   "cell_type": "code",
   "execution_count": 8,
   "id": "c46904a1-1a86-496a-b4ce-88474e6e92f8",
   "metadata": {},
   "outputs": [
    {
     "name": "stdin",
     "output_type": "stream",
     "text": [
      "Enter lower range:  200\n",
      "Enter upper range:  700\n"
     ]
    },
    {
     "name": "stdout",
     "output_type": "stream",
     "text": [
      "216\n",
      "370\n",
      "371\n",
      "407\n"
     ]
    }
   ],
   "source": [
    "lower = int(input(\"Enter lower range: \"))\n",
    "upper = int(input(\"Enter upper range: \"))\n",
    "\n",
    "for i in range(lower, upper+1):\n",
    "    s = 0\n",
    "    temp = i\n",
    "    while temp > 0:\n",
    "        a = temp % 10\n",
    "        s += a ** 3\n",
    "        temp //= 10\n",
    "        if i == s:\n",
    "            print(i)"
   ]
  },
  {
   "cell_type": "markdown",
   "id": "c01ae13a-583d-4d0d-9552-c34de4cf3312",
   "metadata": {},
   "source": [
    "# 6. Write a Python Program to Find the Sum of Natural Numbers?"
   ]
  },
  {
   "cell_type": "code",
   "execution_count": 6,
   "id": "ce7270b6-a65d-4c59-942a-447b197bcdcf",
   "metadata": {},
   "outputs": [
    {
     "name": "stdin",
     "output_type": "stream",
     "text": [
      "Enter a number:  6\n"
     ]
    },
    {
     "name": "stdout",
     "output_type": "stream",
     "text": [
      "The sum is  21\n"
     ]
    }
   ],
   "source": [
    "n = int(input(\"Enter a number: \"))\n",
    "\n",
    "if n < 0:\n",
    "    print(\"Enter a positive number\")\n",
    "else:\n",
    "    s = 0\n",
    "    while(n > 0):\n",
    "        s += n\n",
    "        n -= 1\n",
    "    print(\"The sum is \", s)"
   ]
  }
 ],
 "metadata": {
  "kernelspec": {
   "display_name": "Python 3 (ipykernel)",
   "language": "python",
   "name": "python3"
  },
  "language_info": {
   "codemirror_mode": {
    "name": "ipython",
    "version": 3
   },
   "file_extension": ".py",
   "mimetype": "text/x-python",
   "name": "python",
   "nbconvert_exporter": "python",
   "pygments_lexer": "ipython3",
   "version": "3.10.6"
  }
 },
 "nbformat": 4,
 "nbformat_minor": 5
}
