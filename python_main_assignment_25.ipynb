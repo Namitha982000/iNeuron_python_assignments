{
 "cells": [
  {
   "cell_type": "markdown",
   "id": "81a7f5f3-9902-4717-aa82-8c88594070f0",
   "metadata": {},
   "source": [
    "# 1) . What is the difference between enclosing a list comprehension in square brackets and parentheses?"
   ]
  },
  {
   "cell_type": "markdown",
   "id": "35a56856-3da2-4b28-86e0-01b7b6e27fc6",
   "metadata": {},
   "source": [
    "* Enclosing a list comprehension in a square bracket returns list.\n",
    "\n",
    "* Enclosing a list comprehension in a paranthesis returns generator object."
   ]
  },
  {
   "cell_type": "markdown",
   "id": "6e4bb173-402e-4a49-ac3f-fc4edb5da8b6",
   "metadata": {},
   "source": [
    "# 2) What is the relationship between generators and iterators?"
   ]
  },
  {
   "cell_type": "markdown",
   "id": "d3fda0d5-671a-4cba-b3f8-aae28a117b25",
   "metadata": {},
   "source": [
    "* An iterator is an object that contains a countable number of values. It iterates over iterable objects such as list, tuple, sets etc. By using class, the iterators are implemented. It follows lazy evaluation. In this case, the evaluation of the expression will be on hold and stored in the memory until the item is called specifically which helps us to avoid repeated evaluation. Hence, it requires only 1 memory location to process the value. Here, the iter() keyword is used to create an iterator containing an iterable object. and next() keyword is used to call the next element in the iterable object.\n",
    "\n",
    "* The generators are nothing nut the another way of creating iterators by using the keyword yield instead of return i a function defined as Generators are implemented using functions. Similar to the iterators, the generators also follows lazy evaluation. Here, the yield function returns the result without affecting the function. Instead this will return a  sequence of data in an iterable format where we need to iterate over the sequence to use the dataas they won't store the entire sequence in the memory."
   ]
  },
  {
   "cell_type": "markdown",
   "id": "514fa7e0-0628-4e0e-8487-82d047ec8197",
   "metadata": {},
   "source": [
    "# 3) What are the signs that a function is a generator function?"
   ]
  },
  {
   "cell_type": "markdown",
   "id": "830efff2-03f0-4fb9-a6b8-5b6b42ace897",
   "metadata": {},
   "source": [
    "* Firstly, the generator function uses yield keyword instead of return keyword. \n",
    "\n",
    "* A generator function always returns an iterable object called generator. "
   ]
  },
  {
   "cell_type": "markdown",
   "id": "e148873b-ace4-4cca-9b44-0e865f139cc9",
   "metadata": {},
   "source": [
    "# 4) What is the purpose of a yield statement?"
   ]
  },
  {
   "cell_type": "markdown",
   "id": "35b7436d-cf7c-41a1-b16a-807fb7f4cb58",
   "metadata": {},
   "source": [
    "The yield keyword controls the flow of a generator function. Tis paoses generator function execution and the value of this expression following the yiels keyword is returned to the generrrator's caller."
   ]
  },
  {
   "cell_type": "markdown",
   "id": "d1eb7c2f-2e7b-4f7a-970d-1681f0d312c5",
   "metadata": {},
   "source": [
    "# 5) What is the relationship between map calls and list comprehensions? Make a comparison and contrast between the two."
   ]
  },
  {
   "cell_type": "markdown",
   "id": "267f9c09-e243-41b7-aea8-78b881a9b2cd",
   "metadata": {},
   "source": [
    "1. Comparing to the map, the list comprehension is more easier to read.\n",
    "\n",
    "2. list comrehension is faster when compared to map when the comlicated expressions should be evaluated.\n",
    "\n",
    "3. List comprehension is used when a list of results is required as final output.\n",
    "\n",
    "4. map returns map object.\n",
    "\n",
    "5. list coprehension allows filtering but not in case of map."
   ]
  }
 ],
 "metadata": {
  "kernelspec": {
   "display_name": "Python 3 (ipykernel)",
   "language": "python",
   "name": "python3"
  },
  "language_info": {
   "codemirror_mode": {
    "name": "ipython",
    "version": 3
   },
   "file_extension": ".py",
   "mimetype": "text/x-python",
   "name": "python",
   "nbconvert_exporter": "python",
   "pygments_lexer": "ipython3",
   "version": "3.10.6"
  }
 },
 "nbformat": 4,
 "nbformat_minor": 5
}
