{
 "cells": [
  {
   "cell_type": "markdown",
   "id": "e55225d6-078c-4550-a15c-bbe8618c9287",
   "metadata": {},
   "source": [
    "# 1. Write a Python Program to Find LCM?"
   ]
  },
  {
   "cell_type": "code",
   "execution_count": 2,
   "id": "20d9d0ec-2ed3-4a64-8b47-a3607eeb3db1",
   "metadata": {},
   "outputs": [
    {
     "name": "stdout",
     "output_type": "stream",
     "text": [
      "The LCM of 3 and 4 is 12\n"
     ]
    }
   ],
   "source": [
    "def lcm(x,y):\n",
    "    \n",
    "    if x > y:\n",
    "        greater = x\n",
    "    else:\n",
    "        greater = y\n",
    "        \n",
    "    while(True):\n",
    "        if((greater % x == 0) and (greater % y == 0)):\n",
    "            lcm = greater\n",
    "            break\n",
    "        greater += 1\n",
    "    return lcm\n",
    "        \n",
    "print(f\"The LCM of {n1} and {n2} is {lcm(3,4)}\")"
   ]
  },
  {
   "cell_type": "markdown",
   "id": "8b84ed98-c96d-4104-927e-5b910e25424e",
   "metadata": {},
   "source": [
    "# 2. Write a Python Program to Find HCF?"
   ]
  },
  {
   "cell_type": "code",
   "execution_count": 5,
   "id": "dab87c12-ca8e-4181-8b4a-803445536a34",
   "metadata": {},
   "outputs": [
    {
     "name": "stdout",
     "output_type": "stream",
     "text": [
      "The HCF is 2\n"
     ]
    }
   ],
   "source": [
    "def hcf(x,y):\n",
    "    \n",
    "    if x > y:\n",
    "        small_value = y\n",
    "    else:\n",
    "        small_value = x\n",
    "        \n",
    "    for i in range(1, small_value + 1):\n",
    "        if((x % i == 0) and (y % i == 0)):\n",
    "            hcf = i\n",
    "    return hcf\n",
    "print(f\"The HCF is {hcf(64, 30)}\")"
   ]
  },
  {
   "cell_type": "markdown",
   "id": "63c638f1-d138-45ad-a716-37b9f6fe1a98",
   "metadata": {},
   "source": [
    "# 3. Write a Python Program to Convert Decimal to Binary, Octal and Hexadecimal?"
   ]
  },
  {
   "cell_type": "code",
   "execution_count": 6,
   "id": "28926744-7eb3-40ff-8e8f-d0be66b544b9",
   "metadata": {},
   "outputs": [
    {
     "name": "stdin",
     "output_type": "stream",
     "text": [
      "Enter the decimal value:  10\n"
     ]
    },
    {
     "name": "stdout",
     "output_type": "stream",
     "text": [
      "the binary value of 10 is 0b1010\n",
      "the octal value of 10 is 0o12\n",
      "the Hexadecimal value of 10 is 0xa\n"
     ]
    }
   ],
   "source": [
    "decimal_value = int(input(\"Enter the decimal value: \"))\n",
    "print(f\"the binary value of {decimal_value} is {bin(decimal_value)}\")\n",
    "print(f\"the octal value of {decimal_value} is {oct(decimal_value)}\")\n",
    "print(f\"the Hexadecimal value of {decimal_value} is {hex(decimal_value)}\")"
   ]
  },
  {
   "cell_type": "markdown",
   "id": "8affc6ad-298b-4948-b02a-0e2f4984e016",
   "metadata": {},
   "source": [
    "# 4. Write a Python Program To Find ASCII value of a character?"
   ]
  },
  {
   "cell_type": "code",
   "execution_count": 9,
   "id": "dab87846-e8b1-4d7d-87ad-2262bd2cfc2e",
   "metadata": {},
   "outputs": [
    {
     "name": "stdin",
     "output_type": "stream",
     "text": [
      "Enter a character:  A\n"
     ]
    },
    {
     "name": "stdout",
     "output_type": "stream",
     "text": [
      "The ASCII value of  A is 65\n"
     ]
    }
   ],
   "source": [
    "character = input(\"Enter a character: \")\n",
    "print(f\"The ASCII value of  {character} is {ord(character)}\")"
   ]
  },
  {
   "cell_type": "markdown",
   "id": "e5ac49a9-e502-40f3-b508-8b6823a24a43",
   "metadata": {},
   "source": [
    "# 5. Write a Python Program to Make a Simple Calculator with 4 basic mathematical operations?"
   ]
  },
  {
   "cell_type": "code",
   "execution_count": 4,
   "id": "6a0a48ca-d9ff-4caf-8ce8-9ddf64ada2fa",
   "metadata": {},
   "outputs": [
    {
     "name": "stdin",
     "output_type": "stream",
     "text": [
      "Enter the a value:  12.5\n",
      "Enter the b value:  6\n"
     ]
    },
    {
     "name": "stdout",
     "output_type": "stream",
     "text": [
      "\n",
      "Addition of a and b = 18.5\n",
      "Subtraction of a and b = 6.5\n",
      "Multiplication of a and b = 75.0\n",
      "Division of a and b = 2.0833333333333335\n"
     ]
    }
   ],
   "source": [
    "a = float(input(\"Enter the a value: \"))\n",
    "b = float(input(\"Enter the b value: \"))\n",
    "\n",
    "add = a + b\n",
    "sub = a - b\n",
    "mul = a * b\n",
    "div = a / b\n",
    "\n",
    "print()\n",
    "print(f'Addition of a and b = {add}')\n",
    "print(f'Subtraction of a and b = {sub}')\n",
    "print(f'Multiplication of a and b = {mul}')\n",
    "print(f'Division of a and b = {div}')"
   ]
  }
 ],
 "metadata": {
  "kernelspec": {
   "display_name": "Python 3 (ipykernel)",
   "language": "python",
   "name": "python3"
  },
  "language_info": {
   "codemirror_mode": {
    "name": "ipython",
    "version": 3
   },
   "file_extension": ".py",
   "mimetype": "text/x-python",
   "name": "python",
   "nbconvert_exporter": "python",
   "pygments_lexer": "ipython3",
   "version": "3.10.6"
  }
 },
 "nbformat": 4,
 "nbformat_minor": 5
}
