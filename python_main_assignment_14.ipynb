{
 "cells": [
  {
   "cell_type": "markdown",
   "id": "be78ba59-b774-4850-85fb-2b3ca0225be4",
   "metadata": {},
   "source": [
    "# 1. What does RGBA stand for?"
   ]
  },
  {
   "cell_type": "markdown",
   "id": "2c5e49b6-79d5-42cb-aa77-a3363c6cdd47",
   "metadata": {},
   "source": [
    "RGBA(Red-Green-Blue-Alpha) are the four tuples where the respective tuple components represent red , green, blue and alpha values for a color."
   ]
  },
  {
   "cell_type": "markdown",
   "id": "7b922793-6f79-46b4-8636-de49d290a271",
   "metadata": {},
   "source": [
    "# 2. From the Pillow module, how do you get the RGBA value of any images?"
   ]
  },
  {
   "cell_type": "markdown",
   "id": "deb489f5-bc29-472e-a93d-c6e8e103d504",
   "metadata": {},
   "source": [
    "* Import the image module from the pillow library.\n",
    "\n",
    "* Open any image and get the RAGBAG values.\n",
    "\n",
    "* Change the color.\n",
    "\n",
    "* Store the changed image."
   ]
  },
  {
   "cell_type": "markdown",
   "id": "8712acd9-e7cb-4edf-a0aa-28a4009b5d54",
   "metadata": {},
   "source": [
    "# 3. What is a box tuple, and how does it work?"
   ]
  },
  {
   "cell_type": "markdown",
   "id": "e11b2485-93b2-4d5f-a3c8-c7d6f3cf11ae",
   "metadata": {},
   "source": [
    "The box tuple is a submodule that provides read only access for the tuple userdata type."
   ]
  },
  {
   "cell_type": "markdown",
   "id": "6ce3f1d7-ded8-42f1-a809-078c53b795e9",
   "metadata": {},
   "source": [
    "# 4. Use your image and load in notebook then, How can you find out the width and height of an Image object?"
   ]
  },
  {
   "cell_type": "markdown",
   "id": "b7beabd1-afdb-4073-a06e-76560a59200a",
   "metadata": {},
   "source": [
    "`.width` and `.height` property of image are used to get the height and width of the image or `.size` will also provides same results."
   ]
  },
  {
   "cell_type": "markdown",
   "id": "d84de859-3717-4852-81fa-2f41c8374132",
   "metadata": {},
   "source": [
    "# 5. What method would you call to get Image object for a 100×100 image, excluding the lower-left quarter of it?"
   ]
  },
  {
   "cell_type": "raw",
   "id": "0aeb983b-41d5-4443-af64-c4d3fb87ce26",
   "metadata": {},
   "source": [
    "from PIL import Image\n",
    "img = Image.open('Pic.jpg')\n",
    "new_img = img.crop((0,50,50,50))"
   ]
  },
  {
   "cell_type": "markdown",
   "id": "e9d75cbe-606c-4495-be5c-393b6e7ba967",
   "metadata": {},
   "source": [
    "# 6. After making changes to an Image object, how could you save it as an image file?"
   ]
  },
  {
   "cell_type": "markdown",
   "id": "8245713c-584b-4430-9fd0-bed2ac96a985",
   "metadata": {},
   "source": [
    "Image.save()"
   ]
  },
  {
   "cell_type": "markdown",
   "id": "a9fdfa73-6fa3-404f-b56d-04bd919a39de",
   "metadata": {},
   "source": [
    "# 7. What module contains Pillow’s shape-drawing code?"
   ]
  },
  {
   "cell_type": "markdown",
   "id": "c308ca71-d38e-4200-8860-03d9bba7e7be",
   "metadata": {},
   "source": [
    "ImageDraw module contains pillow's shape - drawing code."
   ]
  },
  {
   "cell_type": "markdown",
   "id": "34fd97be-de7c-4806-997c-103e13df4ed5",
   "metadata": {},
   "source": [
    "# 8. Image objects do not have drawing methods. What kind of object does? How do you get this kind of object?"
   ]
  },
  {
   "cell_type": "markdown",
   "id": "a5f1f3d9-fbb0-48c4-a4cf-825956278528",
   "metadata": {},
   "source": [
    "The ImageDraw objects having shape drawing methods like point(), rectangle() etc that are returned by passing Imge object to TmageDraw.Draw()."
   ]
  }
 ],
 "metadata": {
  "kernelspec": {
   "display_name": "Python 3 (ipykernel)",
   "language": "python",
   "name": "python3"
  },
  "language_info": {
   "codemirror_mode": {
    "name": "ipython",
    "version": 3
   },
   "file_extension": ".py",
   "mimetype": "text/x-python",
   "name": "python",
   "nbconvert_exporter": "python",
   "pygments_lexer": "ipython3",
   "version": "3.10.6"
  }
 },
 "nbformat": 4,
 "nbformat_minor": 5
}
