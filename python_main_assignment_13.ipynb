{
 "cells": [
  {
   "cell_type": "markdown",
   "id": "89477308-d4c0-43e0-8ac4-f848f6aaaeb1",
   "metadata": {},
   "source": [
    "# 1. What advantages do Excel spreadsheets have over CSV spreadsheets?"
   ]
  },
  {
   "cell_type": "markdown",
   "id": "9be93150-b017-45de-a474-3645f003b94b",
   "metadata": {},
   "source": [
    "* Excel spreadsheets are better for storing more complex data comparing to CSV spreadsheets.\n",
    "\n",
    "* File saved in Excel format cannot be edited by text editors whereas in case of CSV format, they can be edited by tect editors.\n",
    "\n",
    "* Excel file can be password protected whereas CSV file cannot be password protected.\n",
    "\n",
    "* Reading large data set is much easier for the end user to read,comprehend and understand when compared to CSV.\n",
    "\n",
    "* Excel provides the user option for external linking of data from other sources where as no such feature is available is CSV."
   ]
  },
  {
   "cell_type": "markdown",
   "id": "ce60863b-c9b6-402f-a880-046e302d7022",
   "metadata": {},
   "source": [
    "# 2.What do you pass to csv.reader() and csv.writer() to create reader and writer objects?"
   ]
  },
  {
   "cell_type": "markdown",
   "id": "8881cb6a-efb3-473c-acd7-ce8cd72a35d6",
   "metadata": {},
   "source": [
    "* csv.reader(csvfile)\n",
    "\n",
    "* csv.writer(csvfile, delimiter = '\\t' , lineterminator = '\\n\\n') "
   ]
  },
  {
   "cell_type": "markdown",
   "id": "4c846ac5-25ed-4665-bd25-a66fc8d505df",
   "metadata": {},
   "source": [
    "# 3. What modes do File objects for reader and writer objects need to be opened in?"
   ]
  },
  {
   "cell_type": "markdown",
   "id": "c3dcbe6c-f6f2-4863-97a9-a429de21d055",
   "metadata": {},
   "source": [
    "* `<r>` for reading mode.\n",
    "    \n",
    "* `<w>` for writing mode.\n",
    "    \n",
    "* `<a>` for appending mode.\n",
    "\n",
    "* `<b>` for binary or text mode.\n",
    "    \n",
    "* `<+>` for both reading and writing mode.\n",
    "    "
   ]
  },
  {
   "cell_type": "markdown",
   "id": "73ca2030-2339-4dfa-aad4-d1e9ff9a9d90",
   "metadata": {},
   "source": [
    "# 4. What method takes a list argument and writes it to a CSV file?"
   ]
  },
  {
   "cell_type": "markdown",
   "id": "1ad2a8bf-695b-4289-871f-a400a48eba7f",
   "metadata": {},
   "source": [
    "writerow()  is the most common method of writer class."
   ]
  },
  {
   "cell_type": "markdown",
   "id": "7784a439-002a-4585-b344-31f0890abc48",
   "metadata": {},
   "source": [
    "# 5. What do the keyword arguments delimiter and line terminator do?"
   ]
  },
  {
   "cell_type": "markdown",
   "id": "6947e189-58e7-403a-abaa-efb617f1baa6",
   "metadata": {},
   "source": [
    "* The delimiter is the charater that appears cells on a row (it is comma). \n",
    "\n",
    "* The line terminator is the charater that comes at the end of a row (newline charater)."
   ]
  },
  {
   "cell_type": "markdown",
   "id": "0f552d56-775c-4efb-a69c-3b1e507ecd49",
   "metadata": {},
   "source": [
    "# 6. What function takes a string of JSON data and returns a Python data structure?"
   ]
  },
  {
   "cell_type": "markdown",
   "id": "51351e7e-4412-404d-9882-e0debe918366",
   "metadata": {},
   "source": [
    "json.loads()."
   ]
  },
  {
   "cell_type": "markdown",
   "id": "85603adc-c1e4-4d44-89f3-525f60d154c5",
   "metadata": {},
   "source": [
    "# 7. What function takes a Python data structure and returns a string of JSON data?"
   ]
  },
  {
   "cell_type": "markdown",
   "id": "8404bddd-6a83-4acd-b00d-59e0b6b36c3d",
   "metadata": {},
   "source": [
    "json.dumps()."
   ]
  }
 ],
 "metadata": {
  "kernelspec": {
   "display_name": "Python 3 (ipykernel)",
   "language": "python",
   "name": "python3"
  },
  "language_info": {
   "codemirror_mode": {
    "name": "ipython",
    "version": 3
   },
   "file_extension": ".py",
   "mimetype": "text/x-python",
   "name": "python",
   "nbconvert_exporter": "python",
   "pygments_lexer": "ipython3",
   "version": "3.10.6"
  }
 },
 "nbformat": 4,
 "nbformat_minor": 5
}
