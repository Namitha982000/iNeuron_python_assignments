{
 "cells": [
  {
   "cell_type": "markdown",
   "id": "9b61ac47-66fd-4fd3-81cf-faf0ae5d107c",
   "metadata": {},
   "source": [
    "# 1. Is the Python Standard Library included with PyInputPlus?"
   ]
  },
  {
   "cell_type": "markdown",
   "id": "efd24da6-0b9e-45fe-9de4-8cd07e131618",
   "metadata": {},
   "source": [
    "Piynputplus must be installed seperately using pip as it is not a part of the python standard library."
   ]
  },
  {
   "cell_type": "markdown",
   "id": "7716e54c-3b43-41fd-88e4-3e98dec77b27",
   "metadata": {},
   "source": [
    "# 2. Why is PyInputPlus commonly imported with import pyinputplus as pypi?"
   ]
  },
  {
   "cell_type": "markdown",
   "id": "30379b5d-f886-4cb0-b734-a5b3dbc24069",
   "metadata": {},
   "source": [
    "As pyinputplus is larger , the short name pypi makes work easier while calling the pyinputplus everytime. "
   ]
  },
  {
   "cell_type": "markdown",
   "id": "2d2beefa-0444-4b10-a892-2e6d68989b02",
   "metadata": {},
   "source": [
    "# 3. How do you distinguish between inputInt() and inputFloat()?"
   ]
  },
  {
   "cell_type": "markdown",
   "id": "d815b5b5-5457-4fdf-8eac-895f88b79eb0",
   "metadata": {},
   "source": [
    "* inputInt() -> expects input to be integer value \n",
    "\n",
    "* inputFloat() -> expects input to be float value"
   ]
  },
  {
   "cell_type": "markdown",
   "id": "601c63a7-a795-4f51-ab2e-801fef0cbe63",
   "metadata": {},
   "source": [
    "# 4. Using PyInputPlus, how do you ensure that the user enters a whole number between 0 and 99?"
   ]
  },
  {
   "cell_type": "markdown",
   "id": "a3efb9ec-e3ad-4df8-b2ab-6809a5bbd40e",
   "metadata": {},
   "source": [
    "Using pyip.inputint(min = 0, max = 99)."
   ]
  },
  {
   "cell_type": "markdown",
   "id": "a360ab18-0c41-4e6c-99dc-aaa0e07603c7",
   "metadata": {},
   "source": [
    "# 5. What is transferred to the keyword arguments allowRegexes and blockRegexes?"
   ]
  },
  {
   "cell_type": "markdown",
   "id": "40d39530-c7ec-482d-a5d6-cf8c19e321a8",
   "metadata": {},
   "source": [
    "A list of regex strings which are either explicitly allowed or denied."
   ]
  },
  {
   "cell_type": "markdown",
   "id": "c7d9d401-7333-4b8a-8fc8-42bf31fce31a",
   "metadata": {},
   "source": [
    "# 6. If a blank input is entered three times, what does inputStr(limit=3) do?"
   ]
  },
  {
   "cell_type": "markdown",
   "id": "c53962a8-9dbf-464f-ae0a-dad11c05fdab",
   "metadata": {},
   "source": [
    "RetryLimitException is raised."
   ]
  },
  {
   "cell_type": "markdown",
   "id": "5872f350-fa4c-4d8a-808d-df887b1ba2c4",
   "metadata": {},
   "source": [
    "# 7. If blank input is entered three times, what does inputStr(limit=3, default=&#39;hello&#39;) do?"
   ]
  },
  {
   "cell_type": "markdown",
   "id": "5db90e57-b0d4-4033-b82e-3c636608325d",
   "metadata": {},
   "source": [
    "'hello' is returned by function."
   ]
  }
 ],
 "metadata": {
  "kernelspec": {
   "display_name": "Python 3 (ipykernel)",
   "language": "python",
   "name": "python3"
  },
  "language_info": {
   "codemirror_mode": {
    "name": "ipython",
    "version": 3
   },
   "file_extension": ".py",
   "mimetype": "text/x-python",
   "name": "python",
   "nbconvert_exporter": "python",
   "pygments_lexer": "ipython3",
   "version": "3.10.6"
  }
 },
 "nbformat": 4,
 "nbformat_minor": 5
}
