{
 "cells": [
  {
   "cell_type": "markdown",
   "id": "5eb453f7-99ee-4d43-95c9-b3d6b8ff8d7e",
   "metadata": {},
   "source": [
    "# Programming Assignment 13"
   ]
  },
  {
   "cell_type": "markdown",
   "id": "360c906b-75e7-407b-93a2-df8dc287ce4c",
   "metadata": {},
   "source": [
    "**Question 1:**\n",
    "\n",
    "**Write a program that calculates and prints the value according to the given formula:**\n",
    "\n",
    "Q = Square root of [(2 * C * D)/H]\n",
    "\n",
    "Following are the fixed values of C and H:\n",
    "\n",
    "C is 50. H is 30.\n",
    "\n",
    "D is the variable whose values should be input to your program in a comma-separated sequence.\n",
    "\n",
    "Example\n",
    "\n",
    "Let us assume the following comma separated input sequence is given to the program:\n",
    "\n",
    "100,150,180\n",
    "\n",
    "The output of the program should be:\n",
    "\n",
    "18,22,24\n"
   ]
  },
  {
   "cell_type": "code",
   "execution_count": 1,
   "id": "bafb9b6a-05e0-431a-acc3-dbbbfdad9086",
   "metadata": {},
   "outputs": [
    {
     "name": "stdin",
     "output_type": "stream",
     "text": [
      "Enter comma-separated sequence of D values:  100,150,180\n"
     ]
    },
    {
     "name": "stdout",
     "output_type": "stream",
     "text": [
      "18,22,24\n"
     ]
    }
   ],
   "source": [
    "import math\n",
    "\n",
    "# Fixed values of C and H\n",
    "C = 50\n",
    "H = 30\n",
    "\n",
    "# Input sequence of D values\n",
    "input_sequence = input(\"Enter comma-separated sequence of D values: \")\n",
    "\n",
    "# Split the input sequence into individual values\n",
    "d_values = input_sequence.split(\",\")\n",
    "\n",
    "# Initialize an empty list to store the calculated Q values\n",
    "q_values = []\n",
    "\n",
    "# Calculate Q for each D value\n",
    "for d in d_values:\n",
    "    # Convert D to a float\n",
    "    d = float(d)\n",
    "    \n",
    "    # Calculate Q using the given formula\n",
    "    q = math.sqrt((2 * C * d) / H)\n",
    "    \n",
    "    # Round the result to the nearest integer\n",
    "    q = round(q)\n",
    "    \n",
    "    # Append the calculated Q value to the list of Q values\n",
    "    q_values.append(q)\n",
    "\n",
    "# Print the list of calculated Q values as a comma-separated string\n",
    "print(\",\".join(str(q) for q in q_values))\n"
   ]
  },
  {
   "cell_type": "markdown",
   "id": "5b618921-3f88-4724-b301-2874c4f48cba",
   "metadata": {},
   "source": [
    "**Question 2:**\n",
    "\n",
    "**Write a program which takes 2 digits, X,Y as input and generates a 2-dimensional array. The element value in the i-th row and j-th column of the array should be i*j.**\n",
    "\n",
    "Note: i=0,1.., X-1; j=0,1,¡Y-1.\n",
    "\n",
    "Example\n",
    "\n",
    "Suppose the following inputs are given to the program:\n",
    "\n",
    "3,5\n",
    "\n",
    "Then, the output of the program should be:\n",
    "\n",
    "[[0, 0, 0, 0, 0], [0, 1, 2, 3, 4], [0, 2, 4, 6, 8]] "
   ]
  },
  {
   "cell_type": "code",
   "execution_count": 2,
   "id": "22f9f5bd-2139-4790-85e3-993cd8f0b8f5",
   "metadata": {},
   "outputs": [
    {
     "name": "stdin",
     "output_type": "stream",
     "text": [
      "Enter values for X and Y:  3,5\n"
     ]
    },
    {
     "name": "stdout",
     "output_type": "stream",
     "text": [
      "[[0, 0, 0, 0, 0], [0, 1, 2, 3, 4], [0, 2, 4, 6, 8]]\n"
     ]
    }
   ],
   "source": [
    "# Get input values for X and Y\n",
    "X, Y = map(int, input(\"Enter values for X and Y: \").split(\",\"))\n",
    "\n",
    "# Initialize a 2-dimensional list with X rows and Y columns, filled with zeroes\n",
    "array_2d = [[0 for j in range(Y)] for i in range(X)]\n",
    "\n",
    "# Fill the array with the multiplication table values\n",
    "for i in range(X):\n",
    "    for j in range(Y):\n",
    "        array_2d[i][j] = i * j\n",
    "\n",
    "# Print the resulting 2-dimensional array\n",
    "print(array_2d)\n"
   ]
  },
  {
   "cell_type": "markdown",
   "id": "4ee616e3-c662-4fb9-a589-c1b4b6110878",
   "metadata": {},
   "source": [
    "**Question 3:**\n",
    "\n",
    "**Write a program that accepts a comma separated sequence of words as input and prints the words in a comma-separated sequence after sorting them alphabetically.**\n",
    "\n",
    "Suppose the following input is supplied to the program:\n",
    "\n",
    "without,hello,bag,world\n",
    "\n",
    "Then, the output should be:\n",
    "\n",
    "bag,hello,without,world"
   ]
  },
  {
   "cell_type": "code",
   "execution_count": 3,
   "id": "f5cb6ebd-6202-43f3-a887-7490373b3b21",
   "metadata": {},
   "outputs": [
    {
     "name": "stdin",
     "output_type": "stream",
     "text": [
      "Enter comma-separated sequence of words:  without,hello,bag,world\n"
     ]
    },
    {
     "name": "stdout",
     "output_type": "stream",
     "text": [
      "bag,hello,without,world\n"
     ]
    }
   ],
   "source": [
    "# Get input sequence of words\n",
    "words = input(\"Enter comma-separated sequence of words: \")\n",
    "\n",
    "# Split the input sequence into individual words and sort them alphabetically\n",
    "sorted_words = sorted(words.split(\",\"))\n",
    "\n",
    "# Print the sorted words as a comma-separated sequence\n",
    "print(\",\".join(sorted_words))\n"
   ]
  },
  {
   "cell_type": "markdown",
   "id": "d822d448-3b51-4c15-9f6f-dd0c424e9440",
   "metadata": {},
   "source": [
    "**Question 4:**\n",
    "\n",
    "**Write a program that accepts a sequence of whitespace separated words as input and prints the words after removing all duplicate words and sorting them alphanumerically.**\n",
    "\n",
    "Suppose the following input is supplied to the program:\n",
    "\n",
    "hello world and practice makes perfect and hello world again\n",
    "\n",
    "Then, the output should be:\n",
    "\n",
    "again and hello makes perfect practice world"
   ]
  },
  {
   "cell_type": "code",
   "execution_count": 4,
   "id": "109ad455-a6da-41c0-b92b-9c1fcc65c8d1",
   "metadata": {},
   "outputs": [
    {
     "name": "stdin",
     "output_type": "stream",
     "text": [
      "Enter sequence of whitespace-separated words:  hello world and practice makes perfect and hello world again\n"
     ]
    },
    {
     "name": "stdout",
     "output_type": "stream",
     "text": [
      "again and hello makes perfect practice world\n"
     ]
    }
   ],
   "source": [
    "# Get input sequence of words\n",
    "words = input(\"Enter sequence of whitespace-separated words: \")\n",
    "\n",
    "# Split the input sequence into individual words, remove duplicates, and sort them\n",
    "sorted_words = sorted(set(words.split()))\n",
    "\n",
    "# Print the sorted words as a whitespace-separated sequence\n",
    "print(\" \".join(sorted_words))\n"
   ]
  },
  {
   "cell_type": "markdown",
   "id": "baa08552-d7bf-4365-b90a-408fc710858e",
   "metadata": {},
   "source": [
    "**Question 5:**\n",
    "\n",
    "**Write a program that accepts a sentence and calculate the number of letters and digits.**\n",
    "\n",
    "Suppose the following input is supplied to the program:\n",
    "\n",
    "hello world! 123\n",
    "\n",
    "Then, the output should be:\n",
    "\n",
    "LETTERS 10\n",
    "\n",
    "DIGITS 3\n"
   ]
  },
  {
   "cell_type": "code",
   "execution_count": 5,
   "id": "fdbe91c1-0221-4b45-b577-83dcd7ac44ec",
   "metadata": {},
   "outputs": [
    {
     "name": "stdin",
     "output_type": "stream",
     "text": [
      "Enter a sentence:  hello world! 123\n"
     ]
    },
    {
     "name": "stdout",
     "output_type": "stream",
     "text": [
      "LETTERS 10\n",
      "DIGITS 3\n"
     ]
    }
   ],
   "source": [
    "sentence = input(\"Enter a sentence: \")\n",
    "letters = 0\n",
    "digits = 0\n",
    "\n",
    "for char in sentence:\n",
    "    if char.isalpha(): # check if character is a letter\n",
    "        letters += 1\n",
    "    elif char.isdigit(): # check if character is a digit\n",
    "        digits += 1\n",
    "\n",
    "print(\"LETTERS\", letters)\n",
    "print(\"DIGITS\", digits)\n"
   ]
  },
  {
   "cell_type": "markdown",
   "id": "057c099b-2512-494a-af11-82dbcee6b6bb",
   "metadata": {},
   "source": [
    "**Question 6:**\n",
    "\n",
    "**A website requires the users to input username and password to register. Write a program to check the validity of password input by users.**\n",
    "\n",
    "Following are the criteria for checking the password:\n",
    "\n",
    "1. At least 1 letter between [a-z]\n",
    "\n",
    "2. At least 1 number between [0-9]\n",
    "\n",
    "1. At least 1 letter between [A-Z]\n",
    "\n",
    "3. At least 1 character from [$#@]\n",
    "\n",
    "4. Minimum length of transaction password: 6\n",
    "\n",
    "5. Maximum length of transaction password: 12\n",
    "\n",
    "Your program should accept a sequence of comma separated passwords and will check them according to the above criteria. Passwords that match the criteria are to be printed, each separated by a comma.\n",
    "\n",
    "Example\n",
    "\n",
    "If the following passwords are given as input to the program:\n",
    "\n",
    "ABd1234@1,a F1#,2w3E*,2We3345\n",
    "\n",
    "Then, the output of the program should be:\n",
    "\n",
    "ABd1234@1"
   ]
  },
  {
   "cell_type": "code",
   "execution_count": 6,
   "id": "559702e8-4236-48f2-a62d-05381f6167b2",
   "metadata": {},
   "outputs": [
    {
     "name": "stdin",
     "output_type": "stream",
     "text": [
      "Enter comma separated passwords:  ABd1234@1,a F1#,2w3E*,2We3345\n"
     ]
    },
    {
     "name": "stdout",
     "output_type": "stream",
     "text": [
      "ABd1234@1\n"
     ]
    }
   ],
   "source": [
    "import re\n",
    "\n",
    "def check_password(password):\n",
    "    \"\"\"Checks the validity of a password\"\"\"\n",
    "    if 6 <= len(password) <= 12:\n",
    "        if re.search(\"[a-z]\", password) and re.search(\"[0-9]\", password) \\\n",
    "            and re.search(\"[A-Z]\", password) and re.search(\"[$#@]\", password):\n",
    "            return True\n",
    "    return False\n",
    "\n",
    "passwords = input(\"Enter comma separated passwords: \")\n",
    "password_list = passwords.split(\",\")\n",
    "\n",
    "valid_passwords = []\n",
    "\n",
    "for password in password_list:\n",
    "    if check_password(password):\n",
    "        valid_passwords.append(password)\n",
    "\n",
    "print(\",\".join(valid_passwords))\n"
   ]
  },
  {
   "cell_type": "code",
   "execution_count": null,
   "id": "97100cc3-ca7d-4c4e-9b93-ec6d030a361b",
   "metadata": {},
   "outputs": [],
   "source": []
  }
 ],
 "metadata": {
  "kernelspec": {
   "display_name": "Python 3 (ipykernel)",
   "language": "python",
   "name": "python3"
  },
  "language_info": {
   "codemirror_mode": {
    "name": "ipython",
    "version": 3
   },
   "file_extension": ".py",
   "mimetype": "text/x-python",
   "name": "python",
   "nbconvert_exporter": "python",
   "pygments_lexer": "ipython3",
   "version": "3.10.6"
  }
 },
 "nbformat": 4,
 "nbformat_minor": 5
}
