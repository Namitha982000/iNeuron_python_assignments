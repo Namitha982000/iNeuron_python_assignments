{
 "cells": [
  {
   "cell_type": "markdown",
   "id": "2bb21bc2-4754-406d-b31e-a339181ace9d",
   "metadata": {},
   "source": [
    "# Programming Assignment 9"
   ]
  },
  {
   "cell_type": "markdown",
   "id": "9007b317-197b-422a-b8b5-b9b15941ff7e",
   "metadata": {},
   "source": [
    "#### 1. Write a Python program to check if the given number is a Disarium Number?"
   ]
  },
  {
   "cell_type": "code",
   "execution_count": 1,
   "id": "6c5eaf34-b7a4-46cb-ab93-44c8217fa07a",
   "metadata": {},
   "outputs": [
    {
     "name": "stdin",
     "output_type": "stream",
     "text": [
      "Enter a number:  23\n"
     ]
    },
    {
     "name": "stdout",
     "output_type": "stream",
     "text": [
      "23 is not a Disarium Number.\n"
     ]
    }
   ],
   "source": [
    "# Function to calculate the number of digits in a number\n",
    "def count_digits(n):\n",
    "    count = 0\n",
    "    while n > 0:\n",
    "        count += 1\n",
    "        n //= 10\n",
    "    return count\n",
    "\n",
    "# Function to check if a number is a Disarium Number\n",
    "def is_disarium_number(n):\n",
    "    digits = count_digits(n)\n",
    "    sum_of_powers = 0\n",
    "    temp = n\n",
    "    \n",
    "    while temp > 0:\n",
    "        last_digit = temp % 10\n",
    "        sum_of_powers += last_digit ** digits\n",
    "        digits -= 1\n",
    "        temp //= 10\n",
    "        \n",
    "    return sum_of_powers == n\n",
    "\n",
    "# Testing the function\n",
    "n = int(input(\"Enter a number: \"))\n",
    "if is_disarium_number(n):\n",
    "    print(n, \"is a Disarium Number.\")\n",
    "else:\n",
    "    print(n, \"is not a Disarium Number.\")\n"
   ]
  },
  {
   "cell_type": "code",
   "execution_count": 2,
   "id": "ec6fb5f8-3a7f-4ca9-9cd4-ca85f821b8e0",
   "metadata": {},
   "outputs": [
    {
     "name": "stdin",
     "output_type": "stream",
     "text": [
      "Enter a number:  96\n"
     ]
    },
    {
     "name": "stdout",
     "output_type": "stream",
     "text": [
      "96 is not a Disarium Number.\n"
     ]
    }
   ],
   "source": [
    "# Testing the function\n",
    "n = int(input(\"Enter a number: \"))\n",
    "if is_disarium_number(n):\n",
    "    print(n, \"is a Disarium Number.\")\n",
    "else:\n",
    "    print(n, \"is not a Disarium Number.\")"
   ]
  },
  {
   "cell_type": "markdown",
   "id": "2c73b4b8-6a5d-42bd-83fe-c749ce88f1ae",
   "metadata": {},
   "source": [
    "#### 2. Write a Python program to print all disarium numbers between 1 to 100?"
   ]
  },
  {
   "cell_type": "code",
   "execution_count": 3,
   "id": "3d6c11ae-7d4e-4e77-b684-efec69737e46",
   "metadata": {},
   "outputs": [
    {
     "name": "stdout",
     "output_type": "stream",
     "text": [
      "1\n",
      "2\n",
      "3\n",
      "4\n",
      "5\n",
      "6\n",
      "7\n",
      "8\n",
      "9\n",
      "89\n"
     ]
    }
   ],
   "source": [
    "# Function to calculate the number of digits in a number\n",
    "def count_digits(n):\n",
    "    count = 0\n",
    "    while n > 0:\n",
    "        count += 1\n",
    "        n //= 10\n",
    "    return count\n",
    "\n",
    "# Function to check if a number is a Disarium Number\n",
    "def is_disarium_number(n):\n",
    "    digits = count_digits(n)\n",
    "    sum_of_powers = 0\n",
    "    temp = n\n",
    "    \n",
    "    while temp > 0:\n",
    "        last_digit = temp % 10\n",
    "        sum_of_powers += last_digit ** digits\n",
    "        digits -= 1\n",
    "        temp //= 10\n",
    "        \n",
    "    return sum_of_powers == n\n",
    "\n",
    "# Print all Disarium numbers between 1 to 100\n",
    "for n in range(1, 101):\n",
    "    if is_disarium_number(n):\n",
    "        print(n)\n"
   ]
  },
  {
   "cell_type": "markdown",
   "id": "bf8c850f-7dab-4823-be30-eec5a76c40aa",
   "metadata": {},
   "source": [
    "#### 3. Write a Python program to check if the given number is Happy Number?"
   ]
  },
  {
   "cell_type": "code",
   "execution_count": 8,
   "id": "4bf28709-75f6-416c-b875-2e9f0dc6387c",
   "metadata": {},
   "outputs": [
    {
     "name": "stdin",
     "output_type": "stream",
     "text": [
      "Enter a number:  56\n"
     ]
    },
    {
     "name": "stdout",
     "output_type": "stream",
     "text": [
      "56 is not a Happy Number.\n"
     ]
    }
   ],
   "source": [
    "# Function to calculate the sum of squares of digits of a number\n",
    "def sum_of_squares(n):\n",
    "    result = 0\n",
    "    while n > 0:\n",
    "        digit = n % 10\n",
    "        result += digit ** 2\n",
    "        n //= 10\n",
    "    return result\n",
    "\n",
    "# Function to check if a number is a Happy Number\n",
    "def is_happy_number(n):\n",
    "    slow = n\n",
    "    fast = sum_of_squares(n)\n",
    "    \n",
    "    while fast != 1 and slow != fast:\n",
    "        slow = sum_of_squares(slow)\n",
    "        fast = sum_of_squares(sum_of_squares(fast))\n",
    "        \n",
    "    return fast == 1\n",
    "\n",
    "# Testing the function\n",
    "n = int(input(\"Enter a number: \"))\n",
    "if is_happy_number(n):\n",
    "    print(n, \"is a Happy Number.\")\n",
    "else:\n",
    "    print(n, \"is not a Happy Number.\")\n"
   ]
  },
  {
   "cell_type": "code",
   "execution_count": 9,
   "id": "7dcc83a2-c501-4b2d-9f10-5131db415c01",
   "metadata": {},
   "outputs": [
    {
     "name": "stdin",
     "output_type": "stream",
     "text": [
      "Enter a number:  1\n"
     ]
    },
    {
     "name": "stdout",
     "output_type": "stream",
     "text": [
      "1 is a Happy Number.\n"
     ]
    }
   ],
   "source": [
    "# Testing the function\n",
    "n = int(input(\"Enter a number: \"))\n",
    "if is_happy_number(n):\n",
    "    print(n, \"is a Happy Number.\")\n",
    "else:\n",
    "    print(n, \"is not a Happy Number.\")"
   ]
  },
  {
   "cell_type": "markdown",
   "id": "00140371-9249-4cf8-997f-9594cca562cd",
   "metadata": {},
   "source": [
    "#### 4. Write a Python program to print all happy numbers between 1 and 100?"
   ]
  },
  {
   "cell_type": "code",
   "execution_count": 10,
   "id": "3819dc6c-ebc5-42c9-9c08-fdad522ec1a6",
   "metadata": {},
   "outputs": [
    {
     "name": "stdout",
     "output_type": "stream",
     "text": [
      "1\n",
      "7\n",
      "10\n",
      "13\n",
      "19\n",
      "23\n",
      "28\n",
      "31\n",
      "32\n",
      "44\n",
      "49\n",
      "68\n",
      "70\n",
      "79\n",
      "82\n",
      "86\n",
      "91\n",
      "94\n",
      "97\n",
      "100\n"
     ]
    }
   ],
   "source": [
    "# Function to calculate the sum of squares of digits of a number\n",
    "def sum_of_squares(n):\n",
    "    result = 0\n",
    "    while n > 0:\n",
    "        digit = n % 10\n",
    "        result += digit ** 2\n",
    "        n //= 10\n",
    "    return result\n",
    "\n",
    "# Function to check if a number is a Happy Number\n",
    "def is_happy_number(n):\n",
    "    slow = n\n",
    "    fast = sum_of_squares(n)\n",
    "    \n",
    "    while fast != 1 and slow != fast:\n",
    "        slow = sum_of_squares(slow)\n",
    "        fast = sum_of_squares(sum_of_squares(fast))\n",
    "        \n",
    "    return fast == 1\n",
    "\n",
    "# Print all Happy Numbers between 1 and 100\n",
    "for n in range(1, 101):\n",
    "    if is_happy_number(n):\n",
    "        print(n)\n"
   ]
  },
  {
   "cell_type": "markdown",
   "id": "9ddd24bc-a338-4437-a0ea-46ac0b8bbb3b",
   "metadata": {},
   "source": [
    "#### 5. Write a Python program to determine whether the given number is a Harshad Number?"
   ]
  },
  {
   "cell_type": "code",
   "execution_count": 11,
   "id": "01952c82-e8db-4657-a2b7-83f1c400cc6e",
   "metadata": {},
   "outputs": [
    {
     "name": "stdin",
     "output_type": "stream",
     "text": [
      "Enter a number:  99\n"
     ]
    },
    {
     "name": "stdout",
     "output_type": "stream",
     "text": [
      "99 is not a Harshad Number.\n"
     ]
    }
   ],
   "source": [
    "# Function to calculate the sum of digits of a number\n",
    "def sum_of_digits(n):\n",
    "    result = 0\n",
    "    while n > 0:\n",
    "        digit = n % 10\n",
    "        result += digit\n",
    "        n //= 10\n",
    "    return result\n",
    "\n",
    "# Function to check if a number is a Harshad Number\n",
    "def is_harshad_number(n):\n",
    "    sum_digits = sum_of_digits(n)\n",
    "    return n % sum_digits == 0\n",
    "\n",
    "# Testing the function\n",
    "n = int(input(\"Enter a number: \"))\n",
    "if is_harshad_number(n):\n",
    "    print(n, \"is a Harshad Number.\")\n",
    "else:\n",
    "    print(n, \"is not a Harshad Number.\")\n"
   ]
  },
  {
   "cell_type": "code",
   "execution_count": 12,
   "id": "71ae2091-939c-4879-9424-08e8b18a8efb",
   "metadata": {},
   "outputs": [
    {
     "name": "stdin",
     "output_type": "stream",
     "text": [
      "Enter a number:  54\n"
     ]
    },
    {
     "name": "stdout",
     "output_type": "stream",
     "text": [
      "54 is a Harshad Number.\n"
     ]
    }
   ],
   "source": [
    "# Testing the function\n",
    "n = int(input(\"Enter a number: \"))\n",
    "if is_harshad_number(n):\n",
    "    print(n, \"is a Harshad Number.\")\n",
    "else:\n",
    "    print(n, \"is not a Harshad Number.\")"
   ]
  },
  {
   "cell_type": "markdown",
   "id": "dbe6fe01-d87a-4ef0-9dac-de7375c946ec",
   "metadata": {},
   "source": [
    "#### 6. Write a Python program to print all pronic numbers between 1 and 100?"
   ]
  },
  {
   "cell_type": "code",
   "execution_count": 13,
   "id": "46cd5e78-f9ff-4f33-9f42-5d6cdbffa0a7",
   "metadata": {},
   "outputs": [
    {
     "name": "stdout",
     "output_type": "stream",
     "text": [
      "2\n",
      "6\n",
      "12\n",
      "20\n",
      "30\n",
      "42\n",
      "56\n",
      "72\n",
      "90\n"
     ]
    }
   ],
   "source": [
    "# Function to check if a number is a Pronic Number\n",
    "def is_pronic_number(n):\n",
    "    for i in range(1, n):\n",
    "        if i * (i + 1) == n:\n",
    "            return True\n",
    "    return False\n",
    "\n",
    "# Print all Pronic Numbers between 1 and 100\n",
    "for n in range(1, 101):\n",
    "    if is_pronic_number(n):\n",
    "        print(n)\n"
   ]
  },
  {
   "cell_type": "code",
   "execution_count": null,
   "id": "f21407c0-6d75-455c-95cf-08e162c7a83b",
   "metadata": {},
   "outputs": [],
   "source": []
  }
 ],
 "metadata": {
  "kernelspec": {
   "display_name": "Python 3 (ipykernel)",
   "language": "python",
   "name": "python3"
  },
  "language_info": {
   "codemirror_mode": {
    "name": "ipython",
    "version": 3
   },
   "file_extension": ".py",
   "mimetype": "text/x-python",
   "name": "python",
   "nbconvert_exporter": "python",
   "pygments_lexer": "ipython3",
   "version": "3.10.6"
  }
 },
 "nbformat": 4,
 "nbformat_minor": 5
}
