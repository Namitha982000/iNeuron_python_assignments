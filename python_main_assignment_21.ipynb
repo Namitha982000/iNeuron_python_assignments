{
 "cells": [
  {
   "cell_type": "markdown",
   "id": "d3dd2271-ff20-4f79-b5e4-4467969318dd",
   "metadata": {},
   "source": [
    "# 1. Add the current date to the text file today.txt as a string."
   ]
  },
  {
   "cell_type": "code",
   "execution_count": 4,
   "id": "4569d06a-5168-476f-a2c7-fc89f26d6d24",
   "metadata": {},
   "outputs": [
    {
     "name": "stdout",
     "output_type": "stream",
     "text": [
      "09-02-2023\n"
     ]
    }
   ],
   "source": [
    "import datetime\n",
    "\n",
    "with open(\"today.txt\", 'w') as f:\n",
    "    f.write(datetime.datetime.now().strftime(\"%d-%m-%Y\"))\n",
    "    \n",
    "with open(\"today.txt\",'r') as f:\n",
    "    print(f.read())"
   ]
  },
  {
   "cell_type": "markdown",
   "id": "ff594d4e-5c5f-401e-a40e-54dc73151a60",
   "metadata": {},
   "source": [
    "# 2. Read the text file today.txt into the string today_string"
   ]
  },
  {
   "cell_type": "code",
   "execution_count": 5,
   "id": "c34cfb7f-335c-4de0-933d-cf97a89d252b",
   "metadata": {},
   "outputs": [
    {
     "name": "stdout",
     "output_type": "stream",
     "text": [
      "09-02-2023\n"
     ]
    }
   ],
   "source": [
    "with open(\"today.txt\",'r') as f:\n",
    "    today_string = f.read()\n",
    "    print(today_string)"
   ]
  },
  {
   "cell_type": "markdown",
   "id": "d1be30eb-ecad-4dac-85b7-f158765aa1c8",
   "metadata": {},
   "source": [
    "# 3. Parse the date from today_string."
   ]
  },
  {
   "cell_type": "code",
   "execution_count": 6,
   "id": "fc586965-06a6-48de-9df3-135ff057ebbf",
   "metadata": {},
   "outputs": [
    {
     "name": "stdout",
     "output_type": "stream",
     "text": [
      "2023-02-09 00:00:00\n"
     ]
    }
   ],
   "source": [
    "from datetime import datetime\n",
    "data = datetime.strptime(today_string, '%d-%m-%Y')\n",
    "print(data)"
   ]
  },
  {
   "cell_type": "markdown",
   "id": "c4f06819-66f5-4789-9956-58a68a1e1935",
   "metadata": {},
   "source": [
    "# 4. List the files in your current directory"
   ]
  },
  {
   "cell_type": "code",
   "execution_count": 7,
   "id": "c32c0ecd-8227-4db1-a7a4-3f2cf3f909d6",
   "metadata": {},
   "outputs": [
    {
     "name": "stdout",
     "output_type": "stream",
     "text": [
      "python_main_assignment_6.ipynb\n",
      "python_main_assignment_10.ipynb\n",
      "test.txt\n",
      "python_main_assignment_12.ipynb\n",
      "zoo.py\n",
      "Python_main_assignment_4.ipynb\n",
      "python_main_assignment_16.ipynb\n",
      "python_main_assignment_9 .ipynb\n",
      "python_main_assignment_18.ipynb\n",
      "hellothere.docx\n",
      "python_main_assignment_20.ipynb\n",
      "python_main_assignment_15.ipynb\n",
      "python_main_assignment_7.ipynb\n",
      "python_main_assignment_14.ipynb\n",
      "python_main_assignment_3.ipynb\n",
      "python_main_programming_assignment_4.ipynb\n",
      "python_main_assignment_8.ipynb\n",
      "python_main_assignment_11.ipynb\n",
      "books.db\n",
      "today.txt\n",
      "python_main_assignment_13.ipynb\n",
      "python_main_assignment_17.ipynb\n",
      "python_main_assignment_21.ipynb\n",
      "python_main_assignment_5.ipynb\n",
      "books.csv\n",
      "python_main_assignment_19.ipynb\n",
      "zoo.cpython-310.pyc\n",
      "python_main_assignment_12-checkpoint.ipynb\n",
      "python_main_assignment_6-checkpoint.ipynb\n",
      "python_main_programming_assignment_4-checkpoint.ipynb\n",
      "python_main_assignment_5-checkpoint.ipynb\n",
      "python_main_assignment_14-checkpoint.ipynb\n",
      "python_main_assignment_8-checkpoint.ipynb\n",
      "python_main_assignment_18-checkpoint.ipynb\n",
      "python_main_assignment_19-checkpoint.ipynb\n",
      "python_main_assignment_16-checkpoint.ipynb\n",
      "python_main_assignment_9 -checkpoint.ipynb\n",
      "zoo-checkpoint.py\n",
      "python_main_assignment_7-checkpoint.ipynb\n",
      "python_main_assignment_10-checkpoint.ipynb\n",
      "python_main_assignment_21-checkpoint.ipynb\n",
      "Python_main_assignment_4-checkpoint.ipynb\n",
      "python_main_assignment_11-checkpoint.ipynb\n",
      "test-checkpoint.txt\n",
      "python_main_assignment_17-checkpoint.ipynb\n",
      "python_main_assignment_3-checkpoint.ipynb\n",
      "python_main_assignment_15-checkpoint.ipynb\n",
      "python_main_assignment_13-checkpoint.ipynb\n",
      "python_main_assignment_20-checkpoint.ipynb\n"
     ]
    }
   ],
   "source": [
    "import os\n",
    "for folders, subfolders, files in os.walk(os.getcwd()):\n",
    "    for file in files:\n",
    "        print(file)"
   ]
  },
  {
   "cell_type": "markdown",
   "id": "d2191986-4705-4596-b758-3588deee8127",
   "metadata": {},
   "source": [
    "# 5. Create a list of all of the files in your parent directory (minimum five files should be available)."
   ]
  },
  {
   "cell_type": "code",
   "execution_count": 8,
   "id": "ac206954-0604-4de4-82e9-4f6701721b2b",
   "metadata": {},
   "outputs": [
    {
     "data": {
      "text/plain": [
       "['python_main_assignment_6.ipynb',\n",
       " 'python_main_assignment_10.ipynb',\n",
       " 'test.txt',\n",
       " 'python_main_assignment_12.ipynb',\n",
       " 'zoo.py',\n",
       " 'Python_main_assignment_4.ipynb',\n",
       " 'python_main_assignment_16.ipynb',\n",
       " 'python_main_assignment_9 .ipynb',\n",
       " 'python_main_assignment_18.ipynb',\n",
       " 'hellothere.docx',\n",
       " 'python_main_assignment_20.ipynb',\n",
       " 'python_main_assignment_15.ipynb',\n",
       " 'python_main_assignment_7.ipynb',\n",
       " 'python_main_assignment_14.ipynb',\n",
       " 'python_main_assignment_3.ipynb',\n",
       " 'python_main_programming_assignment_4.ipynb',\n",
       " 'python_main_assignment_8.ipynb',\n",
       " 'python_main_assignment_11.ipynb',\n",
       " '__pycache__',\n",
       " 'books.db',\n",
       " '.ipynb_checkpoints',\n",
       " 'today.txt',\n",
       " 'python_main_assignment_13.ipynb',\n",
       " 'python_main_assignment_17.ipynb',\n",
       " 'python_main_assignment_21.ipynb',\n",
       " 'python_main_assignment_5.ipynb',\n",
       " 'books.csv',\n",
       " 'python_main_assignment_19.ipynb']"
      ]
     },
     "execution_count": 8,
     "metadata": {},
     "output_type": "execute_result"
    }
   ],
   "source": [
    "import os\n",
    "os.listdir()"
   ]
  },
  {
   "cell_type": "markdown",
   "id": "fb488ba4-1794-4720-8ca4-7cf8f8238174",
   "metadata": {},
   "source": [
    "# 6. Use multiprocessing to create three separate processes. Make each one wait a random number of seconds between one and five, print the current time, and then exit."
   ]
  },
  {
   "cell_type": "code",
   "execution_count": 11,
   "id": "bc51d813-f0d7-4e40-928c-e7798044438d",
   "metadata": {},
   "outputs": [
    {
     "name": "stdout",
     "output_type": "stream",
     "text": [
      "process_1_starttime = 2023-02-09 10:29:41.330121\n",
      "process_2_starttime = 2023-02-09 10:29:41.334607\n",
      "process_3_starttime = 2023-02-09 10:29:41.341017\n",
      "process_1_endtime = 2023-02-09 10:29:42.336444\n",
      "process_3_endtime = 2023-02-09 10:29:45.348922\n",
      "process_2_endtime = 2023-02-09 10:29:46.345544\n"
     ]
    }
   ],
   "source": [
    "import multiprocessing\n",
    "import datetime\n",
    "import time\n",
    "import random\n",
    "\n",
    "def process_1():\n",
    "    print(f\"process_1_starttime = {datetime.datetime.now()}\")\n",
    "    time.sleep(random.randint(1,5))\n",
    "    print(f\"process_1_endtime = {datetime.datetime.now()}\")\n",
    "    \n",
    "def process_2():\n",
    "    print(f\"process_2_starttime = {datetime.datetime.now()}\")\n",
    "    time.sleep(random.randint(1,5))\n",
    "    print(f\"process_2_endtime = {datetime.datetime.now()}\")\n",
    "    \n",
    "\n",
    "def process_3():\n",
    "    print(f\"process_3_starttime = {datetime.datetime.now()}\")\n",
    "    time.sleep(random.randint(1,5))\n",
    "    print(f\"process_3_endtime = {datetime.datetime.now()}\")\n",
    "    \n",
    "if __name__ == \"__main__\":\n",
    "    p1 = multiprocessing.Process(target = process_1)\n",
    "    p2 = multiprocessing.Process(target = process_2)\n",
    "    p3 = multiprocessing.Process(target = process_3)\n",
    "    \n",
    "    p1.start()\n",
    "    p2.start()\n",
    "    p3.start()\n",
    "       \n",
    "    p1.join()\n",
    "    p2.join()\n",
    "    p3.join()    "
   ]
  },
  {
   "cell_type": "markdown",
   "id": "c4633a07-8c56-41f2-8e40-7d67a6859284",
   "metadata": {},
   "source": [
    "# 7. Create a date object of your day of birth."
   ]
  },
  {
   "cell_type": "code",
   "execution_count": 13,
   "id": "38a5271c-90f2-423a-8066-0e4ebc978785",
   "metadata": {},
   "outputs": [
    {
     "name": "stdout",
     "output_type": "stream",
     "text": [
      "1991-08-09 00:00:00\n"
     ]
    }
   ],
   "source": [
    "from datetime import datetime\n",
    "date_of_birth = datetime.strptime('09-08-1991', '%d-%m-%Y')\n",
    "print(date_of_birth)"
   ]
  },
  {
   "cell_type": "markdown",
   "id": "ec33554a-6b38-448a-9187-db8437883047",
   "metadata": {},
   "source": [
    "# 8. What day of the week was your day of birth?"
   ]
  },
  {
   "cell_type": "code",
   "execution_count": 15,
   "id": "047ce438-01c0-43a4-adc8-c5ef5fb00bd5",
   "metadata": {},
   "outputs": [
    {
     "data": {
      "text/plain": [
       "'Friday'"
      ]
     },
     "execution_count": 15,
     "metadata": {},
     "output_type": "execute_result"
    }
   ],
   "source": [
    "from datetime import datetime\n",
    "day = datetime(1991,8,9)\n",
    "day.strftime('%A')"
   ]
  },
  {
   "cell_type": "markdown",
   "id": "bc079d4e-1625-4b1d-8f01-be7b4fd8b960",
   "metadata": {},
   "source": [
    "# 9. When will you be (or when were you) 10,000 days old?"
   ]
  },
  {
   "cell_type": "code",
   "execution_count": 16,
   "id": "bc7c0606-fa14-4bb9-abe3-d02f5a73b9ab",
   "metadata": {},
   "outputs": [
    {
     "data": {
      "text/plain": [
       "datetime.datetime(1964, 3, 23, 0, 0)"
      ]
     },
     "execution_count": 16,
     "metadata": {},
     "output_type": "execute_result"
    }
   ],
   "source": [
    "from datetime import datetime, timedelta\n",
    "day = datetime.strptime(\"09-08-1991\", \"%d-%m-%Y\")\n",
    "future = day-timedelta(10000)\n",
    "future"
   ]
  }
 ],
 "metadata": {
  "kernelspec": {
   "display_name": "Python 3 (ipykernel)",
   "language": "python",
   "name": "python3"
  },
  "language_info": {
   "codemirror_mode": {
    "name": "ipython",
    "version": 3
   },
   "file_extension": ".py",
   "mimetype": "text/x-python",
   "name": "python",
   "nbconvert_exporter": "python",
   "pygments_lexer": "ipython3",
   "version": "3.10.6"
  }
 },
 "nbformat": 4,
 "nbformat_minor": 5
}
