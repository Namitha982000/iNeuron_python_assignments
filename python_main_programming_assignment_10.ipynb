{
 "cells": [
  {
   "cell_type": "markdown",
   "id": "38508ad6-be7e-4804-9f11-d6f8635c261c",
   "metadata": {},
   "source": [
    "# Programming Assignment 10"
   ]
  },
  {
   "cell_type": "markdown",
   "id": "8dc39209-0b55-4f3d-9af3-83cd91e619c0",
   "metadata": {},
   "source": [
    "#### 1. Write a Python program to find sum of elements in list?"
   ]
  },
  {
   "cell_type": "code",
   "execution_count": 1,
   "id": "306a1bfc-a864-4fb9-936b-f73f462ead11",
   "metadata": {},
   "outputs": [
    {
     "name": "stdout",
     "output_type": "stream",
     "text": [
      "The sum of all elements in the list is: 15\n"
     ]
    }
   ],
   "source": [
    "my_list = [1, 2, 3, 4, 5]\n",
    "\n",
    "# Using a loop to calculate sum of elements in list\n",
    "total = 0\n",
    "for num in my_list:\n",
    "    total += num\n",
    "\n",
    "print(\"The sum of all elements in the list is:\", total)\n"
   ]
  },
  {
   "cell_type": "markdown",
   "id": "894bb3b2-ec5b-44c4-9c5d-0de0f2d7ccd3",
   "metadata": {},
   "source": [
    "#### 2. Write a Python program to  Multiply all numbers in the list?\n"
   ]
  },
  {
   "cell_type": "code",
   "execution_count": 2,
   "id": "442f3393-6576-41b5-a2ea-d34a5d358a76",
   "metadata": {},
   "outputs": [
    {
     "name": "stdout",
     "output_type": "stream",
     "text": [
      "The product of all elements in the list is: 120\n"
     ]
    }
   ],
   "source": [
    "my_list = [1, 2, 3, 4, 5]\n",
    "\n",
    "# Using a loop to calculate product of all elements in list\n",
    "product = 1\n",
    "for num in my_list:\n",
    "    product *= num\n",
    "\n",
    "print(\"The product of all elements in the list is:\", product)\n"
   ]
  },
  {
   "cell_type": "markdown",
   "id": "67d083b8-c0c6-41c6-a00b-b037c4d2ac11",
   "metadata": {},
   "source": [
    "#### 3. Write a Python program to find smallest number in a list?\n"
   ]
  },
  {
   "cell_type": "code",
   "execution_count": 3,
   "id": "5fa0b123-7199-4aad-a72c-92779b5c595a",
   "metadata": {},
   "outputs": [
    {
     "name": "stdout",
     "output_type": "stream",
     "text": [
      "The smallest number in the list is: 2\n"
     ]
    }
   ],
   "source": [
    "my_list = [12, 56, 2, 9, 34, 76, 8]\n",
    "\n",
    "# Initializing the smallest number to the first element of the list\n",
    "smallest_num = my_list[0]\n",
    "\n",
    "# Using a loop to compare each element with the current smallest number\n",
    "for num in my_list:\n",
    "    if num < smallest_num:\n",
    "        smallest_num = num\n",
    "\n",
    "print(\"The smallest number in the list is:\", smallest_num)\n"
   ]
  },
  {
   "cell_type": "markdown",
   "id": "165c5b7f-81d5-4961-8a45-7748d0ac17e7",
   "metadata": {},
   "source": [
    "#### 4. Write a Python program to find largest number in a list?\n"
   ]
  },
  {
   "cell_type": "code",
   "execution_count": 4,
   "id": "c1a573c5-a431-4b71-9865-932a2521f58a",
   "metadata": {},
   "outputs": [
    {
     "name": "stdout",
     "output_type": "stream",
     "text": [
      "The largest number in the list is: 76\n"
     ]
    }
   ],
   "source": [
    "my_list = [12, 56, 2, 9, 34, 76, 8]\n",
    "\n",
    "# Initializing the largest number to the first element of the list\n",
    "largest_num = my_list[0]\n",
    "\n",
    "# Using a loop to compare each element with the current largest number\n",
    "for num in my_list:\n",
    "    if num > largest_num:\n",
    "        largest_num = num\n",
    "\n",
    "print(\"The largest number in the list is:\", largest_num)\n"
   ]
  },
  {
   "cell_type": "markdown",
   "id": "c727986f-2667-459b-a78a-cf3fe52fbfcf",
   "metadata": {},
   "source": [
    "#### 5. Write a Python program to find second largest number in a list?\n"
   ]
  },
  {
   "cell_type": "code",
   "execution_count": 5,
   "id": "fb570f18-0b0b-4bed-907d-5be1255c4dca",
   "metadata": {},
   "outputs": [
    {
     "name": "stdout",
     "output_type": "stream",
     "text": [
      "The second largest number in the list is: 56\n"
     ]
    }
   ],
   "source": [
    "my_list = [12, 56, 2, 9, 34, 76, 8]\n",
    "\n",
    "# Initializing the largest and second largest numbers to the first element of the list\n",
    "largest_num = my_list[0]\n",
    "second_largest_num = my_list[0]\n",
    "\n",
    "# Using a loop to iterate over all elements in the list and find the largest and second largest numbers\n",
    "for num in my_list:\n",
    "    if num > largest_num:\n",
    "        second_largest_num = largest_num\n",
    "        largest_num = num\n",
    "    elif num > second_largest_num and num != largest_num:\n",
    "        second_largest_num = num\n",
    "\n",
    "print(\"The second largest number in the list is:\", second_largest_num)\n"
   ]
  },
  {
   "cell_type": "markdown",
   "id": "c2447bf2-5ff6-4229-bbab-adf0532e9076",
   "metadata": {},
   "source": [
    "#### 6. Write a Python program to find N largest elements from a list?\n"
   ]
  },
  {
   "cell_type": "code",
   "execution_count": 6,
   "id": "8d1375b0-0d3f-4f3f-9b59-a576d46a5c90",
   "metadata": {},
   "outputs": [
    {
     "name": "stdout",
     "output_type": "stream",
     "text": [
      "The 3 largest elements in the list are: [76, 56, 34]\n"
     ]
    }
   ],
   "source": [
    "my_list = [12, 56, 2, 9, 34, 76, 8]\n",
    "n = 3\n",
    "\n",
    "# Sorting the list in descending order\n",
    "my_list.sort(reverse=True)\n",
    "\n",
    "# Extracting the N largest elements from the list\n",
    "n_largest_elements = my_list[:n]\n",
    "\n",
    "print(\"The\", n, \"largest elements in the list are:\", n_largest_elements)\n"
   ]
  },
  {
   "cell_type": "markdown",
   "id": "18c8c9ee-b2b4-43b4-aaec-fe6640487fdd",
   "metadata": {},
   "source": [
    "#### 7. Write a Python program to print even numbers in a list?\n"
   ]
  },
  {
   "cell_type": "code",
   "execution_count": 7,
   "id": "9007027c-86a4-4e76-9829-7bd589040e0f",
   "metadata": {},
   "outputs": [
    {
     "name": "stdout",
     "output_type": "stream",
     "text": [
      "2 4 6 8 10 "
     ]
    }
   ],
   "source": [
    "my_list = [1, 2, 3, 4, 5, 6, 7, 8, 9, 10]\n",
    "\n",
    "# Using a loop to iterate over all elements in the list and print even numbers\n",
    "for num in my_list:\n",
    "    if num % 2 == 0:\n",
    "        print(num, end=\" \")\n"
   ]
  },
  {
   "cell_type": "markdown",
   "id": "18314db1-5b69-4bbc-aa9e-e1f7d30b61ea",
   "metadata": {},
   "source": [
    "#### 8. Write a Python program to print odd numbers in a List?\n"
   ]
  },
  {
   "cell_type": "code",
   "execution_count": 8,
   "id": "49bd4ddf-aa1b-4ace-bcd9-d6b0c9707adc",
   "metadata": {},
   "outputs": [
    {
     "name": "stdout",
     "output_type": "stream",
     "text": [
      "1 3 5 7 9 "
     ]
    }
   ],
   "source": [
    "my_list = [1, 2, 3, 4, 5, 6, 7, 8, 9, 10]\n",
    "\n",
    "# Using a loop to iterate over all elements in the list and print odd numbers\n",
    "for num in my_list:\n",
    "    if num % 2 != 0:\n",
    "        print(num, end=\" \")\n"
   ]
  },
  {
   "cell_type": "markdown",
   "id": "724a66ee-9c76-4002-b5f6-65f21f9aa87c",
   "metadata": {},
   "source": [
    "#### 9. Write a Python program to Remove empty List from List?\n"
   ]
  },
  {
   "cell_type": "code",
   "execution_count": 9,
   "id": "c1aa2cf3-d00e-4f75-8cf2-21a23bf12d75",
   "metadata": {},
   "outputs": [
    {
     "name": "stdout",
     "output_type": "stream",
     "text": [
      "The list with empty lists removed is: [1, 3, 5, 8]\n"
     ]
    }
   ],
   "source": [
    "my_list = [1, [], 3, [], 5, [], [], 8, []]\n",
    "\n",
    "# Using a loop and list comprehension to filter out empty lists\n",
    "my_list = [x for x in my_list if x]\n",
    "\n",
    "print(\"The list with empty lists removed is:\", my_list)\n"
   ]
  },
  {
   "cell_type": "markdown",
   "id": "6a213d9a-eea8-4a77-89dc-445212c50814",
   "metadata": {},
   "source": [
    "#### 10. Write a Python program to Cloning or Copying a list?\n"
   ]
  },
  {
   "cell_type": "code",
   "execution_count": 10,
   "id": "7eb45622-bf04-48ae-9750-4f4a15f52d24",
   "metadata": {},
   "outputs": [
    {
     "name": "stdout",
     "output_type": "stream",
     "text": [
      "The original list is: [1, 2, 3, 4, 5]\n",
      "The cloned list is: [1, 2, 3, 4, 5]\n"
     ]
    }
   ],
   "source": [
    "original_list = [1, 2, 3, 4, 5]\n",
    "\n",
    "# Using slicing to clone or copy the original list\n",
    "cloned_list = original_list[:]\n",
    "\n",
    "print(\"The original list is:\", original_list)\n",
    "print(\"The cloned list is:\", cloned_list)\n"
   ]
  },
  {
   "cell_type": "markdown",
   "id": "1effff2b-58d2-42d3-b662-c6aa26e40e30",
   "metadata": {},
   "source": [
    "#### 11. Write a Python program to Count occurrences of an element in a list?"
   ]
  },
  {
   "cell_type": "code",
   "execution_count": 11,
   "id": "7faa537d-3aa2-4011-b0f4-9852ba81e154",
   "metadata": {},
   "outputs": [
    {
     "name": "stdout",
     "output_type": "stream",
     "text": [
      "The element 2 occurs 3 times in the list\n"
     ]
    }
   ],
   "source": [
    "my_list = [1, 2, 3, 4, 5, 2, 7, 8, 2]\n",
    "element = 2\n",
    "\n",
    "# Using the count() method to count the occurrences of the element\n",
    "count = my_list.count(element)\n",
    "\n",
    "print(\"The element\", element, \"occurs\", count, \"times in the list\")\n"
   ]
  },
  {
   "cell_type": "code",
   "execution_count": null,
   "id": "5f127bad-e8fd-4b6d-aa3d-17ea85dcbbdd",
   "metadata": {},
   "outputs": [],
   "source": []
  }
 ],
 "metadata": {
  "kernelspec": {
   "display_name": "Python 3 (ipykernel)",
   "language": "python",
   "name": "python3"
  },
  "language_info": {
   "codemirror_mode": {
    "name": "ipython",
    "version": 3
   },
   "file_extension": ".py",
   "mimetype": "text/x-python",
   "name": "python",
   "nbconvert_exporter": "python",
   "pygments_lexer": "ipython3",
   "version": "3.10.6"
  }
 },
 "nbformat": 4,
 "nbformat_minor": 5
}
