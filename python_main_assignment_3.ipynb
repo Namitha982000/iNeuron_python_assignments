{
 "cells": [
  {
   "cell_type": "markdown",
   "id": "355ea29a-348b-4350-b847-58c959ee8347",
   "metadata": {},
   "source": [
    "# 1. Why are functions advantageous to have in your programs?"
   ]
  },
  {
   "cell_type": "markdown",
   "id": "e123dc6c-b3fc-4123-b0d1-3245b5829bc6",
   "metadata": {},
   "source": [
    "Functions are advantageous to have in a program because once the block of code (function) is written, there is no need to write the same code again and again. The function can be called by its name whenever required and it can be called infinite number of times **(code reusability)**.  "
   ]
  },
  {
   "cell_type": "markdown",
   "id": "b0eef6ca-68db-4c32-bdda-d14c8889ff4b",
   "metadata": {},
   "source": [
    "# 2. When does the code in a function run: when it&#39;s specified or when it&#39;s called?"
   ]
  },
  {
   "cell_type": "markdown",
   "id": "01098602-9d17-40e7-abe2-5c8cb30e038e",
   "metadata": {},
   "source": [
    "The code in a function runs, when it is called. "
   ]
  },
  {
   "cell_type": "markdown",
   "id": "0512424b-c81f-4392-8129-6b26da797b1d",
   "metadata": {},
   "source": [
    "# 3. What statement creates a function?"
   ]
  },
  {
   "cell_type": "markdown",
   "id": "46f151cc-ec8f-4429-b603-02fa2768148d",
   "metadata": {},
   "source": [
    "The **def** keyword is a statement that creates a function. A function starts with the keyword **def** followed by function name along with () and ends with colon (:)  "
   ]
  },
  {
   "cell_type": "code",
   "execution_count": 4,
   "id": "f189b825-ada8-4c2c-b9b6-315adceb6082",
   "metadata": {},
   "outputs": [
    {
     "data": {
      "text/plain": [
       "11"
      ]
     },
     "execution_count": 4,
     "metadata": {},
     "output_type": "execute_result"
    }
   ],
   "source": [
    "def add(a,b):\n",
    "    sum = a + b\n",
    "    return sum\n",
    "\n",
    "add(5,6)"
   ]
  },
  {
   "cell_type": "markdown",
   "id": "61d6c04b-b5b9-4c66-bf6d-c1c8cb6c492b",
   "metadata": {},
   "source": [
    "# 4. What is the difference between a function and a function call?"
   ]
  },
  {
   "cell_type": "markdown",
   "id": "9a4e811b-2f20-4e28-80ce-3ee58396bb1f",
   "metadata": {},
   "source": [
    "* A function is a block of code that performs a specific operations and return back the results. By accepting the parameters as input, it returns the result.\n",
    "\n",
    "* Function call is a code used to pass control to a function."
   ]
  },
  {
   "cell_type": "code",
   "execution_count": 6,
   "id": "d98a5ee6-536a-4edb-89aa-31a21d18b48e",
   "metadata": {},
   "outputs": [],
   "source": [
    "# function\n",
    "\n",
    "def add(a,b):\n",
    "    sum = a + b\n",
    "    return sum"
   ]
  },
  {
   "cell_type": "code",
   "execution_count": 8,
   "id": "31edc30d-4b3e-42ee-90ff-b7e3fd57441a",
   "metadata": {},
   "outputs": [
    {
     "data": {
      "text/plain": [
       "11"
      ]
     },
     "execution_count": 8,
     "metadata": {},
     "output_type": "execute_result"
    }
   ],
   "source": [
    "# functon caLL\n",
    "\n",
    "add(5,6)"
   ]
  },
  {
   "cell_type": "markdown",
   "id": "f8264de2-1517-4de1-a005-0d807aeb452e",
   "metadata": {},
   "source": [
    "# 5. How many global scopes are there in a Python program? How many local scopes?"
   ]
  },
  {
   "cell_type": "markdown",
   "id": "190ed98e-a3ae-45bb-a2ee-175e1bf15ae8",
   "metadata": {},
   "source": [
    "There is one global scope in a python program. Whenever a function is called, one local variable is created."
   ]
  },
  {
   "cell_type": "markdown",
   "id": "1b9703b4-db8b-44af-ab2d-a3d914b9cd35",
   "metadata": {},
   "source": [
    "# 6. What happens to variables in a local scope when the function call returns?"
   ]
  },
  {
   "cell_type": "markdown",
   "id": "84998a12-3ffb-4b71-85f7-30f7c716acca",
   "metadata": {},
   "source": [
    "After the execution of function, the local variables ae destroyed."
   ]
  },
  {
   "cell_type": "markdown",
   "id": "9b8c5770-7176-402e-bdc5-e4b3561b5c0c",
   "metadata": {},
   "source": [
    "# 7. What is the concept of a return value? Is it possible to have a return value in an expression?"
   ]
  },
  {
   "cell_type": "markdown",
   "id": "33357957-00a1-49f1-a9dc-9eb741bbb750",
   "metadata": {},
   "source": [
    "A **return** is a value that a function returns toa a calling script when it completes its task. It can be of any one of the four variable types i.e., handle, integer, object or string. **Yes**, it is possible toa have a return value in an expression. It can of any kind of expression in which the value has a logical or coherent meaning"
   ]
  },
  {
   "cell_type": "markdown",
   "id": "96baa390-00c1-40d5-aecf-103889c79643",
   "metadata": {},
   "source": [
    "# 8. If a function does not have a return statement, what is the return value of a call to that function?"
   ]
  },
  {
   "cell_type": "markdown",
   "id": "dbc316ce-ce6e-4c4c-81f6-4f2c464af4a5",
   "metadata": {},
   "source": [
    "If a function does not have a return statement, python will implicitly returns a default value. That default return value will always be None or Undefined. "
   ]
  },
  {
   "cell_type": "markdown",
   "id": "23af2595-053a-4ceb-8683-7e9b14931930",
   "metadata": {},
   "source": [
    "# 9. How do you make a function variable refer to the global variable?"
   ]
  },
  {
   "cell_type": "markdown",
   "id": "c0e5db3b-dd83-4990-9fb8-0494e4023918",
   "metadata": {},
   "source": [
    "By using keyword **global**, the function variable can be made refer to the global variable.\n",
    "\n",
    "* When a variable is created inside a function, it is **local** by default.\n",
    "\n",
    "* When a variable is defined outside of a function, it is global by default. \n",
    "  Here, no need to use the **global** keyword.\n",
    "\n",
    "* The **global** keyword is used to read and write a global variable inside a function."
   ]
  },
  {
   "cell_type": "markdown",
   "id": "c211aa77-e801-4e5c-aa49-d8b6780c7abf",
   "metadata": {},
   "source": [
    "# 10. What is the data type of None?"
   ]
  },
  {
   "cell_type": "markdown",
   "id": "53a3edfa-87ba-4870-9617-9d80baa10534",
   "metadata": {},
   "source": [
    "**None** is a data type of its own **(None Type)** . The **None** defines null value which is same as 0, False, or an empty string."
   ]
  },
  {
   "cell_type": "code",
   "execution_count": 46,
   "id": "4c54b0f5-ac92-4fb3-9da6-7cc782dccf69",
   "metadata": {},
   "outputs": [
    {
     "name": "stdout",
     "output_type": "stream",
     "text": [
      " hi \n"
     ]
    }
   ],
   "source": [
    "def ash():\n",
    "    print(\" hi \")\n",
    "    \n",
    "ash()"
   ]
  },
  {
   "cell_type": "code",
   "execution_count": 47,
   "id": "a3ff03c6-226b-40ba-a701-fab25af952ab",
   "metadata": {},
   "outputs": [
    {
     "name": "stdout",
     "output_type": "stream",
     "text": [
      " hi \n"
     ]
    }
   ],
   "source": [
    "a = ash()"
   ]
  },
  {
   "cell_type": "code",
   "execution_count": 48,
   "id": "777c0d4d-b654-4f8b-a7ca-578920a32ab7",
   "metadata": {},
   "outputs": [
    {
     "name": "stdout",
     "output_type": "stream",
     "text": [
      "<class 'NoneType'>\n"
     ]
    }
   ],
   "source": [
    "print(type(a))"
   ]
  },
  {
   "cell_type": "markdown",
   "id": "398b2fa6-63e4-424e-8661-a5aba76ddb78",
   "metadata": {},
   "source": [
    "# 11. What does the sentence import areallyourpetsnamederic do? "
   ]
  },
  {
   "cell_type": "markdown",
   "id": "e6e869a4-542e-4436-8f6f-3c8836f5de50",
   "metadata": {},
   "source": [
    "This **import** statement imports a module named areallyourpetsnamederic. "
   ]
  },
  {
   "cell_type": "markdown",
   "id": "99bf0016-9bc4-4228-8932-1688b141a1b1",
   "metadata": {},
   "source": [
    "# 12. If you had a bacon() feature in a spam module, what would you call it after importing spam?"
   ]
  },
  {
   "cell_type": "markdown",
   "id": "73839eac-11ab-4f67-b190-326268b386d1",
   "metadata": {},
   "source": [
    "It can be called as **spam.bacon()**."
   ]
  },
  {
   "cell_type": "markdown",
   "id": "d4584802-c698-4996-9e33-556aeefc0045",
   "metadata": {},
   "source": [
    "# 13. What can you do to save a programme from crashing if it encounters an error?"
   ]
  },
  {
   "cell_type": "markdown",
   "id": "38c71347-e59f-42c7-9c79-d2104df06e28",
   "metadata": {},
   "source": [
    "It can be saved by using try clause. The code that causes error can be placed in a try clause."
   ]
  },
  {
   "cell_type": "markdown",
   "id": "aab233ef-c645-408f-86b3-db41e655becf",
   "metadata": {},
   "source": [
    "# 14. What is the purpose of the try clause? What is the purpose of the except clause?"
   ]
  },
  {
   "cell_type": "markdown",
   "id": "719ab77b-e178-429e-9ea8-fe76a505446e",
   "metadata": {},
   "source": [
    "Try clause is used to test the errors in a block of code. The purpose of the exccept clause is used hadle the error."
   ]
  },
  {
   "cell_type": "code",
   "execution_count": 49,
   "id": "fa04e4b0-fd05-47af-aebc-f3f6433c3601",
   "metadata": {},
   "outputs": [],
   "source": [
    "# Without using try and except clause\n",
    "\n",
    "def divide(a,b):\n",
    "        print(a/b)"
   ]
  },
  {
   "cell_type": "code",
   "execution_count": 50,
   "id": "a5505f62-d2ca-4d9a-b0d6-6d32fb1e6a07",
   "metadata": {},
   "outputs": [
    {
     "name": "stdout",
     "output_type": "stream",
     "text": [
      "0.8333333333333334\n"
     ]
    }
   ],
   "source": [
    "divide(5,6)"
   ]
  },
  {
   "cell_type": "code",
   "execution_count": 51,
   "id": "394f10fd-ba7b-4d48-94f5-5ebb46785285",
   "metadata": {},
   "outputs": [
    {
     "ename": "ZeroDivisionError",
     "evalue": "division by zero",
     "output_type": "error",
     "traceback": [
      "\u001b[0;31m---------------------------------------------------------------------------\u001b[0m",
      "\u001b[0;31mZeroDivisionError\u001b[0m                         Traceback (most recent call last)",
      "Cell \u001b[0;32mIn [51], line 1\u001b[0m\n\u001b[0;32m----> 1\u001b[0m \u001b[43mdivide\u001b[49m\u001b[43m(\u001b[49m\u001b[38;5;241;43m0\u001b[39;49m\u001b[43m,\u001b[49m\u001b[38;5;241;43m0\u001b[39;49m\u001b[43m)\u001b[49m\n",
      "Cell \u001b[0;32mIn [49], line 4\u001b[0m, in \u001b[0;36mdivide\u001b[0;34m(a, b)\u001b[0m\n\u001b[1;32m      3\u001b[0m \u001b[38;5;28;01mdef\u001b[39;00m \u001b[38;5;21mdivide\u001b[39m(a,b):\n\u001b[0;32m----> 4\u001b[0m         \u001b[38;5;28mprint\u001b[39m(\u001b[43ma\u001b[49m\u001b[38;5;241;43m/\u001b[39;49m\u001b[43mb\u001b[49m)\n",
      "\u001b[0;31mZeroDivisionError\u001b[0m: division by zero"
     ]
    }
   ],
   "source": [
    "divide(0,0)"
   ]
  },
  {
   "cell_type": "code",
   "execution_count": 52,
   "id": "e9d08a9f-728b-4378-8ddd-09678613163a",
   "metadata": {},
   "outputs": [],
   "source": [
    "# With using try and except clause\n",
    "\n",
    "\n",
    "def divide(a,b):\n",
    "    try:\n",
    "        print(a/b)\n",
    "    except:\n",
    "        print(\"zero division error\")"
   ]
  },
  {
   "cell_type": "code",
   "execution_count": 53,
   "id": "087da126-5f57-4f35-abdf-0aa5e76343d7",
   "metadata": {},
   "outputs": [
    {
     "name": "stdout",
     "output_type": "stream",
     "text": [
      "0.8333333333333334\n"
     ]
    }
   ],
   "source": [
    "divide(5,6)"
   ]
  },
  {
   "cell_type": "code",
   "execution_count": 54,
   "id": "c57b420d-2969-4515-a8ef-c00ff7a29c91",
   "metadata": {},
   "outputs": [
    {
     "name": "stdout",
     "output_type": "stream",
     "text": [
      "zero division error\n"
     ]
    }
   ],
   "source": [
    "divide(0,0)"
   ]
  }
 ],
 "metadata": {
  "kernelspec": {
   "display_name": "Python 3 (ipykernel)",
   "language": "python",
   "name": "python3"
  },
  "language_info": {
   "codemirror_mode": {
    "name": "ipython",
    "version": 3
   },
   "file_extension": ".py",
   "mimetype": "text/x-python",
   "name": "python",
   "nbconvert_exporter": "python",
   "pygments_lexer": "ipython3",
   "version": "3.10.6"
  }
 },
 "nbformat": 4,
 "nbformat_minor": 5
}
