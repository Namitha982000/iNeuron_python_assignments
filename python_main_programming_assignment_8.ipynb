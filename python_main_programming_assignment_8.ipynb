{
 "cells": [
  {
   "cell_type": "markdown",
   "id": "8096b81b-cc09-4a0c-99f7-aaa2c961d454",
   "metadata": {},
   "source": [
    "# Programming Assignment 8"
   ]
  },
  {
   "cell_type": "markdown",
   "id": "043d12bc-13ca-4620-b3ab-ee3845603370",
   "metadata": {},
   "source": [
    "**1. Write a Python Program to Add Two Matrices?**"
   ]
  },
  {
   "cell_type": "code",
   "execution_count": 1,
   "id": "dcb4bef7-5af9-4c8b-ae9c-c2dc0850c738",
   "metadata": {},
   "outputs": [
    {
     "name": "stdout",
     "output_type": "stream",
     "text": [
      "[10, 10, 10]\n",
      "[10, 10, 10]\n",
      "[10, 10, 10]\n"
     ]
    }
   ],
   "source": [
    "# First, define the two matrices you want to add\n",
    "matrix1 = [[1, 2, 3],\n",
    "           [4, 5, 6],\n",
    "           [7, 8, 9]]\n",
    "\n",
    "matrix2 = [[9, 8, 7],\n",
    "           [6, 5, 4],\n",
    "           [3, 2, 1]]\n",
    "\n",
    "# Create an empty matrix to hold the result\n",
    "result = [[0, 0, 0],\n",
    "          [0, 0, 0],\n",
    "          [0, 0, 0]]\n",
    "\n",
    "# Iterate through each element in the matrices and add them together\n",
    "for i in range(len(matrix1)):\n",
    "    for j in range(len(matrix1[0])):\n",
    "        result[i][j] = matrix1[i][j] + matrix2[i][j]\n",
    "\n",
    "# Print the result matrix\n",
    "for row in result:\n",
    "    print(row)\n"
   ]
  },
  {
   "cell_type": "markdown",
   "id": "458e85f1-85bf-41d1-865d-62004ce78c50",
   "metadata": {},
   "source": [
    "**2. Write a Python Program to Multiply Two Matrices?**"
   ]
  },
  {
   "cell_type": "code",
   "execution_count": 2,
   "id": "5850c45b-0706-4aff-bdb3-31d2caaa4bbb",
   "metadata": {},
   "outputs": [
    {
     "name": "stdout",
     "output_type": "stream",
     "text": [
      "[27, 30, 33]\n",
      "[61, 68, 75]\n",
      "[95, 106, 117]\n"
     ]
    }
   ],
   "source": [
    "# First, define the two matrices you want to multiply\n",
    "matrix1 = [[1, 2],\n",
    "           [3, 4],\n",
    "           [5, 6]]\n",
    "\n",
    "matrix2 = [[7, 8, 9],\n",
    "           [10, 11, 12]]\n",
    "\n",
    "# Create an empty matrix to hold the result\n",
    "result = [[0, 0, 0],\n",
    "          [0, 0, 0],\n",
    "          [0, 0, 0]]\n",
    "\n",
    "# Iterate through each row in the first matrix\n",
    "for i in range(len(matrix1)):\n",
    "    # Iterate through each column in the second matrix\n",
    "    for j in range(len(matrix2[0])):\n",
    "        # Iterate through each element in the row/column and add their product to the corresponding element of the result matrix\n",
    "        for k in range(len(matrix2)):\n",
    "            result[i][j] += matrix1[i][k] * matrix2[k][j]\n",
    "\n",
    "# Print the result matrix\n",
    "for row in result:\n",
    "    print(row)\n"
   ]
  },
  {
   "cell_type": "markdown",
   "id": "8ef65280-4b62-49cd-86d5-91f92ed98dff",
   "metadata": {},
   "source": [
    "**3. Write a Python Program to Transpose a Matrix?**"
   ]
  },
  {
   "cell_type": "code",
   "execution_count": 3,
   "id": "29861522-4cf7-434c-af6e-6d94b1afd099",
   "metadata": {},
   "outputs": [
    {
     "name": "stdout",
     "output_type": "stream",
     "text": [
      "[1, 4, 7]\n",
      "[2, 5, 8]\n",
      "[3, 6, 9]\n"
     ]
    }
   ],
   "source": [
    "# First, define the matrix you want to transpose\n",
    "matrix = [[1, 2, 3],\n",
    "          [4, 5, 6],\n",
    "          [7, 8, 9]]\n",
    "\n",
    "# Create an empty matrix to hold the transpose\n",
    "transpose = [[0, 0, 0],\n",
    "             [0, 0, 0],\n",
    "             [0, 0, 0]]\n",
    "\n",
    "# Iterate through each element in the matrix and assign it to the corresponding element in the transpose\n",
    "for i in range(len(matrix)):\n",
    "    for j in range(len(matrix[0])):\n",
    "        transpose[j][i] = matrix[i][j]\n",
    "\n",
    "# Print the transpose\n",
    "for row in transpose:\n",
    "    print(row)\n"
   ]
  },
  {
   "cell_type": "markdown",
   "id": "dbbc01b9-b3c6-4714-945f-ff12195c8978",
   "metadata": {},
   "source": [
    "**4. Write a Python Program to Sort Words in Alphabetic Order?**"
   ]
  },
  {
   "cell_type": "code",
   "execution_count": 4,
   "id": "526b37c6-5383-4b68-ac50-15b31e304793",
   "metadata": {},
   "outputs": [
    {
     "name": "stdin",
     "output_type": "stream",
     "text": [
      "Enter a string:  Python Programming language\n"
     ]
    },
    {
     "name": "stdout",
     "output_type": "stream",
     "text": [
      "The sorted words are:\n",
      "Programming\n",
      "Python\n",
      "language\n"
     ]
    }
   ],
   "source": [
    "# First, get the input string from the user\n",
    "string = input(\"Enter a string: \")\n",
    "\n",
    "# Split the string into individual words\n",
    "words = string.split()\n",
    "\n",
    "# Sort the words in alphabetical order\n",
    "sorted_words = sorted(words)\n",
    "\n",
    "# Print the sorted words\n",
    "print(\"The sorted words are:\")\n",
    "for word in sorted_words:\n",
    "    print(word)\n"
   ]
  },
  {
   "cell_type": "markdown",
   "id": "2258271c-5459-440a-8c28-6319a37ae1d5",
   "metadata": {},
   "source": [
    "**5. Write a Python Program to Remove Punctuation From a String?**"
   ]
  },
  {
   "cell_type": "code",
   "execution_count": 7,
   "id": "a449fea3-2d36-4be8-8321-f4bd3078c2ad",
   "metadata": {},
   "outputs": [
    {
     "name": "stdout",
     "output_type": "stream",
     "text": [
      "Python Data Science\n"
     ]
    }
   ],
   "source": [
    "import string\n",
    "\n",
    "def remove_punctuation(text):\n",
    "    # Create a translation table with punctuation marks mapped to None\n",
    "    translator = str.maketrans('', '', string.punctuation)\n",
    "    # Remove punctuation using the translation table\n",
    "    text_without_punctuation = text.translate(translator)\n",
    "    return text_without_punctuation\n",
    "\n",
    "# Test the function\n",
    "text = \"Python, Data Science!\"\n",
    "text_without_punctuation = remove_punctuation(text)\n",
    "print(text_without_punctuation)\n"
   ]
  },
  {
   "cell_type": "code",
   "execution_count": null,
   "id": "fe902dd7-2291-43ac-9d3f-b5c662b7983b",
   "metadata": {},
   "outputs": [],
   "source": []
  }
 ],
 "metadata": {
  "kernelspec": {
   "display_name": "Python 3 (ipykernel)",
   "language": "python",
   "name": "python3"
  },
  "language_info": {
   "codemirror_mode": {
    "name": "ipython",
    "version": 3
   },
   "file_extension": ".py",
   "mimetype": "text/x-python",
   "name": "python",
   "nbconvert_exporter": "python",
   "pygments_lexer": "ipython3",
   "version": "3.10.6"
  }
 },
 "nbformat": 4,
 "nbformat_minor": 5
}
