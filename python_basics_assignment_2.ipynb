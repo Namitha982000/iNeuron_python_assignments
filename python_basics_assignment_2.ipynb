{
 "cells": [
  {
   "cell_type": "markdown",
   "id": "161681fa",
   "metadata": {},
   "source": [
    "# 1.What are the two values of the Boolean data type? How do you write them?"
   ]
  },
  {
   "cell_type": "markdown",
   "id": "5e2d28ce",
   "metadata": {},
   "source": [
    "The two values of Boolean data type are :\n",
    "\n",
    "`True` = 1\n",
    "\n",
    "`False `= 0\n",
    "\n",
    "ex:"
   ]
  },
  {
   "cell_type": "code",
   "execution_count": 1,
   "id": "c2ae7674",
   "metadata": {},
   "outputs": [
    {
     "name": "stdout",
     "output_type": "stream",
     "text": [
      "True\n"
     ]
    }
   ],
   "source": [
    "print(10 > 9)"
   ]
  },
  {
   "cell_type": "code",
   "execution_count": 2,
   "id": "289d73d4",
   "metadata": {},
   "outputs": [
    {
     "name": "stdout",
     "output_type": "stream",
     "text": [
      "False\n"
     ]
    }
   ],
   "source": [
    "print(4 < 2)"
   ]
  },
  {
   "cell_type": "markdown",
   "id": "4540c10b",
   "metadata": {},
   "source": [
    "# 2. What are the three different types of Boolean operators?"
   ]
  },
  {
   "cell_type": "markdown",
   "id": "407978bb",
   "metadata": {},
   "source": [
    "The three different types of Boolean operators are:\n",
    "\n",
    "1 `AND`\n",
    "\n",
    "2 `OR`\n",
    "\n",
    "3 `NOT`"
   ]
  },
  {
   "cell_type": "code",
   "execution_count": 3,
   "id": "6c9cafd8",
   "metadata": {},
   "outputs": [
    {
     "name": "stdout",
     "output_type": "stream",
     "text": [
      "True\n"
     ]
    }
   ],
   "source": [
    "# AND operator\n",
    "\n",
    "if 10 > 3 and 28 < 50:\n",
    "    print(\"True\")\n",
    "else:\n",
    "    print(\"False\")"
   ]
  },
  {
   "cell_type": "code",
   "execution_count": 4,
   "id": "8dfde671",
   "metadata": {},
   "outputs": [
    {
     "name": "stdout",
     "output_type": "stream",
     "text": [
      "False\n"
     ]
    }
   ],
   "source": [
    "if 10 > 3 and 28 > 50:\n",
    "    print(\"True\")\n",
    "else:\n",
    "    print(\"False\")"
   ]
  },
  {
   "cell_type": "code",
   "execution_count": 5,
   "id": "047c7b49",
   "metadata": {},
   "outputs": [
    {
     "name": "stdout",
     "output_type": "stream",
     "text": [
      "True\n"
     ]
    }
   ],
   "source": [
    "# OR operator\n",
    "\n",
    "if 12 > 6 or 32 > 14:\n",
    "    print(\"True\")\n",
    "else:\n",
    "    print(\"False\")"
   ]
  },
  {
   "cell_type": "code",
   "execution_count": 6,
   "id": "85b08361",
   "metadata": {},
   "outputs": [
    {
     "name": "stdout",
     "output_type": "stream",
     "text": [
      "False\n"
     ]
    }
   ],
   "source": [
    "if 12 < 6 or 32 < 14:\n",
    "    print(\"True\")\n",
    "else:\n",
    "    print(\"False\")"
   ]
  },
  {
   "cell_type": "code",
   "execution_count": 7,
   "id": "81095f0a",
   "metadata": {},
   "outputs": [
    {
     "name": "stdout",
     "output_type": "stream",
     "text": [
      "False\n"
     ]
    }
   ],
   "source": [
    "# NOT operator\n",
    "\n",
    "print(not True)"
   ]
  },
  {
   "cell_type": "code",
   "execution_count": 8,
   "id": "4e1c96c2",
   "metadata": {},
   "outputs": [
    {
     "name": "stdout",
     "output_type": "stream",
     "text": [
      "True\n"
     ]
    }
   ],
   "source": [
    "print(not False)"
   ]
  },
  {
   "cell_type": "markdown",
   "id": "94d8b92b",
   "metadata": {},
   "source": [
    "# 3. Make a list of each Boolean operator&#39;s truth tables (i.e. every possible combination of Boolean values for the operator and what it evaluate )."
   ]
  },
  {
   "cell_type": "code",
   "execution_count": 9,
   "id": "ab04fb90",
   "metadata": {},
   "outputs": [
    {
     "name": "stdout",
     "output_type": "stream",
     "text": [
      "False\n",
      "False\n",
      "False\n",
      "True\n"
     ]
    }
   ],
   "source": [
    "# AND Truth table  : Only if both the values are True then output will be True orelse output will be False \n",
    "\n",
    "print(12 > 92 and 3 != 3) # 0 and 0 = 0 (False)\n",
    "\n",
    "print(12 > 92 and 3 < 4) # 0 and 1 = 0 (False)\n",
    "\n",
    "print(12 % 2 == 0 and 15 % 2 == 0) # 1 and 0 = 0 (False)\n",
    "\n",
    "print( 20 // 2 == 10 and 8 + 3 == 11) # 1 and 1 = 1(True)\n",
    "\n",
    "\n"
   ]
  },
  {
   "cell_type": "code",
   "execution_count": 10,
   "id": "21e5a108",
   "metadata": {},
   "outputs": [
    {
     "name": "stdout",
     "output_type": "stream",
     "text": [
      "False\n",
      "True\n",
      "True\n",
      "True\n"
     ]
    }
   ],
   "source": [
    "# OR Truth table : If any one value is True then the output will be True or else output will be False\n",
    "\n",
    "print(12 > 92 or 3 != 3) # 0 or 0 = 0 (False)\n",
    "\n",
    "print(12 > 92 or 3 < 4) # 0 or 1 = 0 (True)\n",
    "\n",
    "print(12 % 2 == 0 or 15 % 2 == 0) # 1 or 0 = 0 (True)\n",
    "\n",
    "print( 20 // 2 == 10 or 8 + 3 == 11) # 1 or 1 = 1(True)\n"
   ]
  },
  {
   "cell_type": "code",
   "execution_count": 11,
   "id": "fba47599",
   "metadata": {},
   "outputs": [
    {
     "name": "stdout",
     "output_type": "stream",
     "text": [
      "True\n",
      "False\n"
     ]
    }
   ],
   "source": [
    "# NOT Truth table :  Output will be inverse of input\n",
    "\n",
    "print(not 0)  # 0 is False, (not 0) is True\n",
    "\n",
    "print(not 1)  # 1 is True, (not 1) is False"
   ]
  },
  {
   "cell_type": "markdown",
   "id": "8f856410",
   "metadata": {},
   "source": [
    "# 4. What are the values of the following expressions?"
   ]
  },
  {
   "cell_type": "code",
   "execution_count": 12,
   "id": "1f602039",
   "metadata": {},
   "outputs": [
    {
     "data": {
      "text/plain": [
       "False"
      ]
     },
     "execution_count": 12,
     "metadata": {},
     "output_type": "execute_result"
    }
   ],
   "source": [
    "(5 > 4) and (3 == 5)"
   ]
  },
  {
   "cell_type": "code",
   "execution_count": 13,
   "id": "876c63de",
   "metadata": {},
   "outputs": [
    {
     "data": {
      "text/plain": [
       "False"
      ]
     },
     "execution_count": 13,
     "metadata": {},
     "output_type": "execute_result"
    }
   ],
   "source": [
    "not (5 > 4)"
   ]
  },
  {
   "cell_type": "code",
   "execution_count": 14,
   "id": "49ad360a",
   "metadata": {},
   "outputs": [
    {
     "data": {
      "text/plain": [
       "True"
      ]
     },
     "execution_count": 14,
     "metadata": {},
     "output_type": "execute_result"
    }
   ],
   "source": [
    "(5 > 4) or (3 == 5)"
   ]
  },
  {
   "cell_type": "code",
   "execution_count": 15,
   "id": "7bf66d1f",
   "metadata": {},
   "outputs": [
    {
     "data": {
      "text/plain": [
       "False"
      ]
     },
     "execution_count": 15,
     "metadata": {},
     "output_type": "execute_result"
    }
   ],
   "source": [
    "not ((5 > 4) or (3 == 5))"
   ]
  },
  {
   "cell_type": "code",
   "execution_count": 16,
   "id": "89959a69",
   "metadata": {},
   "outputs": [
    {
     "data": {
      "text/plain": [
       "False"
      ]
     },
     "execution_count": 16,
     "metadata": {},
     "output_type": "execute_result"
    }
   ],
   "source": [
    "(True and True) and (True == False)"
   ]
  },
  {
   "cell_type": "code",
   "execution_count": 17,
   "id": "c305d19e",
   "metadata": {},
   "outputs": [
    {
     "data": {
      "text/plain": [
       "True"
      ]
     },
     "execution_count": 17,
     "metadata": {},
     "output_type": "execute_result"
    }
   ],
   "source": [
    "(not False) or (not True)"
   ]
  },
  {
   "cell_type": "markdown",
   "id": "8319d49d",
   "metadata": {},
   "source": [
    "# 5. What are the six comparison operators?"
   ]
  },
  {
   "cell_type": "markdown",
   "id": "929602c4",
   "metadata": {},
   "source": [
    "The 6 main comparison operators are:\n",
    "\n",
    "`1` equal to (==)\n",
    "\n",
    "`2` not equal to (!=)\n",
    "\n",
    "`3` greater than (>)\n",
    "\n",
    "`4` greater than or equal to (>=)\n",
    "\n",
    "`5` less than (<)\n",
    "\n",
    "`6` less than or equal to (<=)"
   ]
  },
  {
   "cell_type": "code",
   "execution_count": 18,
   "id": "cf96fc57",
   "metadata": {},
   "outputs": [
    {
     "name": "stdout",
     "output_type": "stream",
     "text": [
      "True\n",
      "True\n",
      "True\n",
      "True\n",
      "True\n",
      "True\n"
     ]
    }
   ],
   "source": [
    "# Example for an equal to (==)\n",
    "\n",
    "print(6 == 6)\n",
    "\n",
    "print(2 != 3)\n",
    "\n",
    "print(4 > 2)\n",
    "\n",
    "print(4 >= 3)\n",
    "\n",
    "print(2 < 3)\n",
    "\n",
    "print(3 <= 4)"
   ]
  },
  {
   "cell_type": "markdown",
   "id": "90cdea0c",
   "metadata": {},
   "source": [
    "# 6. How do you tell the difference between the equal to and assignment operators?Describe a condition and when you would use one."
   ]
  },
  {
   "cell_type": "markdown",
   "id": "124e4dcd",
   "metadata": {},
   "source": [
    "`'=='` operator examines if the given operands are euqal or not. where as,\n",
    "\n",
    "`'='` operator  assignes the value to the variable."
   ]
  },
  {
   "cell_type": "code",
   "execution_count": 19,
   "id": "2cc11f41",
   "metadata": {},
   "outputs": [
    {
     "name": "stdout",
     "output_type": "stream",
     "text": [
      "True\n"
     ]
    }
   ],
   "source": [
    "# Example for an '==' operator\n",
    "\n",
    "if 2 == 2:\n",
    "    print(\"True\")\n",
    "else:\n",
    "    print(\"False\")\n",
    "\n"
   ]
  },
  {
   "cell_type": "code",
   "execution_count": 20,
   "id": "6f67a71c",
   "metadata": {},
   "outputs": [
    {
     "name": "stdout",
     "output_type": "stream",
     "text": [
      "3\n"
     ]
    }
   ],
   "source": [
    "# Example for an '=' operator\n",
    "\n",
    "a = 3\n",
    "print(a)"
   ]
  },
  {
   "cell_type": "markdown",
   "id": "87c2cd31",
   "metadata": {},
   "source": [
    "# 7. Identify the three blocks in this code: \n"
   ]
  },
  {
   "cell_type": "code",
   "execution_count": 21,
   "id": "92decaee",
   "metadata": {},
   "outputs": [
    {
     "name": "stdout",
     "output_type": "stream",
     "text": [
      "ham\n",
      "spam\n",
      "spam\n"
     ]
    }
   ],
   "source": [
    "spam = 0             # 1st block\n",
    "\n",
    "if spam == 10:       # 2nd block     \n",
    "    print('eggs')\n",
    "\n",
    "if spam > 5:         # 3rd block\n",
    "    print('bacon')\n",
    "else:\n",
    "    print('ham')\n",
    "    print('spam')\n",
    "    print('spam')"
   ]
  },
  {
   "cell_type": "markdown",
   "id": "830906f9",
   "metadata": {},
   "source": [
    "# 8. Write code that prints Hello if 1 is stored in spam, prints Howdy if 2 is stored in spam, and prints Greetings! if anything else is stored in spam."
   ]
  },
  {
   "cell_type": "code",
   "execution_count": 22,
   "id": "7d113734",
   "metadata": {},
   "outputs": [
    {
     "name": "stdout",
     "output_type": "stream",
     "text": [
      "enter a number: 1\n",
      "Hello\n"
     ]
    }
   ],
   "source": [
    "# for input 1\n",
    "\n",
    "spam = int(input(\"enter a number: \"))\n",
    "\n",
    "if spam == 1:\n",
    "    print(\"Hello\")\n",
    "elif spam == 2:\n",
    "    print(\"Howdy\")\n",
    "else:\n",
    "    print(\"Greetings!\")"
   ]
  },
  {
   "cell_type": "code",
   "execution_count": 23,
   "id": "413f9b67",
   "metadata": {},
   "outputs": [
    {
     "name": "stdout",
     "output_type": "stream",
     "text": [
      "enter a number: 2\n",
      "Howdy\n"
     ]
    }
   ],
   "source": [
    "# for input 2\n",
    "\n",
    "spam = int(input(\"enter a number: \"))\n",
    "\n",
    "if spam == 1:\n",
    "    print(\"Hello\")\n",
    "elif spam == 2:\n",
    "    print(\"Howdy\")\n",
    "else:\n",
    "    print(\"Greetings!\")"
   ]
  },
  {
   "cell_type": "code",
   "execution_count": 24,
   "id": "bb9bb840",
   "metadata": {},
   "outputs": [
    {
     "name": "stdout",
     "output_type": "stream",
     "text": [
      "enter a number: 3\n",
      "Greetings!\n"
     ]
    }
   ],
   "source": [
    "# for input other than 1 and 2\n",
    "\n",
    "spam = int(input(\"enter a number: \"))\n",
    "\n",
    "if spam == 1:\n",
    "    print(\"Hello\")\n",
    "elif spam == 2:\n",
    "    print(\"Howdy\")\n",
    "else:\n",
    "    print(\"Greetings!\")"
   ]
  },
  {
   "cell_type": "markdown",
   "id": "00f2ca02",
   "metadata": {},
   "source": [
    "# 9.If your programme is stuck in an endless loop, what keys you’ll press?"
   ]
  },
  {
   "cell_type": "markdown",
   "id": "034f4c24",
   "metadata": {},
   "source": [
    "## ctrl + c"
   ]
  },
  {
   "cell_type": "markdown",
   "id": "634cb80e",
   "metadata": {},
   "source": [
    "# 10. How can you tell the difference between the break and continue ?"
   ]
  },
  {
   "cell_type": "markdown",
   "id": "9fee1446",
   "metadata": {},
   "source": [
    "The break statement is primarily used as an exit statement, allowing to exit the current block or loop.\n",
    "Whereas, The continue statement aids in moving from the current loop iteration to the next loop."
   ]
  },
  {
   "cell_type": "code",
   "execution_count": 25,
   "id": "67cae420",
   "metadata": {},
   "outputs": [
    {
     "name": "stdout",
     "output_type": "stream",
     "text": [
      "0\n",
      "1\n",
      "2\n",
      "3\n",
      "4\n"
     ]
    }
   ],
   "source": [
    "# example for break\n",
    "\n",
    "for i in range(10):\n",
    "    if i == 5:\n",
    "          break\n",
    "    print(i)"
   ]
  },
  {
   "cell_type": "code",
   "execution_count": 26,
   "id": "94d078f7",
   "metadata": {},
   "outputs": [
    {
     "name": "stdout",
     "output_type": "stream",
     "text": [
      "0\n",
      "1\n",
      "2\n",
      "3\n",
      "4\n",
      "6\n",
      "7\n",
      "8\n",
      "9\n"
     ]
    }
   ],
   "source": [
    "# example for continue\n",
    "\n",
    "for i in range(10):\n",
    "    if i == 5:\n",
    "        continue\n",
    "    print(i)"
   ]
  },
  {
   "cell_type": "markdown",
   "id": "5ce29b23",
   "metadata": {},
   "source": [
    "# 11. In a loop, what is the difference between range(10), range(0,10) and range(0,10,1) ?"
   ]
  },
  {
   "cell_type": "markdown",
   "id": "3e4de5c7",
   "metadata": {},
   "source": [
    "The output will be same for all the condition. \n",
    "\n",
    "range(10) = The default start value is 0 and the end value is exclusive of stop value.\n",
    "\n",
    "range(0,10) = Here, start value and the stop value are specified i.e., 0 and 10 respectively.\n",
    "\n",
    "range(0,10,1) = Here, along with the start and stop value the step size is also specified i.e., 1."
   ]
  },
  {
   "cell_type": "code",
   "execution_count": 27,
   "id": "d366bf98",
   "metadata": {},
   "outputs": [
    {
     "name": "stdout",
     "output_type": "stream",
     "text": [
      "0\n",
      "1\n",
      "2\n",
      "3\n",
      "4\n",
      "5\n",
      "6\n",
      "7\n",
      "8\n",
      "9\n"
     ]
    }
   ],
   "source": [
    "for i in range(10):\n",
    "    print(i)"
   ]
  },
  {
   "cell_type": "code",
   "execution_count": 28,
   "id": "8f21e888",
   "metadata": {},
   "outputs": [
    {
     "name": "stdout",
     "output_type": "stream",
     "text": [
      "0\n",
      "1\n",
      "2\n",
      "3\n",
      "4\n",
      "5\n",
      "6\n",
      "7\n",
      "8\n",
      "9\n"
     ]
    }
   ],
   "source": [
    "for i in range(0,10):\n",
    "    print(i)"
   ]
  },
  {
   "cell_type": "code",
   "execution_count": 29,
   "id": "6bb21de5",
   "metadata": {},
   "outputs": [
    {
     "name": "stdout",
     "output_type": "stream",
     "text": [
      "0\n",
      "1\n",
      "2\n",
      "3\n",
      "4\n",
      "5\n",
      "6\n",
      "7\n",
      "8\n",
      "9\n"
     ]
    }
   ],
   "source": [
    "for i in range(0,10,1):\n",
    "    print(i)"
   ]
  },
  {
   "cell_type": "markdown",
   "id": "0be89393",
   "metadata": {},
   "source": [
    "# 12. Write a short a program that prints the numbers 1 to 10 using a for loop. Then write an equivalent program that prints the numbers 1 to 10 using a while loop. "
   ]
  },
  {
   "cell_type": "code",
   "execution_count": 30,
   "id": "4e93580c",
   "metadata": {},
   "outputs": [
    {
     "name": "stdout",
     "output_type": "stream",
     "text": [
      "1\n",
      "2\n",
      "3\n",
      "4\n",
      "5\n",
      "6\n",
      "7\n",
      "8\n",
      "9\n",
      "10\n"
     ]
    }
   ],
   "source": [
    "# Using for loop\n",
    "\n",
    "for i in range(1, 11):\n",
    "    print(i)"
   ]
  },
  {
   "cell_type": "code",
   "execution_count": 31,
   "id": "b81163b5",
   "metadata": {},
   "outputs": [
    {
     "name": "stdout",
     "output_type": "stream",
     "text": [
      "1\n",
      "2\n",
      "3\n",
      "4\n",
      "5\n",
      "6\n",
      "7\n",
      "8\n",
      "9\n",
      "10\n"
     ]
    }
   ],
   "source": [
    "# Using while loop\n",
    "\n",
    "i = 1\n",
    "\n",
    "while i <= 10:\n",
    "    print(i)\n",
    "    i = i + 1\n",
    "\n",
    "\n"
   ]
  },
  {
   "cell_type": "markdown",
   "id": "014acf20",
   "metadata": {},
   "source": [
    "# 13. If you had a function named bacon() inside a module named spam, how would you call it after importing spam?"
   ]
  },
  {
   "cell_type": "code",
   "execution_count": 32,
   "id": "a9da38c4",
   "metadata": {},
   "outputs": [
    {
     "name": "stdout",
     "output_type": "stream",
     "text": [
      "this is a bacon function\n"
     ]
    }
   ],
   "source": [
    "import spam\n",
    "\n",
    "spam.bacon()\n"
   ]
  }
 ],
 "metadata": {
  "kernelspec": {
   "display_name": "Python 3 (ipykernel)",
   "language": "python",
   "name": "python3"
  },
  "language_info": {
   "codemirror_mode": {
    "name": "ipython",
    "version": 3
   },
   "file_extension": ".py",
   "mimetype": "text/x-python",
   "name": "python",
   "nbconvert_exporter": "python",
   "pygments_lexer": "ipython3",
   "version": "3.9.12"
  }
 },
 "nbformat": 4,
 "nbformat_minor": 5
}
