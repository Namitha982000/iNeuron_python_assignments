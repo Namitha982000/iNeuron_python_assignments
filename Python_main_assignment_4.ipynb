{
 "cells": [
  {
   "cell_type": "markdown",
   "id": "293757ee-fce6-4367-a9c1-971d1c6674a5",
   "metadata": {},
   "source": [
    "# 1. What exactly is []?"
   ]
  },
  {
   "cell_type": "markdown",
   "id": "dd15f926-ed3a-4b79-9cd1-05b1fd54e527",
   "metadata": {},
   "source": [
    "[] defines list literal which contains elements of various datatypes in it. If no element present in it then it is known as **Empty list**. "
   ]
  },
  {
   "cell_type": "markdown",
   "id": "5a9c8906-1969-49d5-90e8-905acd5e3a6a",
   "metadata": {},
   "source": [
    "# 2. In a list of values stored in a variable called spam, how would you assign the value &#39;hello&#39; as the third value? (Assume [2, 4, 6, 8, 10] are in spam.)"
   ]
  },
  {
   "cell_type": "code",
   "execution_count": 2,
   "id": "1d560d81-0371-4f1a-93de-94a2eea405e7",
   "metadata": {},
   "outputs": [
    {
     "name": "stdout",
     "output_type": "stream",
     "text": [
      "[2, 4, 'hello', 8, 10]\n"
     ]
    }
   ],
   "source": [
    "spam = [2,4,6,8,10]\n",
    "\n",
    "spam[2] = 'hello'\n",
    "\n",
    "print(spam)"
   ]
  },
  {
   "cell_type": "markdown",
   "id": "cbd8a38e-f410-4731-8637-45431381cd50",
   "metadata": {},
   "source": [
    "# -> Lets pretend the spam includes the list ['a', 'b', 'c' 'd'] for the next three queries."
   ]
  },
  {
   "cell_type": "markdown",
   "id": "5ddc6d7b-318f-4ff6-b05c-fee2426851cc",
   "metadata": {},
   "source": [
    "# 3. What is the value of spam [int(int('3' * 2)/11)]?"
   ]
  },
  {
   "cell_type": "code",
   "execution_count": 7,
   "id": "20bbe30a-063d-43ad-b1f3-4dfb1c38be78",
   "metadata": {},
   "outputs": [
    {
     "data": {
      "text/plain": [
       "'d'"
      ]
     },
     "execution_count": 7,
     "metadata": {},
     "output_type": "execute_result"
    }
   ],
   "source": [
    "spam = ['a','b','c','d']\n",
    "\n",
    "spam[int(int('3'*2)/11)]"
   ]
  },
  {
   "cell_type": "markdown",
   "id": "82e3e7e8-39f1-4761-a77f-98f8cd13a263",
   "metadata": {},
   "source": [
    "# 4. What is the value of spam[-1]?"
   ]
  },
  {
   "cell_type": "code",
   "execution_count": 14,
   "id": "ac9e6ab3-30cc-4c5c-9ccc-7ad5c9a900aa",
   "metadata": {},
   "outputs": [
    {
     "data": {
      "text/plain": [
       "'d'"
      ]
     },
     "execution_count": 14,
     "metadata": {},
     "output_type": "execute_result"
    }
   ],
   "source": [
    "spam[-1]"
   ]
  },
  {
   "cell_type": "markdown",
   "id": "5bbcd982-7547-4807-9acd-7412d608071c",
   "metadata": {},
   "source": [
    "# 5. What is the value of spam[:2]?"
   ]
  },
  {
   "cell_type": "code",
   "execution_count": 15,
   "id": "11d1ec3c-10e1-409a-ae4f-913fd76d9762",
   "metadata": {},
   "outputs": [
    {
     "data": {
      "text/plain": [
       "['a', 'b']"
      ]
     },
     "execution_count": 15,
     "metadata": {},
     "output_type": "execute_result"
    }
   ],
   "source": [
    "spam[:2]"
   ]
  },
  {
   "cell_type": "markdown",
   "id": "241b4427-773b-4666-9260-bb05bd297c95",
   "metadata": {},
   "source": [
    "# -> Let's pretend bacon has the list [3.14, 'cat' ,11, 'cat' ,True] for the next three questions."
   ]
  },
  {
   "cell_type": "markdown",
   "id": "7247cb42-8434-45e4-8d8d-821c5a003173",
   "metadata": {},
   "source": [
    "# 6. What is the value of bacon.index('cat')?"
   ]
  },
  {
   "cell_type": "code",
   "execution_count": 28,
   "id": "aa156e0e-e341-4c57-990d-9eb05b7334d4",
   "metadata": {},
   "outputs": [
    {
     "data": {
      "text/plain": [
       "1"
      ]
     },
     "execution_count": 28,
     "metadata": {},
     "output_type": "execute_result"
    }
   ],
   "source": [
    "bacon = [3.14, 'cat', 11, 'cat', True]\n",
    "\n",
    "bacon.index('cat')"
   ]
  },
  {
   "cell_type": "markdown",
   "id": "a172018e-0486-485a-83b1-ce2e85590289",
   "metadata": {},
   "source": [
    "# 7. How does bacon.append(99) change the look of the list value in bacon?"
   ]
  },
  {
   "cell_type": "code",
   "execution_count": 29,
   "id": "cb14d74b-2956-4c93-ac10-a4e632d884d1",
   "metadata": {},
   "outputs": [
    {
     "data": {
      "text/plain": [
       "[3.14, 'cat', 11, 'cat', True, 99]"
      ]
     },
     "execution_count": 29,
     "metadata": {},
     "output_type": "execute_result"
    }
   ],
   "source": [
    "bacon.append(99)\n",
    "\n",
    "bacon"
   ]
  },
  {
   "cell_type": "markdown",
   "id": "64dc8f0b-8b18-4aa0-abb0-4db9895daeb7",
   "metadata": {},
   "source": [
    "Element which will be appended into the list will always be placed at the end of the list"
   ]
  },
  {
   "cell_type": "markdown",
   "id": "b7d26ff7-e11d-4477-8630-4cf394c153db",
   "metadata": {},
   "source": [
    "# 8. How does bacon.remove('cat') change the look of the list in bacon?"
   ]
  },
  {
   "cell_type": "code",
   "execution_count": 30,
   "id": "c6359773-20c1-44c2-80c0-cfbf6163d0c0",
   "metadata": {},
   "outputs": [
    {
     "data": {
      "text/plain": [
       "[3.14, 11, 'cat', True, 99]"
      ]
     },
     "execution_count": 30,
     "metadata": {},
     "output_type": "execute_result"
    }
   ],
   "source": [
    "bacon.remove('cat')\n",
    "\n",
    "bacon"
   ]
  },
  {
   "cell_type": "markdown",
   "id": "ac0ab676-3d9e-4f45-a7e5-ff4ed242c839",
   "metadata": {},
   "source": [
    "If .remove function is used to same elements of same list,  then the first available will be removed."
   ]
  },
  {
   "cell_type": "markdown",
   "id": "82be2c39-4c4b-45a4-a1fc-ccef9a8fb347",
   "metadata": {},
   "source": [
    "# 9. What are the list concatenation and list replication operators?"
   ]
  },
  {
   "cell_type": "markdown",
   "id": "dbe635c7-59b8-42a9-bc5a-7bae02b02a35",
   "metadata": {},
   "source": [
    "`+` = Operator for list concatenation\n",
    "\n",
    "`*` = Operator for list replication"
   ]
  },
  {
   "cell_type": "code",
   "execution_count": 31,
   "id": "b6e746c2-a60f-4365-9bde-e378271bd154",
   "metadata": {},
   "outputs": [
    {
     "data": {
      "text/plain": [
       "[1, 'Apple', (2+3j), True]"
      ]
     },
     "execution_count": 31,
     "metadata": {},
     "output_type": "execute_result"
    }
   ],
   "source": [
    "# Example for list concatenation\n",
    "\n",
    "l1 = [1 , \"Apple\" ]\n",
    "l2 = [2+3j, True]\n",
    "\n",
    "l3 = l1 + l2\n",
    "\n",
    "l3"
   ]
  },
  {
   "cell_type": "code",
   "execution_count": 33,
   "id": "6f749ad7-3515-49b6-901f-9c5f835c3402",
   "metadata": {},
   "outputs": [
    {
     "data": {
      "text/plain": [
       "[(1, 2, 3), (1, 2, 3), (1, 2, 3)]"
      ]
     },
     "execution_count": 33,
     "metadata": {},
     "output_type": "execute_result"
    }
   ],
   "source": [
    "# Example for list replication\n",
    "\n",
    "lst = [(1,2,3)]\n",
    "\n",
    "lst1 = lst * 3\n",
    "\n",
    "lst1"
   ]
  },
  {
   "cell_type": "markdown",
   "id": "9a6131a4-e5cc-4878-95ce-16132b6957a0",
   "metadata": {},
   "source": [
    "# 10. What is difference between the list methods append() and insert()?"
   ]
  },
  {
   "cell_type": "markdown",
   "id": "6621347f-aaf5-4799-a5be-4e8c222feecc",
   "metadata": {},
   "source": [
    "`append()` = It adds the element at the end of the list\n",
    "\n",
    "`insert()` = It adds the spcific element at the soecific index"
   ]
  },
  {
   "cell_type": "code",
   "execution_count": 34,
   "id": "db603a65-6972-4a03-b144-10ba49b9dcdb",
   "metadata": {},
   "outputs": [
    {
     "data": {
      "text/plain": [
       "[1, 'abc', (2-6j), 'False']"
      ]
     },
     "execution_count": 34,
     "metadata": {},
     "output_type": "execute_result"
    }
   ],
   "source": [
    "# Example for append()\n",
    "\n",
    "a = [1 , 'abc', 2-6j]\n",
    "    \n",
    "a.append('False')\n",
    "\n",
    "a"
   ]
  },
  {
   "cell_type": "code",
   "execution_count": 38,
   "id": "36b8e2b0-9ba6-4851-a022-3c2caa976c18",
   "metadata": {},
   "outputs": [
    {
     "data": {
      "text/plain": [
       "[1, 2, 3, 4, 5, 6]"
      ]
     },
     "execution_count": 38,
     "metadata": {},
     "output_type": "execute_result"
    }
   ],
   "source": [
    "# Example for insert()\n",
    "\n",
    "b = [1, 2, 3, 5, 6]\n",
    "\n",
    "b.insert(3 , 4)\n",
    "\n",
    "b"
   ]
  },
  {
   "cell_type": "markdown",
   "id": "0023fe62-a801-4494-a951-df785145a929",
   "metadata": {},
   "source": [
    "# 11. What are the two methods for removing items from a list?"
   ]
  },
  {
   "cell_type": "markdown",
   "id": "7b7cc9a7-8e09-4b0c-8a99-9fb6b42302de",
   "metadata": {},
   "source": [
    "The two methods for removing items from list are:\n",
    "\n",
    "*1.* `remove()` = It removes the very first given element matching from the list.\n",
    "\n",
    "*2.* `pop()` = It removes the element from the list based on the index number given."
   ]
  },
  {
   "cell_type": "code",
   "execution_count": 50,
   "id": "d3308fa7-ab5d-43f0-a73a-05003ffcfa38",
   "metadata": {},
   "outputs": [
    {
     "data": {
      "text/plain": [
       "[1, 2, 3, 6]"
      ]
     },
     "execution_count": 50,
     "metadata": {},
     "output_type": "execute_result"
    }
   ],
   "source": [
    "# Example for remove()\n",
    "\n",
    "b = [1, 2, 3, 5, 6]\n",
    "\n",
    "b.remove(5)\n",
    "\n",
    "b"
   ]
  },
  {
   "cell_type": "code",
   "execution_count": 51,
   "id": "90ef001b-300f-4ac1-9303-733cce4410bd",
   "metadata": {},
   "outputs": [
    {
     "data": {
      "text/plain": [
       "[1, (2-6j)]"
      ]
     },
     "execution_count": 51,
     "metadata": {},
     "output_type": "execute_result"
    }
   ],
   "source": [
    "# Example for pop()\n",
    "\n",
    "a = [1 , 'abc', 2-6j]\n",
    "\n",
    "a.pop(1)\n",
    "\n",
    "a"
   ]
  },
  {
   "cell_type": "markdown",
   "id": "0d8eeff2-7be5-4018-bc56-943d48163e54",
   "metadata": {},
   "source": [
    "# 12. Describe how list values and string values are identical."
   ]
  },
  {
   "cell_type": "markdown",
   "id": "4dd8b851-8a28-487d-9e97-9cdde4ff48f5",
   "metadata": {},
   "source": [
    "list and string have lengths and also indices. The length of the string is defined based on the characters present in the string where as the list is defined based on the elements present in it. Using index methods specific characters and elements can be extracted from the string and the list respectively."
   ]
  },
  {
   "cell_type": "code",
   "execution_count": 11,
   "id": "7d4fa1b5-84ed-4711-870f-445a6a9dd1a3",
   "metadata": {},
   "outputs": [
    {
     "data": {
      "text/plain": [
       "(5+6j)"
      ]
     },
     "execution_count": 11,
     "metadata": {},
     "output_type": "execute_result"
    }
   ],
   "source": [
    "# list\n",
    "\n",
    "a = [1,'apple', 5+6j, False]\n",
    "\n",
    "a[2]"
   ]
  },
  {
   "cell_type": "code",
   "execution_count": 12,
   "id": "afe12289-0ebe-45a8-97f9-269d26fa18f2",
   "metadata": {},
   "outputs": [
    {
     "data": {
      "text/plain": [
       "'k'"
      ]
     },
     "execution_count": 12,
     "metadata": {},
     "output_type": "execute_result"
    }
   ],
   "source": [
    "# string\n",
    "\n",
    "b = \"ok\"\n",
    "\n",
    "b[1]"
   ]
  },
  {
   "cell_type": "markdown",
   "id": "07ec1b13-8713-49f4-a260-ba3beaebcfc4",
   "metadata": {},
   "source": [
    "# 13. What&#39;s the difference between tuples and lists?"
   ]
  },
  {
   "cell_type": "markdown",
   "id": "71c73e10-3a4d-4747-8163-7b8b9ff7011b",
   "metadata": {},
   "source": [
    "`tuple` = Immutable\n",
    "\n",
    "`lists` = Mutable"
   ]
  },
  {
   "cell_type": "markdown",
   "id": "0e039385-4ed1-4a7b-9a67-969fa260e903",
   "metadata": {},
   "source": [
    "# 14. How do you type a tuple value that only contains the integer 42?"
   ]
  },
  {
   "cell_type": "code",
   "execution_count": 10,
   "id": "d62a0e2c-bc24-449c-a5e3-5f0b382bd803",
   "metadata": {},
   "outputs": [
    {
     "data": {
      "text/plain": [
       "42"
      ]
     },
     "execution_count": 10,
     "metadata": {},
     "output_type": "execute_result"
    }
   ],
   "source": [
    "t = (42, 'apple', 2+3j, False)\n",
    "\n",
    "t[0]"
   ]
  },
  {
   "cell_type": "markdown",
   "id": "5c6b84cb-e97b-49bc-88c2-9d1dec6f7cb6",
   "metadata": {},
   "source": [
    "# 15. How do you get a list value's tuple form? How do you get a tuple value's list form?"
   ]
  },
  {
   "cell_type": "code",
   "execution_count": 8,
   "id": "5f108915-0dd7-4dec-9698-e8a46bb9d56c",
   "metadata": {},
   "outputs": [
    {
     "data": {
      "text/plain": [
       "(1, 'apple', (2+3j), True)"
      ]
     },
     "execution_count": 8,
     "metadata": {},
     "output_type": "execute_result"
    }
   ],
   "source": [
    "# list value's tuple form\n",
    "\n",
    "a = [1, 'apple', 2+3j, True]\n",
    "\n",
    "b = tuple(a)\n",
    "\n",
    "b"
   ]
  },
  {
   "cell_type": "code",
   "execution_count": 9,
   "id": "ff0dd38a-bb97-4572-98ad-bd18ed03ad27",
   "metadata": {},
   "outputs": [
    {
     "data": {
      "text/plain": [
       "[1, 'apple', (2+3j), True]"
      ]
     },
     "execution_count": 9,
     "metadata": {},
     "output_type": "execute_result"
    }
   ],
   "source": [
    "# tuple value's list form\n",
    "\n",
    "b = (1, 'apple', 2+3j, True)\n",
    "\n",
    "a = list(b)\n",
    "\n",
    "a"
   ]
  },
  {
   "cell_type": "markdown",
   "id": "d626345e-9b93-4183-8212-e5f40efb0eb3",
   "metadata": {},
   "source": [
    "# 16. Variables that \"contain\" list values are not necessarily lists themselves. Instead, what do they contain?"
   ]
  },
  {
   "cell_type": "markdown",
   "id": "8f9cf600-49d7-4ad5-901a-f596691935ab",
   "metadata": {},
   "source": [
    "They contain references to list values"
   ]
  },
  {
   "cell_type": "markdown",
   "id": "2f47498d-5ce6-4196-a167-e3c32376de63",
   "metadata": {},
   "source": [
    "# 17. How do you distinguish between copy.copy() and copy.deepcopy()?"
   ]
  },
  {
   "cell_type": "markdown",
   "id": "0dc5d4b8-e13d-4663-a5d4-020eff5967c0",
   "metadata": {},
   "source": [
    "**copy.copy()** = A shallow copy contructs a new compound object and then inserts references into it to the objects found in the original.\n",
    "\n",
    "**copy.deepcopy()** = Deep copy of an object is a copy whose properties do not share the same references as those of the source objectfrom which yhe copy was made"
   ]
  }
 ],
 "metadata": {
  "kernelspec": {
   "display_name": "Python 3 (ipykernel)",
   "language": "python",
   "name": "python3"
  },
  "language_info": {
   "codemirror_mode": {
    "name": "ipython",
    "version": 3
   },
   "file_extension": ".py",
   "mimetype": "text/x-python",
   "name": "python",
   "nbconvert_exporter": "python",
   "pygments_lexer": "ipython3",
   "version": "3.10.6"
  }
 },
 "nbformat": 4,
 "nbformat_minor": 5
}
